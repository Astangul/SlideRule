{
 "cells": [
  {
   "cell_type": "code",
   "execution_count": 12,
   "metadata": {},
   "outputs": [],
   "source": [
    "import sys\n",
    "import pandas as pd\n",
    "\n",
    "sys.path.append('../utils')\n",
    "from plot_functions_notebook import create_filter_plot, plot_categorical_bar_chart, plot_ratio_by_configurations\n",
    "\n",
    "# Charger vos données\n",
    "data = pd.read_excel(\"../DB/All-at-once_DB.xlsx\", sheet_name='screen')"
   ]
  },
  {
   "cell_type": "code",
   "execution_count": 13,
   "metadata": {},
   "outputs": [
    {
     "data": {
      "application/vnd.jupyter.widget-view+json": {
       "model_id": "2e4bc67954cd4ac28669e005f9299eef",
       "version_major": 2,
       "version_minor": 0
      },
      "text/plain": [
       "Output()"
      ]
     },
     "metadata": {},
     "output_type": "display_data"
    },
    {
     "data": {
      "application/vnd.plotly.v1+json": {
       "config": {
        "plotlyServerURL": "https://plot.ly"
       },
       "data": [
        {
         "error_y": {
          "array": [
           0.03127854803996013,
           0.01576326495214555,
           0.004464948497810471,
           0.0017276145990076208,
           0.0007122396442963484,
           0.00019617954775135227,
           0.00005430847414702186,
           0.000008545867492809653,
           0.0000036291624463246278,
           3.91865898973115e-7,
           8.060741065306221e-8,
           8.195869721514821e-9,
           1.6042012931513586e-9
          ],
          "type": "data",
          "visible": true
         },
         "line": {
          "dash": "dash"
         },
         "mode": "lines+markers",
         "name": "N_None_MCNP 6.1_C1 [U(4.95)O2F2 (H/235U = 410)]_0",
         "type": "scatter",
         "x": [
          1,
          2,
          5,
          10,
          20,
          50,
          100,
          200,
          300,
          500,
          700,
          1000,
          1200
         ],
         "y": [
          9.19957295292945,
          3.15265299042911,
          0.6201317358070099,
          0.16298250934034159,
          0.042395216922401696,
          0.00715983750917344,
          0.001740656222660957,
          0.000333822948937877,
          0.0001031012058614951,
          0.000015427791298154134,
          0.00000305331100958569,
          3.226720362801111e-7,
          7.71250621707384e-8
         ]
        }
       ],
       "layout": {
        "legend": {
         "title": {
          "text": ""
         }
        },
        "showlegend": true,
        "template": {
         "data": {
          "bar": [
           {
            "error_x": {
             "color": "#2a3f5f"
            },
            "error_y": {
             "color": "#2a3f5f"
            },
            "marker": {
             "line": {
              "color": "#E5ECF6",
              "width": 0.5
             },
             "pattern": {
              "fillmode": "overlay",
              "size": 10,
              "solidity": 0.2
             }
            },
            "type": "bar"
           }
          ],
          "barpolar": [
           {
            "marker": {
             "line": {
              "color": "#E5ECF6",
              "width": 0.5
             },
             "pattern": {
              "fillmode": "overlay",
              "size": 10,
              "solidity": 0.2
             }
            },
            "type": "barpolar"
           }
          ],
          "carpet": [
           {
            "aaxis": {
             "endlinecolor": "#2a3f5f",
             "gridcolor": "white",
             "linecolor": "white",
             "minorgridcolor": "white",
             "startlinecolor": "#2a3f5f"
            },
            "baxis": {
             "endlinecolor": "#2a3f5f",
             "gridcolor": "white",
             "linecolor": "white",
             "minorgridcolor": "white",
             "startlinecolor": "#2a3f5f"
            },
            "type": "carpet"
           }
          ],
          "choropleth": [
           {
            "colorbar": {
             "outlinewidth": 0,
             "ticks": ""
            },
            "type": "choropleth"
           }
          ],
          "contour": [
           {
            "colorbar": {
             "outlinewidth": 0,
             "ticks": ""
            },
            "colorscale": [
             [
              0,
              "#0d0887"
             ],
             [
              0.1111111111111111,
              "#46039f"
             ],
             [
              0.2222222222222222,
              "#7201a8"
             ],
             [
              0.3333333333333333,
              "#9c179e"
             ],
             [
              0.4444444444444444,
              "#bd3786"
             ],
             [
              0.5555555555555556,
              "#d8576b"
             ],
             [
              0.6666666666666666,
              "#ed7953"
             ],
             [
              0.7777777777777778,
              "#fb9f3a"
             ],
             [
              0.8888888888888888,
              "#fdca26"
             ],
             [
              1,
              "#f0f921"
             ]
            ],
            "type": "contour"
           }
          ],
          "contourcarpet": [
           {
            "colorbar": {
             "outlinewidth": 0,
             "ticks": ""
            },
            "type": "contourcarpet"
           }
          ],
          "heatmap": [
           {
            "colorbar": {
             "outlinewidth": 0,
             "ticks": ""
            },
            "colorscale": [
             [
              0,
              "#0d0887"
             ],
             [
              0.1111111111111111,
              "#46039f"
             ],
             [
              0.2222222222222222,
              "#7201a8"
             ],
             [
              0.3333333333333333,
              "#9c179e"
             ],
             [
              0.4444444444444444,
              "#bd3786"
             ],
             [
              0.5555555555555556,
              "#d8576b"
             ],
             [
              0.6666666666666666,
              "#ed7953"
             ],
             [
              0.7777777777777778,
              "#fb9f3a"
             ],
             [
              0.8888888888888888,
              "#fdca26"
             ],
             [
              1,
              "#f0f921"
             ]
            ],
            "type": "heatmap"
           }
          ],
          "heatmapgl": [
           {
            "colorbar": {
             "outlinewidth": 0,
             "ticks": ""
            },
            "colorscale": [
             [
              0,
              "#0d0887"
             ],
             [
              0.1111111111111111,
              "#46039f"
             ],
             [
              0.2222222222222222,
              "#7201a8"
             ],
             [
              0.3333333333333333,
              "#9c179e"
             ],
             [
              0.4444444444444444,
              "#bd3786"
             ],
             [
              0.5555555555555556,
              "#d8576b"
             ],
             [
              0.6666666666666666,
              "#ed7953"
             ],
             [
              0.7777777777777778,
              "#fb9f3a"
             ],
             [
              0.8888888888888888,
              "#fdca26"
             ],
             [
              1,
              "#f0f921"
             ]
            ],
            "type": "heatmapgl"
           }
          ],
          "histogram": [
           {
            "marker": {
             "pattern": {
              "fillmode": "overlay",
              "size": 10,
              "solidity": 0.2
             }
            },
            "type": "histogram"
           }
          ],
          "histogram2d": [
           {
            "colorbar": {
             "outlinewidth": 0,
             "ticks": ""
            },
            "colorscale": [
             [
              0,
              "#0d0887"
             ],
             [
              0.1111111111111111,
              "#46039f"
             ],
             [
              0.2222222222222222,
              "#7201a8"
             ],
             [
              0.3333333333333333,
              "#9c179e"
             ],
             [
              0.4444444444444444,
              "#bd3786"
             ],
             [
              0.5555555555555556,
              "#d8576b"
             ],
             [
              0.6666666666666666,
              "#ed7953"
             ],
             [
              0.7777777777777778,
              "#fb9f3a"
             ],
             [
              0.8888888888888888,
              "#fdca26"
             ],
             [
              1,
              "#f0f921"
             ]
            ],
            "type": "histogram2d"
           }
          ],
          "histogram2dcontour": [
           {
            "colorbar": {
             "outlinewidth": 0,
             "ticks": ""
            },
            "colorscale": [
             [
              0,
              "#0d0887"
             ],
             [
              0.1111111111111111,
              "#46039f"
             ],
             [
              0.2222222222222222,
              "#7201a8"
             ],
             [
              0.3333333333333333,
              "#9c179e"
             ],
             [
              0.4444444444444444,
              "#bd3786"
             ],
             [
              0.5555555555555556,
              "#d8576b"
             ],
             [
              0.6666666666666666,
              "#ed7953"
             ],
             [
              0.7777777777777778,
              "#fb9f3a"
             ],
             [
              0.8888888888888888,
              "#fdca26"
             ],
             [
              1,
              "#f0f921"
             ]
            ],
            "type": "histogram2dcontour"
           }
          ],
          "mesh3d": [
           {
            "colorbar": {
             "outlinewidth": 0,
             "ticks": ""
            },
            "type": "mesh3d"
           }
          ],
          "parcoords": [
           {
            "line": {
             "colorbar": {
              "outlinewidth": 0,
              "ticks": ""
             }
            },
            "type": "parcoords"
           }
          ],
          "pie": [
           {
            "automargin": true,
            "type": "pie"
           }
          ],
          "scatter": [
           {
            "fillpattern": {
             "fillmode": "overlay",
             "size": 10,
             "solidity": 0.2
            },
            "type": "scatter"
           }
          ],
          "scatter3d": [
           {
            "line": {
             "colorbar": {
              "outlinewidth": 0,
              "ticks": ""
             }
            },
            "marker": {
             "colorbar": {
              "outlinewidth": 0,
              "ticks": ""
             }
            },
            "type": "scatter3d"
           }
          ],
          "scattercarpet": [
           {
            "marker": {
             "colorbar": {
              "outlinewidth": 0,
              "ticks": ""
             }
            },
            "type": "scattercarpet"
           }
          ],
          "scattergeo": [
           {
            "marker": {
             "colorbar": {
              "outlinewidth": 0,
              "ticks": ""
             }
            },
            "type": "scattergeo"
           }
          ],
          "scattergl": [
           {
            "marker": {
             "colorbar": {
              "outlinewidth": 0,
              "ticks": ""
             }
            },
            "type": "scattergl"
           }
          ],
          "scattermapbox": [
           {
            "marker": {
             "colorbar": {
              "outlinewidth": 0,
              "ticks": ""
             }
            },
            "type": "scattermapbox"
           }
          ],
          "scatterpolar": [
           {
            "marker": {
             "colorbar": {
              "outlinewidth": 0,
              "ticks": ""
             }
            },
            "type": "scatterpolar"
           }
          ],
          "scatterpolargl": [
           {
            "marker": {
             "colorbar": {
              "outlinewidth": 0,
              "ticks": ""
             }
            },
            "type": "scatterpolargl"
           }
          ],
          "scatterternary": [
           {
            "marker": {
             "colorbar": {
              "outlinewidth": 0,
              "ticks": ""
             }
            },
            "type": "scatterternary"
           }
          ],
          "surface": [
           {
            "colorbar": {
             "outlinewidth": 0,
             "ticks": ""
            },
            "colorscale": [
             [
              0,
              "#0d0887"
             ],
             [
              0.1111111111111111,
              "#46039f"
             ],
             [
              0.2222222222222222,
              "#7201a8"
             ],
             [
              0.3333333333333333,
              "#9c179e"
             ],
             [
              0.4444444444444444,
              "#bd3786"
             ],
             [
              0.5555555555555556,
              "#d8576b"
             ],
             [
              0.6666666666666666,
              "#ed7953"
             ],
             [
              0.7777777777777778,
              "#fb9f3a"
             ],
             [
              0.8888888888888888,
              "#fdca26"
             ],
             [
              1,
              "#f0f921"
             ]
            ],
            "type": "surface"
           }
          ],
          "table": [
           {
            "cells": {
             "fill": {
              "color": "#EBF0F8"
             },
             "line": {
              "color": "white"
             }
            },
            "header": {
             "fill": {
              "color": "#C8D4E3"
             },
             "line": {
              "color": "white"
             }
            },
            "type": "table"
           }
          ]
         },
         "layout": {
          "annotationdefaults": {
           "arrowcolor": "#2a3f5f",
           "arrowhead": 0,
           "arrowwidth": 1
          },
          "autotypenumbers": "strict",
          "coloraxis": {
           "colorbar": {
            "outlinewidth": 0,
            "ticks": ""
           }
          },
          "colorscale": {
           "diverging": [
            [
             0,
             "#8e0152"
            ],
            [
             0.1,
             "#c51b7d"
            ],
            [
             0.2,
             "#de77ae"
            ],
            [
             0.3,
             "#f1b6da"
            ],
            [
             0.4,
             "#fde0ef"
            ],
            [
             0.5,
             "#f7f7f7"
            ],
            [
             0.6,
             "#e6f5d0"
            ],
            [
             0.7,
             "#b8e186"
            ],
            [
             0.8,
             "#7fbc41"
            ],
            [
             0.9,
             "#4d9221"
            ],
            [
             1,
             "#276419"
            ]
           ],
           "sequential": [
            [
             0,
             "#0d0887"
            ],
            [
             0.1111111111111111,
             "#46039f"
            ],
            [
             0.2222222222222222,
             "#7201a8"
            ],
            [
             0.3333333333333333,
             "#9c179e"
            ],
            [
             0.4444444444444444,
             "#bd3786"
            ],
            [
             0.5555555555555556,
             "#d8576b"
            ],
            [
             0.6666666666666666,
             "#ed7953"
            ],
            [
             0.7777777777777778,
             "#fb9f3a"
            ],
            [
             0.8888888888888888,
             "#fdca26"
            ],
            [
             1,
             "#f0f921"
            ]
           ],
           "sequentialminus": [
            [
             0,
             "#0d0887"
            ],
            [
             0.1111111111111111,
             "#46039f"
            ],
            [
             0.2222222222222222,
             "#7201a8"
            ],
            [
             0.3333333333333333,
             "#9c179e"
            ],
            [
             0.4444444444444444,
             "#bd3786"
            ],
            [
             0.5555555555555556,
             "#d8576b"
            ],
            [
             0.6666666666666666,
             "#ed7953"
            ],
            [
             0.7777777777777778,
             "#fb9f3a"
            ],
            [
             0.8888888888888888,
             "#fdca26"
            ],
            [
             1,
             "#f0f921"
            ]
           ]
          },
          "colorway": [
           "#636efa",
           "#EF553B",
           "#00cc96",
           "#ab63fa",
           "#FFA15A",
           "#19d3f3",
           "#FF6692",
           "#B6E880",
           "#FF97FF",
           "#FECB52"
          ],
          "font": {
           "color": "#2a3f5f"
          },
          "geo": {
           "bgcolor": "white",
           "lakecolor": "white",
           "landcolor": "#E5ECF6",
           "showlakes": true,
           "showland": true,
           "subunitcolor": "white"
          },
          "hoverlabel": {
           "align": "left"
          },
          "hovermode": "closest",
          "mapbox": {
           "style": "light"
          },
          "paper_bgcolor": "white",
          "plot_bgcolor": "#E5ECF6",
          "polar": {
           "angularaxis": {
            "gridcolor": "white",
            "linecolor": "white",
            "ticks": ""
           },
           "bgcolor": "#E5ECF6",
           "radialaxis": {
            "gridcolor": "white",
            "linecolor": "white",
            "ticks": ""
           }
          },
          "scene": {
           "xaxis": {
            "backgroundcolor": "#E5ECF6",
            "gridcolor": "white",
            "gridwidth": 2,
            "linecolor": "white",
            "showbackground": true,
            "ticks": "",
            "zerolinecolor": "white"
           },
           "yaxis": {
            "backgroundcolor": "#E5ECF6",
            "gridcolor": "white",
            "gridwidth": 2,
            "linecolor": "white",
            "showbackground": true,
            "ticks": "",
            "zerolinecolor": "white"
           },
           "zaxis": {
            "backgroundcolor": "#E5ECF6",
            "gridcolor": "white",
            "gridwidth": 2,
            "linecolor": "white",
            "showbackground": true,
            "ticks": "",
            "zerolinecolor": "white"
           }
          },
          "shapedefaults": {
           "line": {
            "color": "#2a3f5f"
           }
          },
          "ternary": {
           "aaxis": {
            "gridcolor": "white",
            "linecolor": "white",
            "ticks": ""
           },
           "baxis": {
            "gridcolor": "white",
            "linecolor": "white",
            "ticks": ""
           },
           "bgcolor": "#E5ECF6",
           "caxis": {
            "gridcolor": "white",
            "linecolor": "white",
            "ticks": ""
           }
          },
          "title": {
           "x": 0.05
          },
          "xaxis": {
           "automargin": true,
           "gridcolor": "white",
           "linecolor": "white",
           "ticks": "",
           "title": {
            "standoff": 15
           },
           "zerolinecolor": "white",
           "zerolinewidth": 2
          },
          "yaxis": {
           "automargin": true,
           "gridcolor": "white",
           "linecolor": "white",
           "ticks": "",
           "title": {
            "standoff": 15
           },
           "zerolinecolor": "white",
           "zerolinewidth": 2
          }
         }
        },
        "title": {
         "text": "Dose vs. Distances"
        },
        "xaxis": {
         "title": {
          "text": "Distance (m) [Log]"
         },
         "type": "log"
        },
        "yaxis": {
         "tickformat": ".2e",
         "title": {
          "text": "Dose (Gy) [Log]"
         },
         "type": "log"
        }
       }
      }
     },
     "metadata": {},
     "output_type": "display_data"
    },
    {
     "data": {
      "application/vnd.jupyter.widget-view+json": {
       "model_id": "1c71a33bfc7441f6b45418add5f1e36d",
       "version_major": 2,
       "version_minor": 0
      },
      "text/plain": [
       "VBox(children=(SelectMultiple(description='Particle:', index=(0,), options=('N', 'P'), value=('N',)), SelectMu…"
      ]
     },
     "metadata": {},
     "output_type": "display_data"
    }
   ],
   "source": [
    "create_filter_plot(data)"
   ]
  },
  {
   "cell_type": "code",
   "execution_count": 3,
   "metadata": {},
   "outputs": [],
   "source": [
    "particles = ['N']  # ['N', 'P']  \n",
    "screens = ['Lead'] # ['Concrete', 'Steel', 'Water', 'Lead']\n",
    "cases = ['C1 [U(4.95)O2F2 (H/235U = 410)]']  # ['C1 [U(4.95)O2F2 (H/235U = 410)]', 'C4 [U(93.2) (H/235U = 0)]']\n",
    "codes = ['MCNP 6.1']  #  ['MCNP 6.1', 'COG 11.2', 'SCALE 6.2.2']\n",
    "thicknesses = [] # [1, 5, 10, 20]"
   ]
  },
  {
   "cell_type": "code",
   "execution_count": null,
   "metadata": {},
   "outputs": [],
   "source": [
    "particles = ['P']  # ['N', 'P']  \n",
    "screens = ['Lead'] # ['Concrete', 'Steel', 'Water', 'Lead']\n",
    "cases = ['C1 [U(4.95)O2F2 (H/235U = 410)]']  # ['C1 [U(4.95)O2F2 (H/235U = 410)]', 'C4 [U(93.2) (H/235U = 0)]']\n",
    "codes = ['MCNP 6.1']  #  ['MCNP 6.1', 'COG 11.2', 'SCALE 6.2.2']\n",
    "thicknesses = [5, 10, 20] # [1, 5, 10, 20]"
   ]
  },
  {
   "cell_type": "code",
   "execution_count": 4,
   "metadata": {},
   "outputs": [
    {
     "data": {
      "application/vnd.plotly.v1+json": {
       "config": {
        "plotlyServerURL": "https://plot.ly"
       },
       "data": [
        {
         "error_y": {
          "array": [
           0.031127635180450516,
           0.02619127515942831,
           0.039181116157833894,
           0.04456218331644108,
           0.028918192706161538,
           0.03768669871836866,
           0.04326328706380039,
           0.034895016423417906,
           0.03939342866401659,
           0.03154104957618694,
           0.03417681516167446,
           0.04127649417012178,
           0.02919090550985933
          ],
          "type": "data",
          "visible": true
         },
         "mode": "lines+markers",
         "name": "C1 [U(4.95)O2F2 (H/235U = 410)] - MCNP 6.1 - Lead - 1cm - N",
         "type": "scatter",
         "x": [
          1,
          2,
          5,
          10,
          20,
          50,
          100,
          200,
          300,
          500,
          700,
          1000,
          1200
         ],
         "y": [
          1.0110212517877153,
          0.967687302717955,
          0.9782447991326564,
          1.0151076052777441,
          0.9600858135605705,
          0.9411680076326303,
          0.9024158336048235,
          0.9676201181925197,
          0.9586847555010302,
          0.9943576449501887,
          1.0094004660876406,
          1.0582603286568273,
          1.0511484559070265
         ]
        },
        {
         "error_y": {
          "array": [
           0.02118640598384603,
           0.023382568411870655,
           0.026814384610599033,
           0.02580825379436164,
           0.02010885152789554,
           0.027357104679487824,
           0.031008986013097845,
           0.02508283251172437,
           0.03250162085809827,
           0.0218894291057497,
           0.026335368242495473,
           0.021424873658784628,
           0.01843421460998159
          ],
          "type": "data",
          "visible": true
         },
         "mode": "lines+markers",
         "name": "C1 [U(4.95)O2F2 (H/235U = 410)] - MCNP 6.1 - Lead - 5cm - N",
         "type": "scatter",
         "x": [
          1,
          2,
          5,
          10,
          20,
          50,
          100,
          200,
          300,
          500,
          700,
          1000,
          1200
         ],
         "y": [
          0.919065608640222,
          0.8897466258277449,
          0.8636869346101264,
          0.8307970852153136,
          0.8264687067649533,
          0.8064505704291465,
          0.7635180421153576,
          0.8044494698925382,
          0.8314529112441527,
          0.7695913437084991,
          0.8154810950104301,
          0.7695446055334744,
          0.7865525550615373
         ]
        },
        {
         "error_y": {
          "array": [
           0.013468059872185495,
           0.016900108402982207,
           0.01890588271633453,
           0.016578518717405268,
           0.015746659211490648,
           0.020144565654643898,
           0.022438046526520327,
           0.018586055396763543,
           0.025343795743246383,
           0.017344128432593735,
           0.01647757848028986,
           0.015166244837646656,
           0.013102985093977162
          ],
          "type": "data",
          "visible": true
         },
         "mode": "lines+markers",
         "name": "C1 [U(4.95)O2F2 (H/235U = 410)] - MCNP 6.1 - Lead - 10cm - N",
         "type": "scatter",
         "x": [
          1,
          2,
          5,
          10,
          20,
          50,
          100,
          200,
          300,
          500,
          700,
          1000,
          1200
         ],
         "y": [
          0.7768540735125541,
          0.7426628388021236,
          0.73758873395843,
          0.6839192540479092,
          0.6909354185762187,
          0.6448911282737938,
          0.6072148337748268,
          0.6553981224000531,
          0.6439823873837355,
          0.6247956230453059,
          0.5907649965191597,
          0.565558298303507,
          0.574052199524788
         ]
        },
        {
         "error_y": {
          "array": [
           0.007072907194185926,
           0.009249048308262436,
           0.00849702547890065,
           0.007856779757704895,
           0.008626829077768506,
           0.012630324272626814,
           0.01456286812487495,
           0.011576347926072946,
           0.015521579800732791,
           0.010659051846768866,
           0.010171170210713483,
           0.00850715347205133,
           0.006607372215830103
          ],
          "type": "data",
          "visible": true
         },
         "mode": "lines+markers",
         "name": "C1 [U(4.95)O2F2 (H/235U = 410)] - MCNP 6.1 - Lead - 20cm - N",
         "type": "scatter",
         "x": [
          1,
          2,
          5,
          10,
          20,
          50,
          100,
          200,
          300,
          500,
          700,
          1000,
          1200
         ],
         "y": [
          0.5584647651151379,
          0.5334963552714083,
          0.4793012352802461,
          0.46839624139983993,
          0.4481242911226802,
          0.4407154762964695,
          0.4402009120528988,
          0.4353118052571391,
          0.43051103825838255,
          0.4045654418919541,
          0.3730938339813885,
          0.32862077572325044,
          0.30817752888731814
         ]
        }
       ],
       "layout": {
        "legend": {
         "orientation": "v",
         "traceorder": "normal",
         "x": 1,
         "xanchor": "left",
         "y": 1,
         "yanchor": "middle"
        },
        "template": {
         "data": {
          "bar": [
           {
            "error_x": {
             "color": "#2a3f5f"
            },
            "error_y": {
             "color": "#2a3f5f"
            },
            "marker": {
             "line": {
              "color": "#E5ECF6",
              "width": 0.5
             },
             "pattern": {
              "fillmode": "overlay",
              "size": 10,
              "solidity": 0.2
             }
            },
            "type": "bar"
           }
          ],
          "barpolar": [
           {
            "marker": {
             "line": {
              "color": "#E5ECF6",
              "width": 0.5
             },
             "pattern": {
              "fillmode": "overlay",
              "size": 10,
              "solidity": 0.2
             }
            },
            "type": "barpolar"
           }
          ],
          "carpet": [
           {
            "aaxis": {
             "endlinecolor": "#2a3f5f",
             "gridcolor": "white",
             "linecolor": "white",
             "minorgridcolor": "white",
             "startlinecolor": "#2a3f5f"
            },
            "baxis": {
             "endlinecolor": "#2a3f5f",
             "gridcolor": "white",
             "linecolor": "white",
             "minorgridcolor": "white",
             "startlinecolor": "#2a3f5f"
            },
            "type": "carpet"
           }
          ],
          "choropleth": [
           {
            "colorbar": {
             "outlinewidth": 0,
             "ticks": ""
            },
            "type": "choropleth"
           }
          ],
          "contour": [
           {
            "colorbar": {
             "outlinewidth": 0,
             "ticks": ""
            },
            "colorscale": [
             [
              0,
              "#0d0887"
             ],
             [
              0.1111111111111111,
              "#46039f"
             ],
             [
              0.2222222222222222,
              "#7201a8"
             ],
             [
              0.3333333333333333,
              "#9c179e"
             ],
             [
              0.4444444444444444,
              "#bd3786"
             ],
             [
              0.5555555555555556,
              "#d8576b"
             ],
             [
              0.6666666666666666,
              "#ed7953"
             ],
             [
              0.7777777777777778,
              "#fb9f3a"
             ],
             [
              0.8888888888888888,
              "#fdca26"
             ],
             [
              1,
              "#f0f921"
             ]
            ],
            "type": "contour"
           }
          ],
          "contourcarpet": [
           {
            "colorbar": {
             "outlinewidth": 0,
             "ticks": ""
            },
            "type": "contourcarpet"
           }
          ],
          "heatmap": [
           {
            "colorbar": {
             "outlinewidth": 0,
             "ticks": ""
            },
            "colorscale": [
             [
              0,
              "#0d0887"
             ],
             [
              0.1111111111111111,
              "#46039f"
             ],
             [
              0.2222222222222222,
              "#7201a8"
             ],
             [
              0.3333333333333333,
              "#9c179e"
             ],
             [
              0.4444444444444444,
              "#bd3786"
             ],
             [
              0.5555555555555556,
              "#d8576b"
             ],
             [
              0.6666666666666666,
              "#ed7953"
             ],
             [
              0.7777777777777778,
              "#fb9f3a"
             ],
             [
              0.8888888888888888,
              "#fdca26"
             ],
             [
              1,
              "#f0f921"
             ]
            ],
            "type": "heatmap"
           }
          ],
          "heatmapgl": [
           {
            "colorbar": {
             "outlinewidth": 0,
             "ticks": ""
            },
            "colorscale": [
             [
              0,
              "#0d0887"
             ],
             [
              0.1111111111111111,
              "#46039f"
             ],
             [
              0.2222222222222222,
              "#7201a8"
             ],
             [
              0.3333333333333333,
              "#9c179e"
             ],
             [
              0.4444444444444444,
              "#bd3786"
             ],
             [
              0.5555555555555556,
              "#d8576b"
             ],
             [
              0.6666666666666666,
              "#ed7953"
             ],
             [
              0.7777777777777778,
              "#fb9f3a"
             ],
             [
              0.8888888888888888,
              "#fdca26"
             ],
             [
              1,
              "#f0f921"
             ]
            ],
            "type": "heatmapgl"
           }
          ],
          "histogram": [
           {
            "marker": {
             "pattern": {
              "fillmode": "overlay",
              "size": 10,
              "solidity": 0.2
             }
            },
            "type": "histogram"
           }
          ],
          "histogram2d": [
           {
            "colorbar": {
             "outlinewidth": 0,
             "ticks": ""
            },
            "colorscale": [
             [
              0,
              "#0d0887"
             ],
             [
              0.1111111111111111,
              "#46039f"
             ],
             [
              0.2222222222222222,
              "#7201a8"
             ],
             [
              0.3333333333333333,
              "#9c179e"
             ],
             [
              0.4444444444444444,
              "#bd3786"
             ],
             [
              0.5555555555555556,
              "#d8576b"
             ],
             [
              0.6666666666666666,
              "#ed7953"
             ],
             [
              0.7777777777777778,
              "#fb9f3a"
             ],
             [
              0.8888888888888888,
              "#fdca26"
             ],
             [
              1,
              "#f0f921"
             ]
            ],
            "type": "histogram2d"
           }
          ],
          "histogram2dcontour": [
           {
            "colorbar": {
             "outlinewidth": 0,
             "ticks": ""
            },
            "colorscale": [
             [
              0,
              "#0d0887"
             ],
             [
              0.1111111111111111,
              "#46039f"
             ],
             [
              0.2222222222222222,
              "#7201a8"
             ],
             [
              0.3333333333333333,
              "#9c179e"
             ],
             [
              0.4444444444444444,
              "#bd3786"
             ],
             [
              0.5555555555555556,
              "#d8576b"
             ],
             [
              0.6666666666666666,
              "#ed7953"
             ],
             [
              0.7777777777777778,
              "#fb9f3a"
             ],
             [
              0.8888888888888888,
              "#fdca26"
             ],
             [
              1,
              "#f0f921"
             ]
            ],
            "type": "histogram2dcontour"
           }
          ],
          "mesh3d": [
           {
            "colorbar": {
             "outlinewidth": 0,
             "ticks": ""
            },
            "type": "mesh3d"
           }
          ],
          "parcoords": [
           {
            "line": {
             "colorbar": {
              "outlinewidth": 0,
              "ticks": ""
             }
            },
            "type": "parcoords"
           }
          ],
          "pie": [
           {
            "automargin": true,
            "type": "pie"
           }
          ],
          "scatter": [
           {
            "fillpattern": {
             "fillmode": "overlay",
             "size": 10,
             "solidity": 0.2
            },
            "type": "scatter"
           }
          ],
          "scatter3d": [
           {
            "line": {
             "colorbar": {
              "outlinewidth": 0,
              "ticks": ""
             }
            },
            "marker": {
             "colorbar": {
              "outlinewidth": 0,
              "ticks": ""
             }
            },
            "type": "scatter3d"
           }
          ],
          "scattercarpet": [
           {
            "marker": {
             "colorbar": {
              "outlinewidth": 0,
              "ticks": ""
             }
            },
            "type": "scattercarpet"
           }
          ],
          "scattergeo": [
           {
            "marker": {
             "colorbar": {
              "outlinewidth": 0,
              "ticks": ""
             }
            },
            "type": "scattergeo"
           }
          ],
          "scattergl": [
           {
            "marker": {
             "colorbar": {
              "outlinewidth": 0,
              "ticks": ""
             }
            },
            "type": "scattergl"
           }
          ],
          "scattermapbox": [
           {
            "marker": {
             "colorbar": {
              "outlinewidth": 0,
              "ticks": ""
             }
            },
            "type": "scattermapbox"
           }
          ],
          "scatterpolar": [
           {
            "marker": {
             "colorbar": {
              "outlinewidth": 0,
              "ticks": ""
             }
            },
            "type": "scatterpolar"
           }
          ],
          "scatterpolargl": [
           {
            "marker": {
             "colorbar": {
              "outlinewidth": 0,
              "ticks": ""
             }
            },
            "type": "scatterpolargl"
           }
          ],
          "scatterternary": [
           {
            "marker": {
             "colorbar": {
              "outlinewidth": 0,
              "ticks": ""
             }
            },
            "type": "scatterternary"
           }
          ],
          "surface": [
           {
            "colorbar": {
             "outlinewidth": 0,
             "ticks": ""
            },
            "colorscale": [
             [
              0,
              "#0d0887"
             ],
             [
              0.1111111111111111,
              "#46039f"
             ],
             [
              0.2222222222222222,
              "#7201a8"
             ],
             [
              0.3333333333333333,
              "#9c179e"
             ],
             [
              0.4444444444444444,
              "#bd3786"
             ],
             [
              0.5555555555555556,
              "#d8576b"
             ],
             [
              0.6666666666666666,
              "#ed7953"
             ],
             [
              0.7777777777777778,
              "#fb9f3a"
             ],
             [
              0.8888888888888888,
              "#fdca26"
             ],
             [
              1,
              "#f0f921"
             ]
            ],
            "type": "surface"
           }
          ],
          "table": [
           {
            "cells": {
             "fill": {
              "color": "#EBF0F8"
             },
             "line": {
              "color": "white"
             }
            },
            "header": {
             "fill": {
              "color": "#C8D4E3"
             },
             "line": {
              "color": "white"
             }
            },
            "type": "table"
           }
          ]
         },
         "layout": {
          "annotationdefaults": {
           "arrowcolor": "#2a3f5f",
           "arrowhead": 0,
           "arrowwidth": 1
          },
          "autotypenumbers": "strict",
          "coloraxis": {
           "colorbar": {
            "outlinewidth": 0,
            "ticks": ""
           }
          },
          "colorscale": {
           "diverging": [
            [
             0,
             "#8e0152"
            ],
            [
             0.1,
             "#c51b7d"
            ],
            [
             0.2,
             "#de77ae"
            ],
            [
             0.3,
             "#f1b6da"
            ],
            [
             0.4,
             "#fde0ef"
            ],
            [
             0.5,
             "#f7f7f7"
            ],
            [
             0.6,
             "#e6f5d0"
            ],
            [
             0.7,
             "#b8e186"
            ],
            [
             0.8,
             "#7fbc41"
            ],
            [
             0.9,
             "#4d9221"
            ],
            [
             1,
             "#276419"
            ]
           ],
           "sequential": [
            [
             0,
             "#0d0887"
            ],
            [
             0.1111111111111111,
             "#46039f"
            ],
            [
             0.2222222222222222,
             "#7201a8"
            ],
            [
             0.3333333333333333,
             "#9c179e"
            ],
            [
             0.4444444444444444,
             "#bd3786"
            ],
            [
             0.5555555555555556,
             "#d8576b"
            ],
            [
             0.6666666666666666,
             "#ed7953"
            ],
            [
             0.7777777777777778,
             "#fb9f3a"
            ],
            [
             0.8888888888888888,
             "#fdca26"
            ],
            [
             1,
             "#f0f921"
            ]
           ],
           "sequentialminus": [
            [
             0,
             "#0d0887"
            ],
            [
             0.1111111111111111,
             "#46039f"
            ],
            [
             0.2222222222222222,
             "#7201a8"
            ],
            [
             0.3333333333333333,
             "#9c179e"
            ],
            [
             0.4444444444444444,
             "#bd3786"
            ],
            [
             0.5555555555555556,
             "#d8576b"
            ],
            [
             0.6666666666666666,
             "#ed7953"
            ],
            [
             0.7777777777777778,
             "#fb9f3a"
            ],
            [
             0.8888888888888888,
             "#fdca26"
            ],
            [
             1,
             "#f0f921"
            ]
           ]
          },
          "colorway": [
           "#636efa",
           "#EF553B",
           "#00cc96",
           "#ab63fa",
           "#FFA15A",
           "#19d3f3",
           "#FF6692",
           "#B6E880",
           "#FF97FF",
           "#FECB52"
          ],
          "font": {
           "color": "#2a3f5f"
          },
          "geo": {
           "bgcolor": "white",
           "lakecolor": "white",
           "landcolor": "#E5ECF6",
           "showlakes": true,
           "showland": true,
           "subunitcolor": "white"
          },
          "hoverlabel": {
           "align": "left"
          },
          "hovermode": "closest",
          "mapbox": {
           "style": "light"
          },
          "paper_bgcolor": "white",
          "plot_bgcolor": "#E5ECF6",
          "polar": {
           "angularaxis": {
            "gridcolor": "white",
            "linecolor": "white",
            "ticks": ""
           },
           "bgcolor": "#E5ECF6",
           "radialaxis": {
            "gridcolor": "white",
            "linecolor": "white",
            "ticks": ""
           }
          },
          "scene": {
           "xaxis": {
            "backgroundcolor": "#E5ECF6",
            "gridcolor": "white",
            "gridwidth": 2,
            "linecolor": "white",
            "showbackground": true,
            "ticks": "",
            "zerolinecolor": "white"
           },
           "yaxis": {
            "backgroundcolor": "#E5ECF6",
            "gridcolor": "white",
            "gridwidth": 2,
            "linecolor": "white",
            "showbackground": true,
            "ticks": "",
            "zerolinecolor": "white"
           },
           "zaxis": {
            "backgroundcolor": "#E5ECF6",
            "gridcolor": "white",
            "gridwidth": 2,
            "linecolor": "white",
            "showbackground": true,
            "ticks": "",
            "zerolinecolor": "white"
           }
          },
          "shapedefaults": {
           "line": {
            "color": "#2a3f5f"
           }
          },
          "ternary": {
           "aaxis": {
            "gridcolor": "white",
            "linecolor": "white",
            "ticks": ""
           },
           "baxis": {
            "gridcolor": "white",
            "linecolor": "white",
            "ticks": ""
           },
           "bgcolor": "#E5ECF6",
           "caxis": {
            "gridcolor": "white",
            "linecolor": "white",
            "ticks": ""
           }
          },
          "title": {
           "x": 0.05
          },
          "xaxis": {
           "automargin": true,
           "gridcolor": "white",
           "linecolor": "white",
           "ticks": "",
           "title": {
            "standoff": 15
           },
           "zerolinecolor": "white",
           "zerolinewidth": 2
          },
          "yaxis": {
           "automargin": true,
           "gridcolor": "white",
           "linecolor": "white",
           "ticks": "",
           "title": {
            "standoff": 15
           },
           "zerolinecolor": "white",
           "zerolinewidth": 2
          }
         }
        },
        "title": {
         "text": "Ratio of Prompt Dose with Screen to No Screen by Configuration"
        },
        "updatemenus": [
         {
          "buttons": [
           {
            "args": [
             {
              "xaxis": {
               "title": "Distance (m)",
               "type": "log"
              },
              "yaxis": {
               "title": "Dose Ratio",
               "type": "linear"
              }
             }
            ],
            "label": "Log X, Lin Y",
            "method": "relayout"
           },
           {
            "args": [
             {
              "xaxis": {
               "title": "Distance (m)",
               "type": "linear"
              },
              "yaxis": {
               "title": "Dose Ratio",
               "type": "linear"
              }
             }
            ],
            "label": "Lin X, Lin Y",
            "method": "relayout"
           },
           {
            "args": [
             {
              "xaxis": {
               "title": "Distance (m)",
               "type": "log"
              },
              "yaxis": {
               "title": "Dose Ratio",
               "type": "log"
              }
             }
            ],
            "label": "Log X, Log Y",
            "method": "relayout"
           },
           {
            "args": [
             {
              "xaxis": {
               "title": "Distance (m)",
               "type": "linear"
              },
              "yaxis": {
               "title": "Dose Ratio",
               "type": "log"
              }
             }
            ],
            "label": "Lin X, Log Y",
            "method": "relayout"
           }
          ],
          "direction": "down",
          "showactive": true,
          "x": 1,
          "xanchor": "right",
          "y": 1.15,
          "yanchor": "top"
         }
        ],
        "xaxis": {
         "title": {
          "text": "Distance (m)"
         },
         "type": "log"
        },
        "yaxis": {
         "title": {
          "text": "Dose Ratio"
         },
         "type": "linear"
        }
       }
      }
     },
     "metadata": {},
     "output_type": "display_data"
    }
   ],
   "source": [
    "plot_ratio_by_configurations(data, particles, screens, cases, codes, thicknesses)"
   ]
  },
  {
   "cell_type": "code",
   "execution_count": 6,
   "metadata": {},
   "outputs": [
    {
     "data": {
      "application/vnd.plotly.v1+json": {
       "config": {
        "plotlyServerURL": "https://plot.ly"
       },
       "data": [
        {
         "error_y": {
          "array": [
           0.031127635180450516,
           0.02619127515942831,
           0.039181116157833894,
           0.04456218331644108,
           0.028918192706161538,
           0.03768669871836866,
           0.04326328706380039,
           0.034895016423417906,
           0.03939342866401659,
           0.03154104957618694,
           0.03417681516167446,
           0.04127649417012178,
           0.02919090550985933
          ],
          "thickness": 1,
          "type": "data",
          "visible": true
         },
         "name": "C1 [U(4.95)O2F2 (H/235U = 410)] - MCNP 6.1 - Lead - 1cm - N",
         "type": "bar",
         "x": [
          "1",
          "2",
          "5",
          "10",
          "20",
          "50",
          "100",
          "200",
          "300",
          "500",
          "700",
          "1000",
          "1200"
         ],
         "y": [
          1.0110212517877153,
          0.967687302717955,
          0.9782447991326564,
          1.0151076052777441,
          0.9600858135605705,
          0.9411680076326303,
          0.9024158336048235,
          0.9676201181925197,
          0.9586847555010302,
          0.9943576449501887,
          1.0094004660876406,
          1.0582603286568273,
          1.0511484559070265
         ]
        },
        {
         "error_y": {
          "array": [
           0.02118640598384603,
           0.023382568411870655,
           0.026814384610599033,
           0.02580825379436164,
           0.02010885152789554,
           0.027357104679487824,
           0.031008986013097845,
           0.02508283251172437,
           0.03250162085809827,
           0.0218894291057497,
           0.026335368242495473,
           0.021424873658784628,
           0.01843421460998159
          ],
          "thickness": 1,
          "type": "data",
          "visible": true
         },
         "name": "C1 [U(4.95)O2F2 (H/235U = 410)] - MCNP 6.1 - Lead - 5cm - N",
         "type": "bar",
         "x": [
          "1",
          "2",
          "5",
          "10",
          "20",
          "50",
          "100",
          "200",
          "300",
          "500",
          "700",
          "1000",
          "1200"
         ],
         "y": [
          0.919065608640222,
          0.8897466258277449,
          0.8636869346101264,
          0.8307970852153136,
          0.8264687067649533,
          0.8064505704291465,
          0.7635180421153576,
          0.8044494698925382,
          0.8314529112441527,
          0.7695913437084991,
          0.8154810950104301,
          0.7695446055334744,
          0.7865525550615373
         ]
        },
        {
         "error_y": {
          "array": [
           0.013468059872185495,
           0.016900108402982207,
           0.01890588271633453,
           0.016578518717405268,
           0.015746659211490648,
           0.020144565654643898,
           0.022438046526520327,
           0.018586055396763543,
           0.025343795743246383,
           0.017344128432593735,
           0.01647757848028986,
           0.015166244837646656,
           0.013102985093977162
          ],
          "thickness": 1,
          "type": "data",
          "visible": true
         },
         "name": "C1 [U(4.95)O2F2 (H/235U = 410)] - MCNP 6.1 - Lead - 10cm - N",
         "type": "bar",
         "x": [
          "1",
          "2",
          "5",
          "10",
          "20",
          "50",
          "100",
          "200",
          "300",
          "500",
          "700",
          "1000",
          "1200"
         ],
         "y": [
          0.7768540735125541,
          0.7426628388021236,
          0.73758873395843,
          0.6839192540479092,
          0.6909354185762187,
          0.6448911282737938,
          0.6072148337748268,
          0.6553981224000531,
          0.6439823873837355,
          0.6247956230453059,
          0.5907649965191597,
          0.565558298303507,
          0.574052199524788
         ]
        },
        {
         "error_y": {
          "array": [
           0.007072907194185926,
           0.009249048308262436,
           0.00849702547890065,
           0.007856779757704895,
           0.008626829077768506,
           0.012630324272626814,
           0.01456286812487495,
           0.011576347926072946,
           0.015521579800732791,
           0.010659051846768866,
           0.010171170210713483,
           0.00850715347205133,
           0.006607372215830103
          ],
          "thickness": 1,
          "type": "data",
          "visible": true
         },
         "name": "C1 [U(4.95)O2F2 (H/235U = 410)] - MCNP 6.1 - Lead - 20cm - N",
         "type": "bar",
         "x": [
          "1",
          "2",
          "5",
          "10",
          "20",
          "50",
          "100",
          "200",
          "300",
          "500",
          "700",
          "1000",
          "1200"
         ],
         "y": [
          0.5584647651151379,
          0.5334963552714083,
          0.4793012352802461,
          0.46839624139983993,
          0.4481242911226802,
          0.4407154762964695,
          0.4402009120528988,
          0.4353118052571391,
          0.43051103825838255,
          0.4045654418919541,
          0.3730938339813885,
          0.32862077572325044,
          0.30817752888731814
         ]
        }
       ],
       "layout": {
        "barmode": "group",
        "template": {
         "data": {
          "bar": [
           {
            "error_x": {
             "color": "#2a3f5f"
            },
            "error_y": {
             "color": "#2a3f5f"
            },
            "marker": {
             "line": {
              "color": "#E5ECF6",
              "width": 0.5
             },
             "pattern": {
              "fillmode": "overlay",
              "size": 10,
              "solidity": 0.2
             }
            },
            "type": "bar"
           }
          ],
          "barpolar": [
           {
            "marker": {
             "line": {
              "color": "#E5ECF6",
              "width": 0.5
             },
             "pattern": {
              "fillmode": "overlay",
              "size": 10,
              "solidity": 0.2
             }
            },
            "type": "barpolar"
           }
          ],
          "carpet": [
           {
            "aaxis": {
             "endlinecolor": "#2a3f5f",
             "gridcolor": "white",
             "linecolor": "white",
             "minorgridcolor": "white",
             "startlinecolor": "#2a3f5f"
            },
            "baxis": {
             "endlinecolor": "#2a3f5f",
             "gridcolor": "white",
             "linecolor": "white",
             "minorgridcolor": "white",
             "startlinecolor": "#2a3f5f"
            },
            "type": "carpet"
           }
          ],
          "choropleth": [
           {
            "colorbar": {
             "outlinewidth": 0,
             "ticks": ""
            },
            "type": "choropleth"
           }
          ],
          "contour": [
           {
            "colorbar": {
             "outlinewidth": 0,
             "ticks": ""
            },
            "colorscale": [
             [
              0,
              "#0d0887"
             ],
             [
              0.1111111111111111,
              "#46039f"
             ],
             [
              0.2222222222222222,
              "#7201a8"
             ],
             [
              0.3333333333333333,
              "#9c179e"
             ],
             [
              0.4444444444444444,
              "#bd3786"
             ],
             [
              0.5555555555555556,
              "#d8576b"
             ],
             [
              0.6666666666666666,
              "#ed7953"
             ],
             [
              0.7777777777777778,
              "#fb9f3a"
             ],
             [
              0.8888888888888888,
              "#fdca26"
             ],
             [
              1,
              "#f0f921"
             ]
            ],
            "type": "contour"
           }
          ],
          "contourcarpet": [
           {
            "colorbar": {
             "outlinewidth": 0,
             "ticks": ""
            },
            "type": "contourcarpet"
           }
          ],
          "heatmap": [
           {
            "colorbar": {
             "outlinewidth": 0,
             "ticks": ""
            },
            "colorscale": [
             [
              0,
              "#0d0887"
             ],
             [
              0.1111111111111111,
              "#46039f"
             ],
             [
              0.2222222222222222,
              "#7201a8"
             ],
             [
              0.3333333333333333,
              "#9c179e"
             ],
             [
              0.4444444444444444,
              "#bd3786"
             ],
             [
              0.5555555555555556,
              "#d8576b"
             ],
             [
              0.6666666666666666,
              "#ed7953"
             ],
             [
              0.7777777777777778,
              "#fb9f3a"
             ],
             [
              0.8888888888888888,
              "#fdca26"
             ],
             [
              1,
              "#f0f921"
             ]
            ],
            "type": "heatmap"
           }
          ],
          "heatmapgl": [
           {
            "colorbar": {
             "outlinewidth": 0,
             "ticks": ""
            },
            "colorscale": [
             [
              0,
              "#0d0887"
             ],
             [
              0.1111111111111111,
              "#46039f"
             ],
             [
              0.2222222222222222,
              "#7201a8"
             ],
             [
              0.3333333333333333,
              "#9c179e"
             ],
             [
              0.4444444444444444,
              "#bd3786"
             ],
             [
              0.5555555555555556,
              "#d8576b"
             ],
             [
              0.6666666666666666,
              "#ed7953"
             ],
             [
              0.7777777777777778,
              "#fb9f3a"
             ],
             [
              0.8888888888888888,
              "#fdca26"
             ],
             [
              1,
              "#f0f921"
             ]
            ],
            "type": "heatmapgl"
           }
          ],
          "histogram": [
           {
            "marker": {
             "pattern": {
              "fillmode": "overlay",
              "size": 10,
              "solidity": 0.2
             }
            },
            "type": "histogram"
           }
          ],
          "histogram2d": [
           {
            "colorbar": {
             "outlinewidth": 0,
             "ticks": ""
            },
            "colorscale": [
             [
              0,
              "#0d0887"
             ],
             [
              0.1111111111111111,
              "#46039f"
             ],
             [
              0.2222222222222222,
              "#7201a8"
             ],
             [
              0.3333333333333333,
              "#9c179e"
             ],
             [
              0.4444444444444444,
              "#bd3786"
             ],
             [
              0.5555555555555556,
              "#d8576b"
             ],
             [
              0.6666666666666666,
              "#ed7953"
             ],
             [
              0.7777777777777778,
              "#fb9f3a"
             ],
             [
              0.8888888888888888,
              "#fdca26"
             ],
             [
              1,
              "#f0f921"
             ]
            ],
            "type": "histogram2d"
           }
          ],
          "histogram2dcontour": [
           {
            "colorbar": {
             "outlinewidth": 0,
             "ticks": ""
            },
            "colorscale": [
             [
              0,
              "#0d0887"
             ],
             [
              0.1111111111111111,
              "#46039f"
             ],
             [
              0.2222222222222222,
              "#7201a8"
             ],
             [
              0.3333333333333333,
              "#9c179e"
             ],
             [
              0.4444444444444444,
              "#bd3786"
             ],
             [
              0.5555555555555556,
              "#d8576b"
             ],
             [
              0.6666666666666666,
              "#ed7953"
             ],
             [
              0.7777777777777778,
              "#fb9f3a"
             ],
             [
              0.8888888888888888,
              "#fdca26"
             ],
             [
              1,
              "#f0f921"
             ]
            ],
            "type": "histogram2dcontour"
           }
          ],
          "mesh3d": [
           {
            "colorbar": {
             "outlinewidth": 0,
             "ticks": ""
            },
            "type": "mesh3d"
           }
          ],
          "parcoords": [
           {
            "line": {
             "colorbar": {
              "outlinewidth": 0,
              "ticks": ""
             }
            },
            "type": "parcoords"
           }
          ],
          "pie": [
           {
            "automargin": true,
            "type": "pie"
           }
          ],
          "scatter": [
           {
            "fillpattern": {
             "fillmode": "overlay",
             "size": 10,
             "solidity": 0.2
            },
            "type": "scatter"
           }
          ],
          "scatter3d": [
           {
            "line": {
             "colorbar": {
              "outlinewidth": 0,
              "ticks": ""
             }
            },
            "marker": {
             "colorbar": {
              "outlinewidth": 0,
              "ticks": ""
             }
            },
            "type": "scatter3d"
           }
          ],
          "scattercarpet": [
           {
            "marker": {
             "colorbar": {
              "outlinewidth": 0,
              "ticks": ""
             }
            },
            "type": "scattercarpet"
           }
          ],
          "scattergeo": [
           {
            "marker": {
             "colorbar": {
              "outlinewidth": 0,
              "ticks": ""
             }
            },
            "type": "scattergeo"
           }
          ],
          "scattergl": [
           {
            "marker": {
             "colorbar": {
              "outlinewidth": 0,
              "ticks": ""
             }
            },
            "type": "scattergl"
           }
          ],
          "scattermapbox": [
           {
            "marker": {
             "colorbar": {
              "outlinewidth": 0,
              "ticks": ""
             }
            },
            "type": "scattermapbox"
           }
          ],
          "scatterpolar": [
           {
            "marker": {
             "colorbar": {
              "outlinewidth": 0,
              "ticks": ""
             }
            },
            "type": "scatterpolar"
           }
          ],
          "scatterpolargl": [
           {
            "marker": {
             "colorbar": {
              "outlinewidth": 0,
              "ticks": ""
             }
            },
            "type": "scatterpolargl"
           }
          ],
          "scatterternary": [
           {
            "marker": {
             "colorbar": {
              "outlinewidth": 0,
              "ticks": ""
             }
            },
            "type": "scatterternary"
           }
          ],
          "surface": [
           {
            "colorbar": {
             "outlinewidth": 0,
             "ticks": ""
            },
            "colorscale": [
             [
              0,
              "#0d0887"
             ],
             [
              0.1111111111111111,
              "#46039f"
             ],
             [
              0.2222222222222222,
              "#7201a8"
             ],
             [
              0.3333333333333333,
              "#9c179e"
             ],
             [
              0.4444444444444444,
              "#bd3786"
             ],
             [
              0.5555555555555556,
              "#d8576b"
             ],
             [
              0.6666666666666666,
              "#ed7953"
             ],
             [
              0.7777777777777778,
              "#fb9f3a"
             ],
             [
              0.8888888888888888,
              "#fdca26"
             ],
             [
              1,
              "#f0f921"
             ]
            ],
            "type": "surface"
           }
          ],
          "table": [
           {
            "cells": {
             "fill": {
              "color": "#EBF0F8"
             },
             "line": {
              "color": "white"
             }
            },
            "header": {
             "fill": {
              "color": "#C8D4E3"
             },
             "line": {
              "color": "white"
             }
            },
            "type": "table"
           }
          ]
         },
         "layout": {
          "annotationdefaults": {
           "arrowcolor": "#2a3f5f",
           "arrowhead": 0,
           "arrowwidth": 1
          },
          "autotypenumbers": "strict",
          "coloraxis": {
           "colorbar": {
            "outlinewidth": 0,
            "ticks": ""
           }
          },
          "colorscale": {
           "diverging": [
            [
             0,
             "#8e0152"
            ],
            [
             0.1,
             "#c51b7d"
            ],
            [
             0.2,
             "#de77ae"
            ],
            [
             0.3,
             "#f1b6da"
            ],
            [
             0.4,
             "#fde0ef"
            ],
            [
             0.5,
             "#f7f7f7"
            ],
            [
             0.6,
             "#e6f5d0"
            ],
            [
             0.7,
             "#b8e186"
            ],
            [
             0.8,
             "#7fbc41"
            ],
            [
             0.9,
             "#4d9221"
            ],
            [
             1,
             "#276419"
            ]
           ],
           "sequential": [
            [
             0,
             "#0d0887"
            ],
            [
             0.1111111111111111,
             "#46039f"
            ],
            [
             0.2222222222222222,
             "#7201a8"
            ],
            [
             0.3333333333333333,
             "#9c179e"
            ],
            [
             0.4444444444444444,
             "#bd3786"
            ],
            [
             0.5555555555555556,
             "#d8576b"
            ],
            [
             0.6666666666666666,
             "#ed7953"
            ],
            [
             0.7777777777777778,
             "#fb9f3a"
            ],
            [
             0.8888888888888888,
             "#fdca26"
            ],
            [
             1,
             "#f0f921"
            ]
           ],
           "sequentialminus": [
            [
             0,
             "#0d0887"
            ],
            [
             0.1111111111111111,
             "#46039f"
            ],
            [
             0.2222222222222222,
             "#7201a8"
            ],
            [
             0.3333333333333333,
             "#9c179e"
            ],
            [
             0.4444444444444444,
             "#bd3786"
            ],
            [
             0.5555555555555556,
             "#d8576b"
            ],
            [
             0.6666666666666666,
             "#ed7953"
            ],
            [
             0.7777777777777778,
             "#fb9f3a"
            ],
            [
             0.8888888888888888,
             "#fdca26"
            ],
            [
             1,
             "#f0f921"
            ]
           ]
          },
          "colorway": [
           "#636efa",
           "#EF553B",
           "#00cc96",
           "#ab63fa",
           "#FFA15A",
           "#19d3f3",
           "#FF6692",
           "#B6E880",
           "#FF97FF",
           "#FECB52"
          ],
          "font": {
           "color": "#2a3f5f"
          },
          "geo": {
           "bgcolor": "white",
           "lakecolor": "white",
           "landcolor": "#E5ECF6",
           "showlakes": true,
           "showland": true,
           "subunitcolor": "white"
          },
          "hoverlabel": {
           "align": "left"
          },
          "hovermode": "closest",
          "mapbox": {
           "style": "light"
          },
          "paper_bgcolor": "white",
          "plot_bgcolor": "#E5ECF6",
          "polar": {
           "angularaxis": {
            "gridcolor": "white",
            "linecolor": "white",
            "ticks": ""
           },
           "bgcolor": "#E5ECF6",
           "radialaxis": {
            "gridcolor": "white",
            "linecolor": "white",
            "ticks": ""
           }
          },
          "scene": {
           "xaxis": {
            "backgroundcolor": "#E5ECF6",
            "gridcolor": "white",
            "gridwidth": 2,
            "linecolor": "white",
            "showbackground": true,
            "ticks": "",
            "zerolinecolor": "white"
           },
           "yaxis": {
            "backgroundcolor": "#E5ECF6",
            "gridcolor": "white",
            "gridwidth": 2,
            "linecolor": "white",
            "showbackground": true,
            "ticks": "",
            "zerolinecolor": "white"
           },
           "zaxis": {
            "backgroundcolor": "#E5ECF6",
            "gridcolor": "white",
            "gridwidth": 2,
            "linecolor": "white",
            "showbackground": true,
            "ticks": "",
            "zerolinecolor": "white"
           }
          },
          "shapedefaults": {
           "line": {
            "color": "#2a3f5f"
           }
          },
          "ternary": {
           "aaxis": {
            "gridcolor": "white",
            "linecolor": "white",
            "ticks": ""
           },
           "baxis": {
            "gridcolor": "white",
            "linecolor": "white",
            "ticks": ""
           },
           "bgcolor": "#E5ECF6",
           "caxis": {
            "gridcolor": "white",
            "linecolor": "white",
            "ticks": ""
           }
          },
          "title": {
           "x": 0.05
          },
          "xaxis": {
           "automargin": true,
           "gridcolor": "white",
           "linecolor": "white",
           "ticks": "",
           "title": {
            "standoff": 15
           },
           "zerolinecolor": "white",
           "zerolinewidth": 2
          },
          "yaxis": {
           "automargin": true,
           "gridcolor": "white",
           "linecolor": "white",
           "ticks": "",
           "title": {
            "standoff": 15
           },
           "zerolinecolor": "white",
           "zerolinewidth": 2
          }
         }
        },
        "title": {
         "text": "Ratio of Prompt Dose with Screen to No Screen [Bar Chart]"
        },
        "xaxis": {
         "ticktext": [
          "1",
          "2",
          "5",
          "10",
          "20",
          "50",
          "100",
          "200",
          "300",
          "500",
          "700",
          "1000",
          "1200"
         ],
         "tickvals": [
          "1",
          "2",
          "5",
          "10",
          "20",
          "50",
          "100",
          "200",
          "300",
          "500",
          "700",
          "1000",
          "1200"
         ],
         "title": {
          "text": "Distance (m)"
         }
        },
        "yaxis": {
         "title": {
          "text": "Dose Ratio"
         }
        }
       }
      }
     },
     "metadata": {},
     "output_type": "display_data"
    }
   ],
   "source": [
    "plot_categorical_bar_chart(data, particles, screens, cases, codes, thicknesses)"
   ]
  },
  {
   "cell_type": "code",
   "execution_count": 2,
   "metadata": {},
   "outputs": [],
   "source": [
    "def filter_dataframe(data, particles, screens, cases, codes, thicknesses):\n",
    "    # Apply the filters step by step, checking if thicknesses list is empty or not\n",
    "    filtered_data = data[\n",
    "        (data['Particle'].isin(particles)) &\n",
    "        (data['Screen'].isin(screens)) &\n",
    "        (data['Case'].isin(cases)) &\n",
    "        (data['Code'].isin(codes))\n",
    "    ]\n",
    "    \n",
    "    if thicknesses:  # Only apply thickness filter if it's not empty\n",
    "        filtered_data = filtered_data[filtered_data['Thickness (cm)'].isin(thicknesses)]\n",
    "    \n",
    "    return filtered_data\n",
    "\n",
    "\n"
   ]
  },
  {
   "cell_type": "code",
   "execution_count": 3,
   "metadata": {},
   "outputs": [
    {
     "data": {
      "text/html": [
       "<div>\n",
       "<style scoped>\n",
       "    .dataframe tbody tr th:only-of-type {\n",
       "        vertical-align: middle;\n",
       "    }\n",
       "\n",
       "    .dataframe tbody tr th {\n",
       "        vertical-align: top;\n",
       "    }\n",
       "\n",
       "    .dataframe thead th {\n",
       "        text-align: right;\n",
       "    }\n",
       "</style>\n",
       "<table border=\"1\" class=\"dataframe\">\n",
       "  <thead>\n",
       "    <tr style=\"text-align: right;\">\n",
       "      <th></th>\n",
       "      <th>Fissile</th>\n",
       "      <th>Case</th>\n",
       "      <th>Code</th>\n",
       "      <th>Library</th>\n",
       "      <th>Flux-to-dose conversion factor</th>\n",
       "      <th>Screen</th>\n",
       "      <th>Thickness (cm)</th>\n",
       "      <th>Particle</th>\n",
       "      <th>Distance (m)</th>\n",
       "      <th>Dose (Gy)</th>\n",
       "      <th>1s uncertainty</th>\n",
       "    </tr>\n",
       "  </thead>\n",
       "  <tbody>\n",
       "    <tr>\n",
       "      <th>2184</th>\n",
       "      <td>U</td>\n",
       "      <td>C1 [U(4.95)O2F2 (H/235U = 410)]</td>\n",
       "      <td>MCNP 6.1</td>\n",
       "      <td>ENDF/B-VII.1</td>\n",
       "      <td>ANSI/HPS N13.3</td>\n",
       "      <td>None</td>\n",
       "      <td>0</td>\n",
       "      <td>N</td>\n",
       "      <td>1</td>\n",
       "      <td>9.199573e+00</td>\n",
       "      <td>0.0017</td>\n",
       "    </tr>\n",
       "    <tr>\n",
       "      <th>2185</th>\n",
       "      <td>U</td>\n",
       "      <td>C1 [U(4.95)O2F2 (H/235U = 410)]</td>\n",
       "      <td>MCNP 6.1</td>\n",
       "      <td>ENDF/B-VII.1</td>\n",
       "      <td>ANSI/HPS N13.3</td>\n",
       "      <td>None</td>\n",
       "      <td>0</td>\n",
       "      <td>N</td>\n",
       "      <td>2</td>\n",
       "      <td>3.152653e+00</td>\n",
       "      <td>0.0025</td>\n",
       "    </tr>\n",
       "    <tr>\n",
       "      <th>2186</th>\n",
       "      <td>U</td>\n",
       "      <td>C1 [U(4.95)O2F2 (H/235U = 410)]</td>\n",
       "      <td>MCNP 6.1</td>\n",
       "      <td>ENDF/B-VII.1</td>\n",
       "      <td>ANSI/HPS N13.3</td>\n",
       "      <td>None</td>\n",
       "      <td>0</td>\n",
       "      <td>N</td>\n",
       "      <td>5</td>\n",
       "      <td>6.201317e-01</td>\n",
       "      <td>0.0036</td>\n",
       "    </tr>\n",
       "    <tr>\n",
       "      <th>2187</th>\n",
       "      <td>U</td>\n",
       "      <td>C1 [U(4.95)O2F2 (H/235U = 410)]</td>\n",
       "      <td>MCNP 6.1</td>\n",
       "      <td>ENDF/B-VII.1</td>\n",
       "      <td>ANSI/HPS N13.3</td>\n",
       "      <td>None</td>\n",
       "      <td>0</td>\n",
       "      <td>N</td>\n",
       "      <td>10</td>\n",
       "      <td>1.629825e-01</td>\n",
       "      <td>0.0053</td>\n",
       "    </tr>\n",
       "    <tr>\n",
       "      <th>2188</th>\n",
       "      <td>U</td>\n",
       "      <td>C1 [U(4.95)O2F2 (H/235U = 410)]</td>\n",
       "      <td>MCNP 6.1</td>\n",
       "      <td>ENDF/B-VII.1</td>\n",
       "      <td>ANSI/HPS N13.3</td>\n",
       "      <td>None</td>\n",
       "      <td>0</td>\n",
       "      <td>N</td>\n",
       "      <td>20</td>\n",
       "      <td>4.239522e-02</td>\n",
       "      <td>0.0084</td>\n",
       "    </tr>\n",
       "    <tr>\n",
       "      <th>2189</th>\n",
       "      <td>U</td>\n",
       "      <td>C1 [U(4.95)O2F2 (H/235U = 410)]</td>\n",
       "      <td>MCNP 6.1</td>\n",
       "      <td>ENDF/B-VII.1</td>\n",
       "      <td>ANSI/HPS N13.3</td>\n",
       "      <td>None</td>\n",
       "      <td>0</td>\n",
       "      <td>N</td>\n",
       "      <td>50</td>\n",
       "      <td>7.159838e-03</td>\n",
       "      <td>0.0137</td>\n",
       "    </tr>\n",
       "    <tr>\n",
       "      <th>2190</th>\n",
       "      <td>U</td>\n",
       "      <td>C1 [U(4.95)O2F2 (H/235U = 410)]</td>\n",
       "      <td>MCNP 6.1</td>\n",
       "      <td>ENDF/B-VII.1</td>\n",
       "      <td>ANSI/HPS N13.3</td>\n",
       "      <td>None</td>\n",
       "      <td>0</td>\n",
       "      <td>N</td>\n",
       "      <td>100</td>\n",
       "      <td>1.740656e-03</td>\n",
       "      <td>0.0156</td>\n",
       "    </tr>\n",
       "    <tr>\n",
       "      <th>2191</th>\n",
       "      <td>U</td>\n",
       "      <td>C1 [U(4.95)O2F2 (H/235U = 410)]</td>\n",
       "      <td>MCNP 6.1</td>\n",
       "      <td>ENDF/B-VII.1</td>\n",
       "      <td>ANSI/HPS N13.3</td>\n",
       "      <td>None</td>\n",
       "      <td>0</td>\n",
       "      <td>N</td>\n",
       "      <td>200</td>\n",
       "      <td>3.338229e-04</td>\n",
       "      <td>0.0128</td>\n",
       "    </tr>\n",
       "    <tr>\n",
       "      <th>2192</th>\n",
       "      <td>U</td>\n",
       "      <td>C1 [U(4.95)O2F2 (H/235U = 410)]</td>\n",
       "      <td>MCNP 6.1</td>\n",
       "      <td>ENDF/B-VII.1</td>\n",
       "      <td>ANSI/HPS N13.3</td>\n",
       "      <td>None</td>\n",
       "      <td>0</td>\n",
       "      <td>N</td>\n",
       "      <td>300</td>\n",
       "      <td>1.031012e-04</td>\n",
       "      <td>0.0176</td>\n",
       "    </tr>\n",
       "    <tr>\n",
       "      <th>2193</th>\n",
       "      <td>U</td>\n",
       "      <td>C1 [U(4.95)O2F2 (H/235U = 410)]</td>\n",
       "      <td>MCNP 6.1</td>\n",
       "      <td>ENDF/B-VII.1</td>\n",
       "      <td>ANSI/HPS N13.3</td>\n",
       "      <td>None</td>\n",
       "      <td>0</td>\n",
       "      <td>N</td>\n",
       "      <td>500</td>\n",
       "      <td>1.542779e-05</td>\n",
       "      <td>0.0127</td>\n",
       "    </tr>\n",
       "    <tr>\n",
       "      <th>2194</th>\n",
       "      <td>U</td>\n",
       "      <td>C1 [U(4.95)O2F2 (H/235U = 410)]</td>\n",
       "      <td>MCNP 6.1</td>\n",
       "      <td>ENDF/B-VII.1</td>\n",
       "      <td>ANSI/HPS N13.3</td>\n",
       "      <td>None</td>\n",
       "      <td>0</td>\n",
       "      <td>N</td>\n",
       "      <td>700</td>\n",
       "      <td>3.053311e-06</td>\n",
       "      <td>0.0132</td>\n",
       "    </tr>\n",
       "    <tr>\n",
       "      <th>2195</th>\n",
       "      <td>U</td>\n",
       "      <td>C1 [U(4.95)O2F2 (H/235U = 410)]</td>\n",
       "      <td>MCNP 6.1</td>\n",
       "      <td>ENDF/B-VII.1</td>\n",
       "      <td>ANSI/HPS N13.3</td>\n",
       "      <td>None</td>\n",
       "      <td>0</td>\n",
       "      <td>N</td>\n",
       "      <td>1000</td>\n",
       "      <td>3.226720e-07</td>\n",
       "      <td>0.0127</td>\n",
       "    </tr>\n",
       "    <tr>\n",
       "      <th>2196</th>\n",
       "      <td>U</td>\n",
       "      <td>C1 [U(4.95)O2F2 (H/235U = 410)]</td>\n",
       "      <td>MCNP 6.1</td>\n",
       "      <td>ENDF/B-VII.1</td>\n",
       "      <td>ANSI/HPS N13.3</td>\n",
       "      <td>None</td>\n",
       "      <td>0</td>\n",
       "      <td>N</td>\n",
       "      <td>1200</td>\n",
       "      <td>7.712506e-08</td>\n",
       "      <td>0.0104</td>\n",
       "    </tr>\n",
       "  </tbody>\n",
       "</table>\n",
       "</div>"
      ],
      "text/plain": [
       "     Fissile                             Case      Code       Library  \\\n",
       "2184       U  C1 [U(4.95)O2F2 (H/235U = 410)]  MCNP 6.1  ENDF/B-VII.1   \n",
       "2185       U  C1 [U(4.95)O2F2 (H/235U = 410)]  MCNP 6.1  ENDF/B-VII.1   \n",
       "2186       U  C1 [U(4.95)O2F2 (H/235U = 410)]  MCNP 6.1  ENDF/B-VII.1   \n",
       "2187       U  C1 [U(4.95)O2F2 (H/235U = 410)]  MCNP 6.1  ENDF/B-VII.1   \n",
       "2188       U  C1 [U(4.95)O2F2 (H/235U = 410)]  MCNP 6.1  ENDF/B-VII.1   \n",
       "2189       U  C1 [U(4.95)O2F2 (H/235U = 410)]  MCNP 6.1  ENDF/B-VII.1   \n",
       "2190       U  C1 [U(4.95)O2F2 (H/235U = 410)]  MCNP 6.1  ENDF/B-VII.1   \n",
       "2191       U  C1 [U(4.95)O2F2 (H/235U = 410)]  MCNP 6.1  ENDF/B-VII.1   \n",
       "2192       U  C1 [U(4.95)O2F2 (H/235U = 410)]  MCNP 6.1  ENDF/B-VII.1   \n",
       "2193       U  C1 [U(4.95)O2F2 (H/235U = 410)]  MCNP 6.1  ENDF/B-VII.1   \n",
       "2194       U  C1 [U(4.95)O2F2 (H/235U = 410)]  MCNP 6.1  ENDF/B-VII.1   \n",
       "2195       U  C1 [U(4.95)O2F2 (H/235U = 410)]  MCNP 6.1  ENDF/B-VII.1   \n",
       "2196       U  C1 [U(4.95)O2F2 (H/235U = 410)]  MCNP 6.1  ENDF/B-VII.1   \n",
       "\n",
       "     Flux-to-dose conversion factor Screen  Thickness (cm) Particle  \\\n",
       "2184                 ANSI/HPS N13.3   None               0        N   \n",
       "2185                 ANSI/HPS N13.3   None               0        N   \n",
       "2186                 ANSI/HPS N13.3   None               0        N   \n",
       "2187                 ANSI/HPS N13.3   None               0        N   \n",
       "2188                 ANSI/HPS N13.3   None               0        N   \n",
       "2189                 ANSI/HPS N13.3   None               0        N   \n",
       "2190                 ANSI/HPS N13.3   None               0        N   \n",
       "2191                 ANSI/HPS N13.3   None               0        N   \n",
       "2192                 ANSI/HPS N13.3   None               0        N   \n",
       "2193                 ANSI/HPS N13.3   None               0        N   \n",
       "2194                 ANSI/HPS N13.3   None               0        N   \n",
       "2195                 ANSI/HPS N13.3   None               0        N   \n",
       "2196                 ANSI/HPS N13.3   None               0        N   \n",
       "\n",
       "      Distance (m)     Dose (Gy)  1s uncertainty  \n",
       "2184             1  9.199573e+00          0.0017  \n",
       "2185             2  3.152653e+00          0.0025  \n",
       "2186             5  6.201317e-01          0.0036  \n",
       "2187            10  1.629825e-01          0.0053  \n",
       "2188            20  4.239522e-02          0.0084  \n",
       "2189            50  7.159838e-03          0.0137  \n",
       "2190           100  1.740656e-03          0.0156  \n",
       "2191           200  3.338229e-04          0.0128  \n",
       "2192           300  1.031012e-04          0.0176  \n",
       "2193           500  1.542779e-05          0.0127  \n",
       "2194           700  3.053311e-06          0.0132  \n",
       "2195          1000  3.226720e-07          0.0127  \n",
       "2196          1200  7.712506e-08          0.0104  "
      ]
     },
     "execution_count": 3,
     "metadata": {},
     "output_type": "execute_result"
    }
   ],
   "source": [
    "# Define your filter criteria\n",
    "particles = ['N']  # Example: ['N', 'P']  \n",
    "screens = ['None']  # Example: ['Concrete', 'Steel', 'Water', 'Lead']\n",
    "cases = ['C1 [U(4.95)O2F2 (H/235U = 410)]']  # Example: ['C1 [U(4.95)O2F2 (H/235U = 410)]', 'C4 [U(93.2) (H/235U = 0)]']\n",
    "codes = ['MCNP 6.1']  # Example: ['MCNP 6.1', 'COG 11.2', 'SCALE 6.2.2']\n",
    "thicknesses = []  # Example: [1, 5, 10, 20]\n",
    "\n",
    "# Apply the filter\n",
    "filtered_data = filter_dataframe(data, particles, screens, cases, codes, thicknesses)\n",
    "\n",
    "# Display the filtered data\n",
    "filtered_data"
   ]
  },
  {
   "cell_type": "code",
   "execution_count": 13,
   "metadata": {},
   "outputs": [
    {
     "data": {
      "application/vnd.plotly.v1+json": {
       "config": {
        "plotlyServerURL": "https://plot.ly"
       },
       "data": [
        {
         "mode": "lines+markers",
         "name": "Dose vs Distance",
         "type": "scatter",
         "x": [
          1,
          2,
          5,
          10,
          20,
          50,
          100,
          200,
          300,
          500,
          700,
          1000,
          1200
         ],
         "y": [
          9.19957295292945,
          3.15265299042911,
          0.6201317358070099,
          0.16298250934034159,
          0.042395216922401696,
          0.00715983750917344,
          0.001740656222660957,
          0.000333822948937877,
          0.0001031012058614951,
          0.000015427791298154134,
          0.00000305331100958569,
          3.226720362801111e-7,
          7.71250621707384e-8
         ]
        }
       ],
       "layout": {
        "showlegend": true,
        "template": {
         "data": {
          "bar": [
           {
            "error_x": {
             "color": "#2a3f5f"
            },
            "error_y": {
             "color": "#2a3f5f"
            },
            "marker": {
             "line": {
              "color": "#E5ECF6",
              "width": 0.5
             },
             "pattern": {
              "fillmode": "overlay",
              "size": 10,
              "solidity": 0.2
             }
            },
            "type": "bar"
           }
          ],
          "barpolar": [
           {
            "marker": {
             "line": {
              "color": "#E5ECF6",
              "width": 0.5
             },
             "pattern": {
              "fillmode": "overlay",
              "size": 10,
              "solidity": 0.2
             }
            },
            "type": "barpolar"
           }
          ],
          "carpet": [
           {
            "aaxis": {
             "endlinecolor": "#2a3f5f",
             "gridcolor": "white",
             "linecolor": "white",
             "minorgridcolor": "white",
             "startlinecolor": "#2a3f5f"
            },
            "baxis": {
             "endlinecolor": "#2a3f5f",
             "gridcolor": "white",
             "linecolor": "white",
             "minorgridcolor": "white",
             "startlinecolor": "#2a3f5f"
            },
            "type": "carpet"
           }
          ],
          "choropleth": [
           {
            "colorbar": {
             "outlinewidth": 0,
             "ticks": ""
            },
            "type": "choropleth"
           }
          ],
          "contour": [
           {
            "colorbar": {
             "outlinewidth": 0,
             "ticks": ""
            },
            "colorscale": [
             [
              0,
              "#0d0887"
             ],
             [
              0.1111111111111111,
              "#46039f"
             ],
             [
              0.2222222222222222,
              "#7201a8"
             ],
             [
              0.3333333333333333,
              "#9c179e"
             ],
             [
              0.4444444444444444,
              "#bd3786"
             ],
             [
              0.5555555555555556,
              "#d8576b"
             ],
             [
              0.6666666666666666,
              "#ed7953"
             ],
             [
              0.7777777777777778,
              "#fb9f3a"
             ],
             [
              0.8888888888888888,
              "#fdca26"
             ],
             [
              1,
              "#f0f921"
             ]
            ],
            "type": "contour"
           }
          ],
          "contourcarpet": [
           {
            "colorbar": {
             "outlinewidth": 0,
             "ticks": ""
            },
            "type": "contourcarpet"
           }
          ],
          "heatmap": [
           {
            "colorbar": {
             "outlinewidth": 0,
             "ticks": ""
            },
            "colorscale": [
             [
              0,
              "#0d0887"
             ],
             [
              0.1111111111111111,
              "#46039f"
             ],
             [
              0.2222222222222222,
              "#7201a8"
             ],
             [
              0.3333333333333333,
              "#9c179e"
             ],
             [
              0.4444444444444444,
              "#bd3786"
             ],
             [
              0.5555555555555556,
              "#d8576b"
             ],
             [
              0.6666666666666666,
              "#ed7953"
             ],
             [
              0.7777777777777778,
              "#fb9f3a"
             ],
             [
              0.8888888888888888,
              "#fdca26"
             ],
             [
              1,
              "#f0f921"
             ]
            ],
            "type": "heatmap"
           }
          ],
          "heatmapgl": [
           {
            "colorbar": {
             "outlinewidth": 0,
             "ticks": ""
            },
            "colorscale": [
             [
              0,
              "#0d0887"
             ],
             [
              0.1111111111111111,
              "#46039f"
             ],
             [
              0.2222222222222222,
              "#7201a8"
             ],
             [
              0.3333333333333333,
              "#9c179e"
             ],
             [
              0.4444444444444444,
              "#bd3786"
             ],
             [
              0.5555555555555556,
              "#d8576b"
             ],
             [
              0.6666666666666666,
              "#ed7953"
             ],
             [
              0.7777777777777778,
              "#fb9f3a"
             ],
             [
              0.8888888888888888,
              "#fdca26"
             ],
             [
              1,
              "#f0f921"
             ]
            ],
            "type": "heatmapgl"
           }
          ],
          "histogram": [
           {
            "marker": {
             "pattern": {
              "fillmode": "overlay",
              "size": 10,
              "solidity": 0.2
             }
            },
            "type": "histogram"
           }
          ],
          "histogram2d": [
           {
            "colorbar": {
             "outlinewidth": 0,
             "ticks": ""
            },
            "colorscale": [
             [
              0,
              "#0d0887"
             ],
             [
              0.1111111111111111,
              "#46039f"
             ],
             [
              0.2222222222222222,
              "#7201a8"
             ],
             [
              0.3333333333333333,
              "#9c179e"
             ],
             [
              0.4444444444444444,
              "#bd3786"
             ],
             [
              0.5555555555555556,
              "#d8576b"
             ],
             [
              0.6666666666666666,
              "#ed7953"
             ],
             [
              0.7777777777777778,
              "#fb9f3a"
             ],
             [
              0.8888888888888888,
              "#fdca26"
             ],
             [
              1,
              "#f0f921"
             ]
            ],
            "type": "histogram2d"
           }
          ],
          "histogram2dcontour": [
           {
            "colorbar": {
             "outlinewidth": 0,
             "ticks": ""
            },
            "colorscale": [
             [
              0,
              "#0d0887"
             ],
             [
              0.1111111111111111,
              "#46039f"
             ],
             [
              0.2222222222222222,
              "#7201a8"
             ],
             [
              0.3333333333333333,
              "#9c179e"
             ],
             [
              0.4444444444444444,
              "#bd3786"
             ],
             [
              0.5555555555555556,
              "#d8576b"
             ],
             [
              0.6666666666666666,
              "#ed7953"
             ],
             [
              0.7777777777777778,
              "#fb9f3a"
             ],
             [
              0.8888888888888888,
              "#fdca26"
             ],
             [
              1,
              "#f0f921"
             ]
            ],
            "type": "histogram2dcontour"
           }
          ],
          "mesh3d": [
           {
            "colorbar": {
             "outlinewidth": 0,
             "ticks": ""
            },
            "type": "mesh3d"
           }
          ],
          "parcoords": [
           {
            "line": {
             "colorbar": {
              "outlinewidth": 0,
              "ticks": ""
             }
            },
            "type": "parcoords"
           }
          ],
          "pie": [
           {
            "automargin": true,
            "type": "pie"
           }
          ],
          "scatter": [
           {
            "fillpattern": {
             "fillmode": "overlay",
             "size": 10,
             "solidity": 0.2
            },
            "type": "scatter"
           }
          ],
          "scatter3d": [
           {
            "line": {
             "colorbar": {
              "outlinewidth": 0,
              "ticks": ""
             }
            },
            "marker": {
             "colorbar": {
              "outlinewidth": 0,
              "ticks": ""
             }
            },
            "type": "scatter3d"
           }
          ],
          "scattercarpet": [
           {
            "marker": {
             "colorbar": {
              "outlinewidth": 0,
              "ticks": ""
             }
            },
            "type": "scattercarpet"
           }
          ],
          "scattergeo": [
           {
            "marker": {
             "colorbar": {
              "outlinewidth": 0,
              "ticks": ""
             }
            },
            "type": "scattergeo"
           }
          ],
          "scattergl": [
           {
            "marker": {
             "colorbar": {
              "outlinewidth": 0,
              "ticks": ""
             }
            },
            "type": "scattergl"
           }
          ],
          "scattermapbox": [
           {
            "marker": {
             "colorbar": {
              "outlinewidth": 0,
              "ticks": ""
             }
            },
            "type": "scattermapbox"
           }
          ],
          "scatterpolar": [
           {
            "marker": {
             "colorbar": {
              "outlinewidth": 0,
              "ticks": ""
             }
            },
            "type": "scatterpolar"
           }
          ],
          "scatterpolargl": [
           {
            "marker": {
             "colorbar": {
              "outlinewidth": 0,
              "ticks": ""
             }
            },
            "type": "scatterpolargl"
           }
          ],
          "scatterternary": [
           {
            "marker": {
             "colorbar": {
              "outlinewidth": 0,
              "ticks": ""
             }
            },
            "type": "scatterternary"
           }
          ],
          "surface": [
           {
            "colorbar": {
             "outlinewidth": 0,
             "ticks": ""
            },
            "colorscale": [
             [
              0,
              "#0d0887"
             ],
             [
              0.1111111111111111,
              "#46039f"
             ],
             [
              0.2222222222222222,
              "#7201a8"
             ],
             [
              0.3333333333333333,
              "#9c179e"
             ],
             [
              0.4444444444444444,
              "#bd3786"
             ],
             [
              0.5555555555555556,
              "#d8576b"
             ],
             [
              0.6666666666666666,
              "#ed7953"
             ],
             [
              0.7777777777777778,
              "#fb9f3a"
             ],
             [
              0.8888888888888888,
              "#fdca26"
             ],
             [
              1,
              "#f0f921"
             ]
            ],
            "type": "surface"
           }
          ],
          "table": [
           {
            "cells": {
             "fill": {
              "color": "#EBF0F8"
             },
             "line": {
              "color": "white"
             }
            },
            "header": {
             "fill": {
              "color": "#C8D4E3"
             },
             "line": {
              "color": "white"
             }
            },
            "type": "table"
           }
          ]
         },
         "layout": {
          "annotationdefaults": {
           "arrowcolor": "#2a3f5f",
           "arrowhead": 0,
           "arrowwidth": 1
          },
          "autotypenumbers": "strict",
          "coloraxis": {
           "colorbar": {
            "outlinewidth": 0,
            "ticks": ""
           }
          },
          "colorscale": {
           "diverging": [
            [
             0,
             "#8e0152"
            ],
            [
             0.1,
             "#c51b7d"
            ],
            [
             0.2,
             "#de77ae"
            ],
            [
             0.3,
             "#f1b6da"
            ],
            [
             0.4,
             "#fde0ef"
            ],
            [
             0.5,
             "#f7f7f7"
            ],
            [
             0.6,
             "#e6f5d0"
            ],
            [
             0.7,
             "#b8e186"
            ],
            [
             0.8,
             "#7fbc41"
            ],
            [
             0.9,
             "#4d9221"
            ],
            [
             1,
             "#276419"
            ]
           ],
           "sequential": [
            [
             0,
             "#0d0887"
            ],
            [
             0.1111111111111111,
             "#46039f"
            ],
            [
             0.2222222222222222,
             "#7201a8"
            ],
            [
             0.3333333333333333,
             "#9c179e"
            ],
            [
             0.4444444444444444,
             "#bd3786"
            ],
            [
             0.5555555555555556,
             "#d8576b"
            ],
            [
             0.6666666666666666,
             "#ed7953"
            ],
            [
             0.7777777777777778,
             "#fb9f3a"
            ],
            [
             0.8888888888888888,
             "#fdca26"
            ],
            [
             1,
             "#f0f921"
            ]
           ],
           "sequentialminus": [
            [
             0,
             "#0d0887"
            ],
            [
             0.1111111111111111,
             "#46039f"
            ],
            [
             0.2222222222222222,
             "#7201a8"
            ],
            [
             0.3333333333333333,
             "#9c179e"
            ],
            [
             0.4444444444444444,
             "#bd3786"
            ],
            [
             0.5555555555555556,
             "#d8576b"
            ],
            [
             0.6666666666666666,
             "#ed7953"
            ],
            [
             0.7777777777777778,
             "#fb9f3a"
            ],
            [
             0.8888888888888888,
             "#fdca26"
            ],
            [
             1,
             "#f0f921"
            ]
           ]
          },
          "colorway": [
           "#636efa",
           "#EF553B",
           "#00cc96",
           "#ab63fa",
           "#FFA15A",
           "#19d3f3",
           "#FF6692",
           "#B6E880",
           "#FF97FF",
           "#FECB52"
          ],
          "font": {
           "color": "#2a3f5f"
          },
          "geo": {
           "bgcolor": "white",
           "lakecolor": "white",
           "landcolor": "#E5ECF6",
           "showlakes": true,
           "showland": true,
           "subunitcolor": "white"
          },
          "hoverlabel": {
           "align": "left"
          },
          "hovermode": "closest",
          "mapbox": {
           "style": "light"
          },
          "paper_bgcolor": "white",
          "plot_bgcolor": "#E5ECF6",
          "polar": {
           "angularaxis": {
            "gridcolor": "white",
            "linecolor": "white",
            "ticks": ""
           },
           "bgcolor": "#E5ECF6",
           "radialaxis": {
            "gridcolor": "white",
            "linecolor": "white",
            "ticks": ""
           }
          },
          "scene": {
           "xaxis": {
            "backgroundcolor": "#E5ECF6",
            "gridcolor": "white",
            "gridwidth": 2,
            "linecolor": "white",
            "showbackground": true,
            "ticks": "",
            "zerolinecolor": "white"
           },
           "yaxis": {
            "backgroundcolor": "#E5ECF6",
            "gridcolor": "white",
            "gridwidth": 2,
            "linecolor": "white",
            "showbackground": true,
            "ticks": "",
            "zerolinecolor": "white"
           },
           "zaxis": {
            "backgroundcolor": "#E5ECF6",
            "gridcolor": "white",
            "gridwidth": 2,
            "linecolor": "white",
            "showbackground": true,
            "ticks": "",
            "zerolinecolor": "white"
           }
          },
          "shapedefaults": {
           "line": {
            "color": "#2a3f5f"
           }
          },
          "ternary": {
           "aaxis": {
            "gridcolor": "white",
            "linecolor": "white",
            "ticks": ""
           },
           "baxis": {
            "gridcolor": "white",
            "linecolor": "white",
            "ticks": ""
           },
           "bgcolor": "#E5ECF6",
           "caxis": {
            "gridcolor": "white",
            "linecolor": "white",
            "ticks": ""
           }
          },
          "title": {
           "x": 0.05
          },
          "xaxis": {
           "automargin": true,
           "gridcolor": "white",
           "linecolor": "white",
           "ticks": "",
           "title": {
            "standoff": 15
           },
           "zerolinecolor": "white",
           "zerolinewidth": 2
          },
          "yaxis": {
           "automargin": true,
           "gridcolor": "white",
           "linecolor": "white",
           "ticks": "",
           "title": {
            "standoff": 15
           },
           "zerolinecolor": "white",
           "zerolinewidth": 2
          }
         }
        },
        "title": {
         "text": "Dose vs. Distance"
        },
        "xaxis": {
         "title": {
          "text": "Distance (m) [Log Scale]"
         },
         "type": "log"
        },
        "yaxis": {
         "title": {
          "text": "Dose (Gy) [Log Scale]"
         },
         "type": "log"
        }
       }
      }
     },
     "metadata": {},
     "output_type": "display_data"
    }
   ],
   "source": [
    "import plotly.graph_objects as go\n",
    "\n",
    "# Create the figure\n",
    "fig = go.Figure()\n",
    "\n",
    "# Add scatter plot with dose vs distance\n",
    "fig.add_trace(go.Scatter(\n",
    "    x=filtered_data['Distance (m)'],\n",
    "    y=filtered_data['Dose (Gy)'],\n",
    "    mode='lines+markers',\n",
    "    name='Dose vs Distance'\n",
    "))\n",
    "\n",
    "# Update layout for log scale and axis labels\n",
    "fig.update_layout(\n",
    "    title=\"Dose vs. Distance\",\n",
    "    xaxis_title=\"Distance (m) [Log Scale]\",\n",
    "    yaxis_title=\"Dose (Gy) [Log Scale]\",\n",
    "    xaxis_type=\"log\",\n",
    "    yaxis_type=\"log\",\n",
    "    showlegend=True\n",
    ")\n",
    "\n",
    "# Show the plot\n",
    "fig.show()\n"
   ]
  },
  {
   "cell_type": "code",
   "execution_count": 5,
   "metadata": {},
   "outputs": [
    {
     "data": {
      "text/html": [
       "<div>\n",
       "<style scoped>\n",
       "    .dataframe tbody tr th:only-of-type {\n",
       "        vertical-align: middle;\n",
       "    }\n",
       "\n",
       "    .dataframe tbody tr th {\n",
       "        vertical-align: top;\n",
       "    }\n",
       "\n",
       "    .dataframe thead th {\n",
       "        text-align: right;\n",
       "    }\n",
       "</style>\n",
       "<table border=\"1\" class=\"dataframe\">\n",
       "  <thead>\n",
       "    <tr style=\"text-align: right;\">\n",
       "      <th></th>\n",
       "      <th>Fissile</th>\n",
       "      <th>Case</th>\n",
       "      <th>Code</th>\n",
       "      <th>Library</th>\n",
       "      <th>Flux-to-dose conversion factor</th>\n",
       "      <th>Screen</th>\n",
       "      <th>Thickness (cm)</th>\n",
       "      <th>Particle</th>\n",
       "      <th>Distance (m)</th>\n",
       "      <th>Dose (Gy)</th>\n",
       "      <th>1s uncertainty</th>\n",
       "    </tr>\n",
       "  </thead>\n",
       "  <tbody>\n",
       "    <tr>\n",
       "      <th>2184</th>\n",
       "      <td>U</td>\n",
       "      <td>C1 [U(4.95)O2F2 (H/235U = 410)]</td>\n",
       "      <td>MCNP 6.1</td>\n",
       "      <td>ENDF/B-VII.1</td>\n",
       "      <td>ANSI/HPS N13.3</td>\n",
       "      <td>None</td>\n",
       "      <td>0</td>\n",
       "      <td>N</td>\n",
       "      <td>1</td>\n",
       "      <td>9.199573e+00</td>\n",
       "      <td>0.0017</td>\n",
       "    </tr>\n",
       "    <tr>\n",
       "      <th>2185</th>\n",
       "      <td>U</td>\n",
       "      <td>C1 [U(4.95)O2F2 (H/235U = 410)]</td>\n",
       "      <td>MCNP 6.1</td>\n",
       "      <td>ENDF/B-VII.1</td>\n",
       "      <td>ANSI/HPS N13.3</td>\n",
       "      <td>None</td>\n",
       "      <td>0</td>\n",
       "      <td>N</td>\n",
       "      <td>2</td>\n",
       "      <td>3.152653e+00</td>\n",
       "      <td>0.0025</td>\n",
       "    </tr>\n",
       "    <tr>\n",
       "      <th>2186</th>\n",
       "      <td>U</td>\n",
       "      <td>C1 [U(4.95)O2F2 (H/235U = 410)]</td>\n",
       "      <td>MCNP 6.1</td>\n",
       "      <td>ENDF/B-VII.1</td>\n",
       "      <td>ANSI/HPS N13.3</td>\n",
       "      <td>None</td>\n",
       "      <td>0</td>\n",
       "      <td>N</td>\n",
       "      <td>5</td>\n",
       "      <td>6.201317e-01</td>\n",
       "      <td>0.0036</td>\n",
       "    </tr>\n",
       "    <tr>\n",
       "      <th>2187</th>\n",
       "      <td>U</td>\n",
       "      <td>C1 [U(4.95)O2F2 (H/235U = 410)]</td>\n",
       "      <td>MCNP 6.1</td>\n",
       "      <td>ENDF/B-VII.1</td>\n",
       "      <td>ANSI/HPS N13.3</td>\n",
       "      <td>None</td>\n",
       "      <td>0</td>\n",
       "      <td>N</td>\n",
       "      <td>10</td>\n",
       "      <td>1.629825e-01</td>\n",
       "      <td>0.0053</td>\n",
       "    </tr>\n",
       "    <tr>\n",
       "      <th>2188</th>\n",
       "      <td>U</td>\n",
       "      <td>C1 [U(4.95)O2F2 (H/235U = 410)]</td>\n",
       "      <td>MCNP 6.1</td>\n",
       "      <td>ENDF/B-VII.1</td>\n",
       "      <td>ANSI/HPS N13.3</td>\n",
       "      <td>None</td>\n",
       "      <td>0</td>\n",
       "      <td>N</td>\n",
       "      <td>20</td>\n",
       "      <td>4.239522e-02</td>\n",
       "      <td>0.0084</td>\n",
       "    </tr>\n",
       "    <tr>\n",
       "      <th>2189</th>\n",
       "      <td>U</td>\n",
       "      <td>C1 [U(4.95)O2F2 (H/235U = 410)]</td>\n",
       "      <td>MCNP 6.1</td>\n",
       "      <td>ENDF/B-VII.1</td>\n",
       "      <td>ANSI/HPS N13.3</td>\n",
       "      <td>None</td>\n",
       "      <td>0</td>\n",
       "      <td>N</td>\n",
       "      <td>50</td>\n",
       "      <td>7.159838e-03</td>\n",
       "      <td>0.0137</td>\n",
       "    </tr>\n",
       "    <tr>\n",
       "      <th>2190</th>\n",
       "      <td>U</td>\n",
       "      <td>C1 [U(4.95)O2F2 (H/235U = 410)]</td>\n",
       "      <td>MCNP 6.1</td>\n",
       "      <td>ENDF/B-VII.1</td>\n",
       "      <td>ANSI/HPS N13.3</td>\n",
       "      <td>None</td>\n",
       "      <td>0</td>\n",
       "      <td>N</td>\n",
       "      <td>100</td>\n",
       "      <td>1.740656e-03</td>\n",
       "      <td>0.0156</td>\n",
       "    </tr>\n",
       "    <tr>\n",
       "      <th>2191</th>\n",
       "      <td>U</td>\n",
       "      <td>C1 [U(4.95)O2F2 (H/235U = 410)]</td>\n",
       "      <td>MCNP 6.1</td>\n",
       "      <td>ENDF/B-VII.1</td>\n",
       "      <td>ANSI/HPS N13.3</td>\n",
       "      <td>None</td>\n",
       "      <td>0</td>\n",
       "      <td>N</td>\n",
       "      <td>200</td>\n",
       "      <td>3.338229e-04</td>\n",
       "      <td>0.0128</td>\n",
       "    </tr>\n",
       "    <tr>\n",
       "      <th>2192</th>\n",
       "      <td>U</td>\n",
       "      <td>C1 [U(4.95)O2F2 (H/235U = 410)]</td>\n",
       "      <td>MCNP 6.1</td>\n",
       "      <td>ENDF/B-VII.1</td>\n",
       "      <td>ANSI/HPS N13.3</td>\n",
       "      <td>None</td>\n",
       "      <td>0</td>\n",
       "      <td>N</td>\n",
       "      <td>300</td>\n",
       "      <td>1.031012e-04</td>\n",
       "      <td>0.0176</td>\n",
       "    </tr>\n",
       "    <tr>\n",
       "      <th>2193</th>\n",
       "      <td>U</td>\n",
       "      <td>C1 [U(4.95)O2F2 (H/235U = 410)]</td>\n",
       "      <td>MCNP 6.1</td>\n",
       "      <td>ENDF/B-VII.1</td>\n",
       "      <td>ANSI/HPS N13.3</td>\n",
       "      <td>None</td>\n",
       "      <td>0</td>\n",
       "      <td>N</td>\n",
       "      <td>500</td>\n",
       "      <td>1.542779e-05</td>\n",
       "      <td>0.0127</td>\n",
       "    </tr>\n",
       "    <tr>\n",
       "      <th>2194</th>\n",
       "      <td>U</td>\n",
       "      <td>C1 [U(4.95)O2F2 (H/235U = 410)]</td>\n",
       "      <td>MCNP 6.1</td>\n",
       "      <td>ENDF/B-VII.1</td>\n",
       "      <td>ANSI/HPS N13.3</td>\n",
       "      <td>None</td>\n",
       "      <td>0</td>\n",
       "      <td>N</td>\n",
       "      <td>700</td>\n",
       "      <td>3.053311e-06</td>\n",
       "      <td>0.0132</td>\n",
       "    </tr>\n",
       "    <tr>\n",
       "      <th>2195</th>\n",
       "      <td>U</td>\n",
       "      <td>C1 [U(4.95)O2F2 (H/235U = 410)]</td>\n",
       "      <td>MCNP 6.1</td>\n",
       "      <td>ENDF/B-VII.1</td>\n",
       "      <td>ANSI/HPS N13.3</td>\n",
       "      <td>None</td>\n",
       "      <td>0</td>\n",
       "      <td>N</td>\n",
       "      <td>1000</td>\n",
       "      <td>3.226720e-07</td>\n",
       "      <td>0.0127</td>\n",
       "    </tr>\n",
       "    <tr>\n",
       "      <th>2196</th>\n",
       "      <td>U</td>\n",
       "      <td>C1 [U(4.95)O2F2 (H/235U = 410)]</td>\n",
       "      <td>MCNP 6.1</td>\n",
       "      <td>ENDF/B-VII.1</td>\n",
       "      <td>ANSI/HPS N13.3</td>\n",
       "      <td>None</td>\n",
       "      <td>0</td>\n",
       "      <td>N</td>\n",
       "      <td>1200</td>\n",
       "      <td>7.712506e-08</td>\n",
       "      <td>0.0104</td>\n",
       "    </tr>\n",
       "  </tbody>\n",
       "</table>\n",
       "</div>"
      ],
      "text/plain": [
       "     Fissile                             Case      Code       Library  \\\n",
       "2184       U  C1 [U(4.95)O2F2 (H/235U = 410)]  MCNP 6.1  ENDF/B-VII.1   \n",
       "2185       U  C1 [U(4.95)O2F2 (H/235U = 410)]  MCNP 6.1  ENDF/B-VII.1   \n",
       "2186       U  C1 [U(4.95)O2F2 (H/235U = 410)]  MCNP 6.1  ENDF/B-VII.1   \n",
       "2187       U  C1 [U(4.95)O2F2 (H/235U = 410)]  MCNP 6.1  ENDF/B-VII.1   \n",
       "2188       U  C1 [U(4.95)O2F2 (H/235U = 410)]  MCNP 6.1  ENDF/B-VII.1   \n",
       "2189       U  C1 [U(4.95)O2F2 (H/235U = 410)]  MCNP 6.1  ENDF/B-VII.1   \n",
       "2190       U  C1 [U(4.95)O2F2 (H/235U = 410)]  MCNP 6.1  ENDF/B-VII.1   \n",
       "2191       U  C1 [U(4.95)O2F2 (H/235U = 410)]  MCNP 6.1  ENDF/B-VII.1   \n",
       "2192       U  C1 [U(4.95)O2F2 (H/235U = 410)]  MCNP 6.1  ENDF/B-VII.1   \n",
       "2193       U  C1 [U(4.95)O2F2 (H/235U = 410)]  MCNP 6.1  ENDF/B-VII.1   \n",
       "2194       U  C1 [U(4.95)O2F2 (H/235U = 410)]  MCNP 6.1  ENDF/B-VII.1   \n",
       "2195       U  C1 [U(4.95)O2F2 (H/235U = 410)]  MCNP 6.1  ENDF/B-VII.1   \n",
       "2196       U  C1 [U(4.95)O2F2 (H/235U = 410)]  MCNP 6.1  ENDF/B-VII.1   \n",
       "\n",
       "     Flux-to-dose conversion factor Screen  Thickness (cm) Particle  \\\n",
       "2184                 ANSI/HPS N13.3   None               0        N   \n",
       "2185                 ANSI/HPS N13.3   None               0        N   \n",
       "2186                 ANSI/HPS N13.3   None               0        N   \n",
       "2187                 ANSI/HPS N13.3   None               0        N   \n",
       "2188                 ANSI/HPS N13.3   None               0        N   \n",
       "2189                 ANSI/HPS N13.3   None               0        N   \n",
       "2190                 ANSI/HPS N13.3   None               0        N   \n",
       "2191                 ANSI/HPS N13.3   None               0        N   \n",
       "2192                 ANSI/HPS N13.3   None               0        N   \n",
       "2193                 ANSI/HPS N13.3   None               0        N   \n",
       "2194                 ANSI/HPS N13.3   None               0        N   \n",
       "2195                 ANSI/HPS N13.3   None               0        N   \n",
       "2196                 ANSI/HPS N13.3   None               0        N   \n",
       "\n",
       "      Distance (m)     Dose (Gy)  1s uncertainty  \n",
       "2184             1  9.199573e+00          0.0017  \n",
       "2185             2  3.152653e+00          0.0025  \n",
       "2186             5  6.201317e-01          0.0036  \n",
       "2187            10  1.629825e-01          0.0053  \n",
       "2188            20  4.239522e-02          0.0084  \n",
       "2189            50  7.159838e-03          0.0137  \n",
       "2190           100  1.740656e-03          0.0156  \n",
       "2191           200  3.338229e-04          0.0128  \n",
       "2192           300  1.031012e-04          0.0176  \n",
       "2193           500  1.542779e-05          0.0127  \n",
       "2194           700  3.053311e-06          0.0132  \n",
       "2195          1000  3.226720e-07          0.0127  \n",
       "2196          1200  7.712506e-08          0.0104  "
      ]
     },
     "execution_count": 5,
     "metadata": {},
     "output_type": "execute_result"
    }
   ],
   "source": [
    "# Define your filter criteria\n",
    "particles = ['N']  # Example: ['N', 'P']  \n",
    "screens = ['None']  # Example: ['Concrete', 'Steel', 'Water', 'Lead']\n",
    "cases = ['C1 [U(4.95)O2F2 (H/235U = 410)]']  # Example: ['C1 [U(4.95)O2F2 (H/235U = 410)]', 'C4 [U(93.2) (H/235U = 0)]']\n",
    "codes = ['MCNP 6.1']  # Example: ['MCNP 6.1', 'COG 11.2', 'SCALE 6.2.2']\n",
    "thicknesses = []  # Example: [1, 5, 10, 20]\n",
    "\n",
    "# Apply the filter\n",
    "filtered_data = filter_dataframe(data, particles, screens, cases, codes, thicknesses)\n",
    "\n",
    "# Display the filtered data\n",
    "filtered_data"
   ]
  },
  {
   "cell_type": "code",
   "execution_count": 16,
   "metadata": {},
   "outputs": [],
   "source": [
    "import numpy as np\n",
    "from scipy.optimize import curve_fit\n",
    "import matplotlib.pyplot as plt\n",
    "\n",
    "def fit_data(xdata, ydata, plot=False):\n",
    "    \"\"\"\n",
    "    Fits the model y = A * x^(-k) * exp(-b * x) to the provided data.\n",
    "\n",
    "    Parameters:\n",
    "    - xdata: numpy array of x values in meters\n",
    "    - ydata: numpy array of corresponding y values\n",
    "    - plot: boolean indicating whether to display the fit plot\n",
    "\n",
    "    Returns:\n",
    "    - A_opt: optimal value of parameter A\n",
    "    - k_opt: optimal value of parameter k\n",
    "    - b_opt: optimal value of parameter b\n",
    "    - R_squared: coefficient of determination R²\n",
    "    \"\"\"\n",
    "    # Ensure xdata and ydata are numpy arrays\n",
    "    xdata = np.array(xdata)  # xdata in meters\n",
    "    ydata = np.array(ydata)\n",
    "    \n",
    "    # Take the natural logarithm of y data\n",
    "    ln_ydata = np.log(ydata)\n",
    "    \n",
    "    # Model function for the logarithms\n",
    "    def log_model_func(x, lnA, k, b):\n",
    "        return lnA - k * np.log(x) - b * x\n",
    "    \n",
    "    # Initial estimates from linear regression\n",
    "    ln_x = np.log(xdata)\n",
    "    X = np.column_stack((np.ones(len(ln_x)), ln_x, xdata))\n",
    "    beta, residuals, rank, s = np.linalg.lstsq(X, ln_ydata, rcond=None)\n",
    "    lnA_init = beta[0]\n",
    "    k_init = -beta[1]\n",
    "    b_init = -beta[2]\n",
    "    \n",
    "    initial_guess = [lnA_init, k_init, b_init]\n",
    "    \n",
    "    # Fit the model to the logarithmic data\n",
    "    popt, pcov = curve_fit(log_model_func, xdata, ln_ydata, p0=initial_guess, maxfev=10000)\n",
    "    \n",
    "    # Extract optimal parameters\n",
    "    lnA_opt, k_opt, b_opt = popt\n",
    "    A_opt = np.exp(lnA_opt)\n",
    "    \n",
    "    # Compute fitted values with optimal parameters\n",
    "    ln_y_fit = log_model_func(xdata, lnA_opt, k_opt, b_opt)\n",
    "    y_fit = np.exp(ln_y_fit)\n",
    "    \n",
    "    # Calculate the coefficient of determination R²\n",
    "    ss_res = np.sum((ln_ydata - ln_y_fit) ** 2)\n",
    "    ss_tot = np.sum((ln_ydata - np.mean(ln_ydata)) ** 2)\n",
    "    R_squared = 1 - (ss_res / ss_tot)\n",
    "    \n",
    "    # # Display results\n",
    "    # print(f\"Optimal parameters after fitting:\")\n",
    "    # print(f\"A = {A_opt}\")\n",
    "    # print(f\"k = {k_opt}\")\n",
    "    # print(f\"b = {b_opt}\")\n",
    "    # print(f\"Coefficient of determination R² = {R_squared}\\n\")\n",
    "    \n",
    "    # Optionally, display the plot\n",
    "    if plot:\n",
    "        plt.figure(figsize=(10, 6))\n",
    "        plt.loglog(xdata, ydata, 'bo', label='Experimental data')\n",
    "        plt.loglog(xdata, y_fit, 'r-', label='Fitted model')\n",
    "        plt.xlabel('x (meters)')\n",
    "        plt.ylabel('y')\n",
    "        plt.title('Model fit to data')\n",
    "        plt.legend()\n",
    "        plt.grid(True, which=\"both\", ls=\"--\")\n",
    "        \n",
    "        # Add the formula with parameter values and R² to the plot\n",
    "        formula_text = (f\"y = {A_opt:.3e} * x^(-{k_opt:.3f}) * exp(-{b_opt:.3e} * x)\\n\"\n",
    "                        f\"$R^2$ = {R_squared:.6f}\")\n",
    "        plt.text(0.05, 0.1, formula_text, transform=plt.gca().transAxes, fontsize=12,\n",
    "                 bbox=dict(facecolor='white', alpha=0.5))\n",
    "        \n",
    "        plt.show()\n",
    "    \n",
    "    return A_opt, k_opt, b_opt, R_squared\n"
   ]
  },
  {
   "cell_type": "code",
   "execution_count": 17,
   "metadata": {},
   "outputs": [
    {
     "data": {
      "image/png": "[encoded data removed]",
      "text/plain": [
       "<Figure size 1000x600 with 1 Axes>"
      ]
     },
     "metadata": {},
     "output_type": "display_data"
    },
    {
     "name": "stdout",
     "output_type": "stream",
     "text": [
      "A = 9.726853779490932\n",
      "k = 1.7487543240381649\n",
      "b = 0.005139970499808651\n",
      "R² = 0.9998425681064602\n"
     ]
    }
   ],
   "source": [
    "# Experimental data (xdata in meters)\n",
    "xdata = np.array([1, 2, 5, 10, 20, 50, 100,\n",
    "                  200, 300, 500, 700, 1000, 1200])  # xdata in meters\n",
    "ydata = np.array([9.199572953, 3.15265299, 0.620131736, 0.162982509,\n",
    "                  0.042395217, 0.007159838, 0.001740656, 0.000333823,\n",
    "                  0.000103101, 1.54e-05, 3.05e-06, 3.23e-07, 7.71e-08])\n",
    "\n",
    "# Call the fit function with plot=True\n",
    "A_opt, k_opt, b_opt, R_squared = fit_data(xdata, ydata, plot=True)\n",
    "\n",
    "print(f\"A = {A_opt}\")\n",
    "print(f\"k = {k_opt}\")\n",
    "print(f\"b = {b_opt}\")\n",
    "print(f\"R² = {R_squared}\")\n"
   ]
  },
  {
   "cell_type": "code",
   "execution_count": 1,
   "metadata": {},
   "outputs": [],
   "source": [
    "import pandas as pd\n",
    "import plotly.graph_objs as go\n",
    "\n",
    "def filter_dataframe(data, particles, screens, cases, codes, thicknesses, plot=False):\n",
    "    # Apply the filters\n",
    "    filtered_data = data[\n",
    "        (data['Particle'].isin(particles)) &\n",
    "        (data['Screen'].isin(screens)) &\n",
    "        (data['Case'].isin(cases)) &\n",
    "        (data['Code'].isin(codes))\n",
    "    ]\n",
    "    \n",
    "    if thicknesses:  # Only apply thickness filter if it's not empty\n",
    "        filtered_data = filtered_data[filtered_data['Thickness (cm)'].isin(thicknesses)]\n",
    "    \n",
    "    # **Create a copy to avoid SettingWithCopyWarning**\n",
    "    filtered_data = filtered_data.copy()\n",
    "    \n",
    "    # Calculate absolute uncertainties if not already present\n",
    "    if \"Absolute Uncertainty\" not in filtered_data.columns:\n",
    "        filtered_data[\"Absolute Uncertainty\"] = filtered_data[\"1s uncertainty\"] * filtered_data[\"Dose (Gy)\"]\n",
    "    \n",
    "    # Add 'Filter Combo' column if not already present\n",
    "    if 'Filter Combo' not in filtered_data.columns:\n",
    "        filtered_data['Filter Combo'] = filtered_data.apply(\n",
    "            lambda row: f\"{row['Particle']}_{row['Screen']}_{row['Code']}_{row['Case']}_{row['Thickness (cm)']}\", axis=1)\n",
    "    \n",
    "    if plot:\n",
    "        # Create the plot\n",
    "        fig = go.Figure()\n",
    "        fig.update_layout(\n",
    "            title=\"Dose vs. Distances\",\n",
    "            xaxis_title=\"Distance (m) [Log]\",\n",
    "            yaxis_title=\"Dose (Gy) [Log]\",\n",
    "            legend_title=\"\",\n",
    "            xaxis={'type': 'log'},\n",
    "            yaxis={'type': 'log', 'tickformat': '.2e'},\n",
    "            showlegend=True\n",
    "        )\n",
    "        \n",
    "        for combo in filtered_data['Filter Combo'].unique():\n",
    "            df_subset = filtered_data[filtered_data['Filter Combo'] == combo]\n",
    "            fig.add_trace(go.Scatter(\n",
    "                x=df_subset[\"Distance (m)\"],\n",
    "                y=df_subset[\"Dose (Gy)\"],\n",
    "                mode='lines+markers',\n",
    "                name=combo,\n",
    "                line=dict(dash='dash'),\n",
    "                error_y=dict(\n",
    "                    type='data',\n",
    "                    array=2 * df_subset[\"Absolute Uncertainty\"],\n",
    "                    visible=True\n",
    "                )\n",
    "            ))\n",
    "        \n",
    "        fig.show()\n",
    "    \n",
    "    return filtered_data\n"
   ]
  },
  {
   "cell_type": "code",
   "execution_count": 3,
   "metadata": {},
   "outputs": [
    {
     "data": {
      "application/vnd.plotly.v1+json": {
       "config": {
        "plotlyServerURL": "https://plot.ly"
       },
       "data": [
        {
         "error_y": {
          "array": [
           0.00833630865245752,
           0.0036974972823844285,
           0.001089085522642387,
           0.00038808575835014747,
           0.00013606501584401376,
           0.00003507092166178869,
           0.000010425542647677635,
           0.0000024266500509368073,
           0.000005311593115087919,
           2.118247796279349e-7,
           6.247914765937843e-8,
           8.548078921386884e-9,
           2.9234257368338956e-9
          ],
          "type": "data",
          "visible": true
         },
         "line": {
          "dash": "dash"
         },
         "mode": "lines+markers",
         "name": "P_None_MCNP 6.1_C1 [U(4.95)O2F2 (H/235U = 410)]_0",
         "type": "scatter",
         "x": [
          1,
          2,
          5,
          10,
          20,
          50,
          100,
          200,
          300,
          500,
          700,
          1000,
          1200
         ],
         "y": [
          5.210192907785949,
          1.6806805829020128,
          0.320319271365408,
          0.0843664692065538,
          0.021260158725627146,
          0.0032473075612767304,
          0.000714078263539564,
          0.0001290771303689791,
          0.0000401784653183655,
          0.00000657840930521537,
          0.000001523881650228742,
          2.33554068890352e-7,
          7.308564342084739e-8
         ]
        }
       ],
       "layout": {
        "legend": {
         "title": {
          "text": ""
         }
        },
        "showlegend": true,
        "template": {
         "data": {
          "bar": [
           {
            "error_x": {
             "color": "#2a3f5f"
            },
            "error_y": {
             "color": "#2a3f5f"
            },
            "marker": {
             "line": {
              "color": "#E5ECF6",
              "width": 0.5
             },
             "pattern": {
              "fillmode": "overlay",
              "size": 10,
              "solidity": 0.2
             }
            },
            "type": "bar"
           }
          ],
          "barpolar": [
           {
            "marker": {
             "line": {
              "color": "#E5ECF6",
              "width": 0.5
             },
             "pattern": {
              "fillmode": "overlay",
              "size": 10,
              "solidity": 0.2
             }
            },
            "type": "barpolar"
           }
          ],
          "carpet": [
           {
            "aaxis": {
             "endlinecolor": "#2a3f5f",
             "gridcolor": "white",
             "linecolor": "white",
             "minorgridcolor": "white",
             "startlinecolor": "#2a3f5f"
            },
            "baxis": {
             "endlinecolor": "#2a3f5f",
             "gridcolor": "white",
             "linecolor": "white",
             "minorgridcolor": "white",
             "startlinecolor": "#2a3f5f"
            },
            "type": "carpet"
           }
          ],
          "choropleth": [
           {
            "colorbar": {
             "outlinewidth": 0,
             "ticks": ""
            },
            "type": "choropleth"
           }
          ],
          "contour": [
           {
            "colorbar": {
             "outlinewidth": 0,
             "ticks": ""
            },
            "colorscale": [
             [
              0,
              "#0d0887"
             ],
             [
              0.1111111111111111,
              "#46039f"
             ],
             [
              0.2222222222222222,
              "#7201a8"
             ],
             [
              0.3333333333333333,
              "#9c179e"
             ],
             [
              0.4444444444444444,
              "#bd3786"
             ],
             [
              0.5555555555555556,
              "#d8576b"
             ],
             [
              0.6666666666666666,
              "#ed7953"
             ],
             [
              0.7777777777777778,
              "#fb9f3a"
             ],
             [
              0.8888888888888888,
              "#fdca26"
             ],
             [
              1,
              "#f0f921"
             ]
            ],
            "type": "contour"
           }
          ],
          "contourcarpet": [
           {
            "colorbar": {
             "outlinewidth": 0,
             "ticks": ""
            },
            "type": "contourcarpet"
           }
          ],
          "heatmap": [
           {
            "colorbar": {
             "outlinewidth": 0,
             "ticks": ""
            },
            "colorscale": [
             [
              0,
              "#0d0887"
             ],
             [
              0.1111111111111111,
              "#46039f"
             ],
             [
              0.2222222222222222,
              "#7201a8"
             ],
             [
              0.3333333333333333,
              "#9c179e"
             ],
             [
              0.4444444444444444,
              "#bd3786"
             ],
             [
              0.5555555555555556,
              "#d8576b"
             ],
             [
              0.6666666666666666,
              "#ed7953"
             ],
             [
              0.7777777777777778,
              "#fb9f3a"
             ],
             [
              0.8888888888888888,
              "#fdca26"
             ],
             [
              1,
              "#f0f921"
             ]
            ],
            "type": "heatmap"
           }
          ],
          "heatmapgl": [
           {
            "colorbar": {
             "outlinewidth": 0,
             "ticks": ""
            },
            "colorscale": [
             [
              0,
              "#0d0887"
             ],
             [
              0.1111111111111111,
              "#46039f"
             ],
             [
              0.2222222222222222,
              "#7201a8"
             ],
             [
              0.3333333333333333,
              "#9c179e"
             ],
             [
              0.4444444444444444,
              "#bd3786"
             ],
             [
              0.5555555555555556,
              "#d8576b"
             ],
             [
              0.6666666666666666,
              "#ed7953"
             ],
             [
              0.7777777777777778,
              "#fb9f3a"
             ],
             [
              0.8888888888888888,
              "#fdca26"
             ],
             [
              1,
              "#f0f921"
             ]
            ],
            "type": "heatmapgl"
           }
          ],
          "histogram": [
           {
            "marker": {
             "pattern": {
              "fillmode": "overlay",
              "size": 10,
              "solidity": 0.2
             }
            },
            "type": "histogram"
           }
          ],
          "histogram2d": [
           {
            "colorbar": {
             "outlinewidth": 0,
             "ticks": ""
            },
            "colorscale": [
             [
              0,
              "#0d0887"
             ],
             [
              0.1111111111111111,
              "#46039f"
             ],
             [
              0.2222222222222222,
              "#7201a8"
             ],
             [
              0.3333333333333333,
              "#9c179e"
             ],
             [
              0.4444444444444444,
              "#bd3786"
             ],
             [
              0.5555555555555556,
              "#d8576b"
             ],
             [
              0.6666666666666666,
              "#ed7953"
             ],
             [
              0.7777777777777778,
              "#fb9f3a"
             ],
             [
              0.8888888888888888,
              "#fdca26"
             ],
             [
              1,
              "#f0f921"
             ]
            ],
            "type": "histogram2d"
           }
          ],
          "histogram2dcontour": [
           {
            "colorbar": {
             "outlinewidth": 0,
             "ticks": ""
            },
            "colorscale": [
             [
              0,
              "#0d0887"
             ],
             [
              0.1111111111111111,
              "#46039f"
             ],
             [
              0.2222222222222222,
              "#7201a8"
             ],
             [
              0.3333333333333333,
              "#9c179e"
             ],
             [
              0.4444444444444444,
              "#bd3786"
             ],
             [
              0.5555555555555556,
              "#d8576b"
             ],
             [
              0.6666666666666666,
              "#ed7953"
             ],
             [
              0.7777777777777778,
              "#fb9f3a"
             ],
             [
              0.8888888888888888,
              "#fdca26"
             ],
             [
              1,
              "#f0f921"
             ]
            ],
            "type": "histogram2dcontour"
           }
          ],
          "mesh3d": [
           {
            "colorbar": {
             "outlinewidth": 0,
             "ticks": ""
            },
            "type": "mesh3d"
           }
          ],
          "parcoords": [
           {
            "line": {
             "colorbar": {
              "outlinewidth": 0,
              "ticks": ""
             }
            },
            "type": "parcoords"
           }
          ],
          "pie": [
           {
            "automargin": true,
            "type": "pie"
           }
          ],
          "scatter": [
           {
            "fillpattern": {
             "fillmode": "overlay",
             "size": 10,
             "solidity": 0.2
            },
            "type": "scatter"
           }
          ],
          "scatter3d": [
           {
            "line": {
             "colorbar": {
              "outlinewidth": 0,
              "ticks": ""
             }
            },
            "marker": {
             "colorbar": {
              "outlinewidth": 0,
              "ticks": ""
             }
            },
            "type": "scatter3d"
           }
          ],
          "scattercarpet": [
           {
            "marker": {
             "colorbar": {
              "outlinewidth": 0,
              "ticks": ""
             }
            },
            "type": "scattercarpet"
           }
          ],
          "scattergeo": [
           {
            "marker": {
             "colorbar": {
              "outlinewidth": 0,
              "ticks": ""
             }
            },
            "type": "scattergeo"
           }
          ],
          "scattergl": [
           {
            "marker": {
             "colorbar": {
              "outlinewidth": 0,
              "ticks": ""
             }
            },
            "type": "scattergl"
           }
          ],
          "scattermapbox": [
           {
            "marker": {
             "colorbar": {
              "outlinewidth": 0,
              "ticks": ""
             }
            },
            "type": "scattermapbox"
           }
          ],
          "scatterpolar": [
           {
            "marker": {
             "colorbar": {
              "outlinewidth": 0,
              "ticks": ""
             }
            },
            "type": "scatterpolar"
           }
          ],
          "scatterpolargl": [
           {
            "marker": {
             "colorbar": {
              "outlinewidth": 0,
              "ticks": ""
             }
            },
            "type": "scatterpolargl"
           }
          ],
          "scatterternary": [
           {
            "marker": {
             "colorbar": {
              "outlinewidth": 0,
              "ticks": ""
             }
            },
            "type": "scatterternary"
           }
          ],
          "surface": [
           {
            "colorbar": {
             "outlinewidth": 0,
             "ticks": ""
            },
            "colorscale": [
             [
              0,
              "#0d0887"
             ],
             [
              0.1111111111111111,
              "#46039f"
             ],
             [
              0.2222222222222222,
              "#7201a8"
             ],
             [
              0.3333333333333333,
              "#9c179e"
             ],
             [
              0.4444444444444444,
              "#bd3786"
             ],
             [
              0.5555555555555556,
              "#d8576b"
             ],
             [
              0.6666666666666666,
              "#ed7953"
             ],
             [
              0.7777777777777778,
              "#fb9f3a"
             ],
             [
              0.8888888888888888,
              "#fdca26"
             ],
             [
              1,
              "#f0f921"
             ]
            ],
            "type": "surface"
           }
          ],
          "table": [
           {
            "cells": {
             "fill": {
              "color": "#EBF0F8"
             },
             "line": {
              "color": "white"
             }
            },
            "header": {
             "fill": {
              "color": "#C8D4E3"
             },
             "line": {
              "color": "white"
             }
            },
            "type": "table"
           }
          ]
         },
         "layout": {
          "annotationdefaults": {
           "arrowcolor": "#2a3f5f",
           "arrowhead": 0,
           "arrowwidth": 1
          },
          "autotypenumbers": "strict",
          "coloraxis": {
           "colorbar": {
            "outlinewidth": 0,
            "ticks": ""
           }
          },
          "colorscale": {
           "diverging": [
            [
             0,
             "#8e0152"
            ],
            [
             0.1,
             "#c51b7d"
            ],
            [
             0.2,
             "#de77ae"
            ],
            [
             0.3,
             "#f1b6da"
            ],
            [
             0.4,
             "#fde0ef"
            ],
            [
             0.5,
             "#f7f7f7"
            ],
            [
             0.6,
             "#e6f5d0"
            ],
            [
             0.7,
             "#b8e186"
            ],
            [
             0.8,
             "#7fbc41"
            ],
            [
             0.9,
             "#4d9221"
            ],
            [
             1,
             "#276419"
            ]
           ],
           "sequential": [
            [
             0,
             "#0d0887"
            ],
            [
             0.1111111111111111,
             "#46039f"
            ],
            [
             0.2222222222222222,
             "#7201a8"
            ],
            [
             0.3333333333333333,
             "#9c179e"
            ],
            [
             0.4444444444444444,
             "#bd3786"
            ],
            [
             0.5555555555555556,
             "#d8576b"
            ],
            [
             0.6666666666666666,
             "#ed7953"
            ],
            [
             0.7777777777777778,
             "#fb9f3a"
            ],
            [
             0.8888888888888888,
             "#fdca26"
            ],
            [
             1,
             "#f0f921"
            ]
           ],
           "sequentialminus": [
            [
             0,
             "#0d0887"
            ],
            [
             0.1111111111111111,
             "#46039f"
            ],
            [
             0.2222222222222222,
             "#7201a8"
            ],
            [
             0.3333333333333333,
             "#9c179e"
            ],
            [
             0.4444444444444444,
             "#bd3786"
            ],
            [
             0.5555555555555556,
             "#d8576b"
            ],
            [
             0.6666666666666666,
             "#ed7953"
            ],
            [
             0.7777777777777778,
             "#fb9f3a"
            ],
            [
             0.8888888888888888,
             "#fdca26"
            ],
            [
             1,
             "#f0f921"
            ]
           ]
          },
          "colorway": [
           "#636efa",
           "#EF553B",
           "#00cc96",
           "#ab63fa",
           "#FFA15A",
           "#19d3f3",
           "#FF6692",
           "#B6E880",
           "#FF97FF",
           "#FECB52"
          ],
          "font": {
           "color": "#2a3f5f"
          },
          "geo": {
           "bgcolor": "white",
           "lakecolor": "white",
           "landcolor": "#E5ECF6",
           "showlakes": true,
           "showland": true,
           "subunitcolor": "white"
          },
          "hoverlabel": {
           "align": "left"
          },
          "hovermode": "closest",
          "mapbox": {
           "style": "light"
          },
          "paper_bgcolor": "white",
          "plot_bgcolor": "#E5ECF6",
          "polar": {
           "angularaxis": {
            "gridcolor": "white",
            "linecolor": "white",
            "ticks": ""
           },
           "bgcolor": "#E5ECF6",
           "radialaxis": {
            "gridcolor": "white",
            "linecolor": "white",
            "ticks": ""
           }
          },
          "scene": {
           "xaxis": {
            "backgroundcolor": "#E5ECF6",
            "gridcolor": "white",
            "gridwidth": 2,
            "linecolor": "white",
            "showbackground": true,
            "ticks": "",
            "zerolinecolor": "white"
           },
           "yaxis": {
            "backgroundcolor": "#E5ECF6",
            "gridcolor": "white",
            "gridwidth": 2,
            "linecolor": "white",
            "showbackground": true,
            "ticks": "",
            "zerolinecolor": "white"
           },
           "zaxis": {
            "backgroundcolor": "#E5ECF6",
            "gridcolor": "white",
            "gridwidth": 2,
            "linecolor": "white",
            "showbackground": true,
            "ticks": "",
            "zerolinecolor": "white"
           }
          },
          "shapedefaults": {
           "line": {
            "color": "#2a3f5f"
           }
          },
          "ternary": {
           "aaxis": {
            "gridcolor": "white",
            "linecolor": "white",
            "ticks": ""
           },
           "baxis": {
            "gridcolor": "white",
            "linecolor": "white",
            "ticks": ""
           },
           "bgcolor": "#E5ECF6",
           "caxis": {
            "gridcolor": "white",
            "linecolor": "white",
            "ticks": ""
           }
          },
          "title": {
           "x": 0.05
          },
          "xaxis": {
           "automargin": true,
           "gridcolor": "white",
           "linecolor": "white",
           "ticks": "",
           "title": {
            "standoff": 15
           },
           "zerolinecolor": "white",
           "zerolinewidth": 2
          },
          "yaxis": {
           "automargin": true,
           "gridcolor": "white",
           "linecolor": "white",
           "ticks": "",
           "title": {
            "standoff": 15
           },
           "zerolinecolor": "white",
           "zerolinewidth": 2
          }
         }
        },
        "title": {
         "text": "Dose vs. Distances"
        },
        "xaxis": {
         "title": {
          "text": "Distance (m) [Log]"
         },
         "type": "log"
        },
        "yaxis": {
         "tickformat": ".2e",
         "title": {
          "text": "Dose (Gy) [Log]"
         },
         "type": "log"
        }
       }
      }
     },
     "metadata": {},
     "output_type": "display_data"
    },
    {
     "data": {
      "text/html": [
       "<div>\n",
       "<style scoped>\n",
       "    .dataframe tbody tr th:only-of-type {\n",
       "        vertical-align: middle;\n",
       "    }\n",
       "\n",
       "    .dataframe tbody tr th {\n",
       "        vertical-align: top;\n",
       "    }\n",
       "\n",
       "    .dataframe thead th {\n",
       "        text-align: right;\n",
       "    }\n",
       "</style>\n",
       "<table border=\"1\" class=\"dataframe\">\n",
       "  <thead>\n",
       "    <tr style=\"text-align: right;\">\n",
       "      <th></th>\n",
       "      <th>Fissile</th>\n",
       "      <th>Case</th>\n",
       "      <th>Code</th>\n",
       "      <th>Library</th>\n",
       "      <th>Flux-to-dose conversion factor</th>\n",
       "      <th>Screen</th>\n",
       "      <th>Thickness (cm)</th>\n",
       "      <th>Particle</th>\n",
       "      <th>Distance (m)</th>\n",
       "      <th>Dose (Gy)</th>\n",
       "      <th>1s uncertainty</th>\n",
       "      <th>Absolute Uncertainty</th>\n",
       "      <th>Filter Combo</th>\n",
       "    </tr>\n",
       "  </thead>\n",
       "  <tbody>\n",
       "    <tr>\n",
       "      <th>2197</th>\n",
       "      <td>U</td>\n",
       "      <td>C1 [U(4.95)O2F2 (H/235U = 410)]</td>\n",
       "      <td>MCNP 6.1</td>\n",
       "      <td>ENDF/B-VII.1</td>\n",
       "      <td>ANSI/HPS N13.3</td>\n",
       "      <td>None</td>\n",
       "      <td>0</td>\n",
       "      <td>P</td>\n",
       "      <td>1</td>\n",
       "      <td>5.210193e+00</td>\n",
       "      <td>0.0008</td>\n",
       "      <td>4.168154e-03</td>\n",
       "      <td>P_None_MCNP 6.1_C1 [U(4.95)O2F2 (H/235U = 410)]_0</td>\n",
       "    </tr>\n",
       "    <tr>\n",
       "      <th>2198</th>\n",
       "      <td>U</td>\n",
       "      <td>C1 [U(4.95)O2F2 (H/235U = 410)]</td>\n",
       "      <td>MCNP 6.1</td>\n",
       "      <td>ENDF/B-VII.1</td>\n",
       "      <td>ANSI/HPS N13.3</td>\n",
       "      <td>None</td>\n",
       "      <td>0</td>\n",
       "      <td>P</td>\n",
       "      <td>2</td>\n",
       "      <td>1.680681e+00</td>\n",
       "      <td>0.0011</td>\n",
       "      <td>1.848749e-03</td>\n",
       "      <td>P_None_MCNP 6.1_C1 [U(4.95)O2F2 (H/235U = 410)]_0</td>\n",
       "    </tr>\n",
       "    <tr>\n",
       "      <th>2199</th>\n",
       "      <td>U</td>\n",
       "      <td>C1 [U(4.95)O2F2 (H/235U = 410)]</td>\n",
       "      <td>MCNP 6.1</td>\n",
       "      <td>ENDF/B-VII.1</td>\n",
       "      <td>ANSI/HPS N13.3</td>\n",
       "      <td>None</td>\n",
       "      <td>0</td>\n",
       "      <td>P</td>\n",
       "      <td>5</td>\n",
       "      <td>3.203193e-01</td>\n",
       "      <td>0.0017</td>\n",
       "      <td>5.445428e-04</td>\n",
       "      <td>P_None_MCNP 6.1_C1 [U(4.95)O2F2 (H/235U = 410)]_0</td>\n",
       "    </tr>\n",
       "    <tr>\n",
       "      <th>2200</th>\n",
       "      <td>U</td>\n",
       "      <td>C1 [U(4.95)O2F2 (H/235U = 410)]</td>\n",
       "      <td>MCNP 6.1</td>\n",
       "      <td>ENDF/B-VII.1</td>\n",
       "      <td>ANSI/HPS N13.3</td>\n",
       "      <td>None</td>\n",
       "      <td>0</td>\n",
       "      <td>P</td>\n",
       "      <td>10</td>\n",
       "      <td>8.436647e-02</td>\n",
       "      <td>0.0023</td>\n",
       "      <td>1.940429e-04</td>\n",
       "      <td>P_None_MCNP 6.1_C1 [U(4.95)O2F2 (H/235U = 410)]_0</td>\n",
       "    </tr>\n",
       "    <tr>\n",
       "      <th>2201</th>\n",
       "      <td>U</td>\n",
       "      <td>C1 [U(4.95)O2F2 (H/235U = 410)]</td>\n",
       "      <td>MCNP 6.1</td>\n",
       "      <td>ENDF/B-VII.1</td>\n",
       "      <td>ANSI/HPS N13.3</td>\n",
       "      <td>None</td>\n",
       "      <td>0</td>\n",
       "      <td>P</td>\n",
       "      <td>20</td>\n",
       "      <td>2.126016e-02</td>\n",
       "      <td>0.0032</td>\n",
       "      <td>6.803251e-05</td>\n",
       "      <td>P_None_MCNP 6.1_C1 [U(4.95)O2F2 (H/235U = 410)]_0</td>\n",
       "    </tr>\n",
       "    <tr>\n",
       "      <th>2202</th>\n",
       "      <td>U</td>\n",
       "      <td>C1 [U(4.95)O2F2 (H/235U = 410)]</td>\n",
       "      <td>MCNP 6.1</td>\n",
       "      <td>ENDF/B-VII.1</td>\n",
       "      <td>ANSI/HPS N13.3</td>\n",
       "      <td>None</td>\n",
       "      <td>0</td>\n",
       "      <td>P</td>\n",
       "      <td>50</td>\n",
       "      <td>3.247308e-03</td>\n",
       "      <td>0.0054</td>\n",
       "      <td>1.753546e-05</td>\n",
       "      <td>P_None_MCNP 6.1_C1 [U(4.95)O2F2 (H/235U = 410)]_0</td>\n",
       "    </tr>\n",
       "    <tr>\n",
       "      <th>2203</th>\n",
       "      <td>U</td>\n",
       "      <td>C1 [U(4.95)O2F2 (H/235U = 410)]</td>\n",
       "      <td>MCNP 6.1</td>\n",
       "      <td>ENDF/B-VII.1</td>\n",
       "      <td>ANSI/HPS N13.3</td>\n",
       "      <td>None</td>\n",
       "      <td>0</td>\n",
       "      <td>P</td>\n",
       "      <td>100</td>\n",
       "      <td>7.140783e-04</td>\n",
       "      <td>0.0073</td>\n",
       "      <td>5.212771e-06</td>\n",
       "      <td>P_None_MCNP 6.1_C1 [U(4.95)O2F2 (H/235U = 410)]_0</td>\n",
       "    </tr>\n",
       "    <tr>\n",
       "      <th>2204</th>\n",
       "      <td>U</td>\n",
       "      <td>C1 [U(4.95)O2F2 (H/235U = 410)]</td>\n",
       "      <td>MCNP 6.1</td>\n",
       "      <td>ENDF/B-VII.1</td>\n",
       "      <td>ANSI/HPS N13.3</td>\n",
       "      <td>None</td>\n",
       "      <td>0</td>\n",
       "      <td>P</td>\n",
       "      <td>200</td>\n",
       "      <td>1.290771e-04</td>\n",
       "      <td>0.0094</td>\n",
       "      <td>1.213325e-06</td>\n",
       "      <td>P_None_MCNP 6.1_C1 [U(4.95)O2F2 (H/235U = 410)]_0</td>\n",
       "    </tr>\n",
       "    <tr>\n",
       "      <th>2205</th>\n",
       "      <td>U</td>\n",
       "      <td>C1 [U(4.95)O2F2 (H/235U = 410)]</td>\n",
       "      <td>MCNP 6.1</td>\n",
       "      <td>ENDF/B-VII.1</td>\n",
       "      <td>ANSI/HPS N13.3</td>\n",
       "      <td>None</td>\n",
       "      <td>0</td>\n",
       "      <td>P</td>\n",
       "      <td>300</td>\n",
       "      <td>4.017847e-05</td>\n",
       "      <td>0.0661</td>\n",
       "      <td>2.655797e-06</td>\n",
       "      <td>P_None_MCNP 6.1_C1 [U(4.95)O2F2 (H/235U = 410)]_0</td>\n",
       "    </tr>\n",
       "    <tr>\n",
       "      <th>2206</th>\n",
       "      <td>U</td>\n",
       "      <td>C1 [U(4.95)O2F2 (H/235U = 410)]</td>\n",
       "      <td>MCNP 6.1</td>\n",
       "      <td>ENDF/B-VII.1</td>\n",
       "      <td>ANSI/HPS N13.3</td>\n",
       "      <td>None</td>\n",
       "      <td>0</td>\n",
       "      <td>P</td>\n",
       "      <td>500</td>\n",
       "      <td>6.578409e-06</td>\n",
       "      <td>0.0161</td>\n",
       "      <td>1.059124e-07</td>\n",
       "      <td>P_None_MCNP 6.1_C1 [U(4.95)O2F2 (H/235U = 410)]_0</td>\n",
       "    </tr>\n",
       "    <tr>\n",
       "      <th>2207</th>\n",
       "      <td>U</td>\n",
       "      <td>C1 [U(4.95)O2F2 (H/235U = 410)]</td>\n",
       "      <td>MCNP 6.1</td>\n",
       "      <td>ENDF/B-VII.1</td>\n",
       "      <td>ANSI/HPS N13.3</td>\n",
       "      <td>None</td>\n",
       "      <td>0</td>\n",
       "      <td>P</td>\n",
       "      <td>700</td>\n",
       "      <td>1.523882e-06</td>\n",
       "      <td>0.0205</td>\n",
       "      <td>3.123957e-08</td>\n",
       "      <td>P_None_MCNP 6.1_C1 [U(4.95)O2F2 (H/235U = 410)]_0</td>\n",
       "    </tr>\n",
       "    <tr>\n",
       "      <th>2208</th>\n",
       "      <td>U</td>\n",
       "      <td>C1 [U(4.95)O2F2 (H/235U = 410)]</td>\n",
       "      <td>MCNP 6.1</td>\n",
       "      <td>ENDF/B-VII.1</td>\n",
       "      <td>ANSI/HPS N13.3</td>\n",
       "      <td>None</td>\n",
       "      <td>0</td>\n",
       "      <td>P</td>\n",
       "      <td>1000</td>\n",
       "      <td>2.335541e-07</td>\n",
       "      <td>0.0183</td>\n",
       "      <td>4.274039e-09</td>\n",
       "      <td>P_None_MCNP 6.1_C1 [U(4.95)O2F2 (H/235U = 410)]_0</td>\n",
       "    </tr>\n",
       "    <tr>\n",
       "      <th>2209</th>\n",
       "      <td>U</td>\n",
       "      <td>C1 [U(4.95)O2F2 (H/235U = 410)]</td>\n",
       "      <td>MCNP 6.1</td>\n",
       "      <td>ENDF/B-VII.1</td>\n",
       "      <td>ANSI/HPS N13.3</td>\n",
       "      <td>None</td>\n",
       "      <td>0</td>\n",
       "      <td>P</td>\n",
       "      <td>1200</td>\n",
       "      <td>7.308564e-08</td>\n",
       "      <td>0.0200</td>\n",
       "      <td>1.461713e-09</td>\n",
       "      <td>P_None_MCNP 6.1_C1 [U(4.95)O2F2 (H/235U = 410)]_0</td>\n",
       "    </tr>\n",
       "  </tbody>\n",
       "</table>\n",
       "</div>"
      ],
      "text/plain": [
       "     Fissile                             Case      Code       Library  \\\n",
       "2197       U  C1 [U(4.95)O2F2 (H/235U = 410)]  MCNP 6.1  ENDF/B-VII.1   \n",
       "2198       U  C1 [U(4.95)O2F2 (H/235U = 410)]  MCNP 6.1  ENDF/B-VII.1   \n",
       "2199       U  C1 [U(4.95)O2F2 (H/235U = 410)]  MCNP 6.1  ENDF/B-VII.1   \n",
       "2200       U  C1 [U(4.95)O2F2 (H/235U = 410)]  MCNP 6.1  ENDF/B-VII.1   \n",
       "2201       U  C1 [U(4.95)O2F2 (H/235U = 410)]  MCNP 6.1  ENDF/B-VII.1   \n",
       "2202       U  C1 [U(4.95)O2F2 (H/235U = 410)]  MCNP 6.1  ENDF/B-VII.1   \n",
       "2203       U  C1 [U(4.95)O2F2 (H/235U = 410)]  MCNP 6.1  ENDF/B-VII.1   \n",
       "2204       U  C1 [U(4.95)O2F2 (H/235U = 410)]  MCNP 6.1  ENDF/B-VII.1   \n",
       "2205       U  C1 [U(4.95)O2F2 (H/235U = 410)]  MCNP 6.1  ENDF/B-VII.1   \n",
       "2206       U  C1 [U(4.95)O2F2 (H/235U = 410)]  MCNP 6.1  ENDF/B-VII.1   \n",
       "2207       U  C1 [U(4.95)O2F2 (H/235U = 410)]  MCNP 6.1  ENDF/B-VII.1   \n",
       "2208       U  C1 [U(4.95)O2F2 (H/235U = 410)]  MCNP 6.1  ENDF/B-VII.1   \n",
       "2209       U  C1 [U(4.95)O2F2 (H/235U = 410)]  MCNP 6.1  ENDF/B-VII.1   \n",
       "\n",
       "     Flux-to-dose conversion factor Screen  Thickness (cm) Particle  \\\n",
       "2197                 ANSI/HPS N13.3   None               0        P   \n",
       "2198                 ANSI/HPS N13.3   None               0        P   \n",
       "2199                 ANSI/HPS N13.3   None               0        P   \n",
       "2200                 ANSI/HPS N13.3   None               0        P   \n",
       "2201                 ANSI/HPS N13.3   None               0        P   \n",
       "2202                 ANSI/HPS N13.3   None               0        P   \n",
       "2203                 ANSI/HPS N13.3   None               0        P   \n",
       "2204                 ANSI/HPS N13.3   None               0        P   \n",
       "2205                 ANSI/HPS N13.3   None               0        P   \n",
       "2206                 ANSI/HPS N13.3   None               0        P   \n",
       "2207                 ANSI/HPS N13.3   None               0        P   \n",
       "2208                 ANSI/HPS N13.3   None               0        P   \n",
       "2209                 ANSI/HPS N13.3   None               0        P   \n",
       "\n",
       "      Distance (m)     Dose (Gy)  1s uncertainty  Absolute Uncertainty  \\\n",
       "2197             1  5.210193e+00          0.0008          4.168154e-03   \n",
       "2198             2  1.680681e+00          0.0011          1.848749e-03   \n",
       "2199             5  3.203193e-01          0.0017          5.445428e-04   \n",
       "2200            10  8.436647e-02          0.0023          1.940429e-04   \n",
       "2201            20  2.126016e-02          0.0032          6.803251e-05   \n",
       "2202            50  3.247308e-03          0.0054          1.753546e-05   \n",
       "2203           100  7.140783e-04          0.0073          5.212771e-06   \n",
       "2204           200  1.290771e-04          0.0094          1.213325e-06   \n",
       "2205           300  4.017847e-05          0.0661          2.655797e-06   \n",
       "2206           500  6.578409e-06          0.0161          1.059124e-07   \n",
       "2207           700  1.523882e-06          0.0205          3.123957e-08   \n",
       "2208          1000  2.335541e-07          0.0183          4.274039e-09   \n",
       "2209          1200  7.308564e-08          0.0200          1.461713e-09   \n",
       "\n",
       "                                           Filter Combo  \n",
       "2197  P_None_MCNP 6.1_C1 [U(4.95)O2F2 (H/235U = 410)]_0  \n",
       "2198  P_None_MCNP 6.1_C1 [U(4.95)O2F2 (H/235U = 410)]_0  \n",
       "2199  P_None_MCNP 6.1_C1 [U(4.95)O2F2 (H/235U = 410)]_0  \n",
       "2200  P_None_MCNP 6.1_C1 [U(4.95)O2F2 (H/235U = 410)]_0  \n",
       "2201  P_None_MCNP 6.1_C1 [U(4.95)O2F2 (H/235U = 410)]_0  \n",
       "2202  P_None_MCNP 6.1_C1 [U(4.95)O2F2 (H/235U = 410)]_0  \n",
       "2203  P_None_MCNP 6.1_C1 [U(4.95)O2F2 (H/235U = 410)]_0  \n",
       "2204  P_None_MCNP 6.1_C1 [U(4.95)O2F2 (H/235U = 410)]_0  \n",
       "2205  P_None_MCNP 6.1_C1 [U(4.95)O2F2 (H/235U = 410)]_0  \n",
       "2206  P_None_MCNP 6.1_C1 [U(4.95)O2F2 (H/235U = 410)]_0  \n",
       "2207  P_None_MCNP 6.1_C1 [U(4.95)O2F2 (H/235U = 410)]_0  \n",
       "2208  P_None_MCNP 6.1_C1 [U(4.95)O2F2 (H/235U = 410)]_0  \n",
       "2209  P_None_MCNP 6.1_C1 [U(4.95)O2F2 (H/235U = 410)]_0  "
      ]
     },
     "execution_count": 3,
     "metadata": {},
     "output_type": "execute_result"
    }
   ],
   "source": [
    "# Charger vos données\n",
    "data = pd.read_excel(\"../DB/All-at-once_DB.xlsx\", sheet_name='screen')\n",
    "\n",
    "# Define your filter criteria\n",
    "particles = ['P']  # Example: ['N', 'P']\n",
    "screens = ['None']  # Example: ['Concrete', 'Steel', 'Water', 'Lead']\n",
    "cases = ['C1 [U(4.95)O2F2 (H/235U = 410)]']  # Add more cases as needed\n",
    "codes = ['MCNP 6.1']  # Add more codes as needed\n",
    "thicknesses = []  # Example: [1, 5, 10, 20]\n",
    "\n",
    "# Apply the filter and plot the data\n",
    "filtered_data = filter_dataframe(\n",
    "    data,\n",
    "    particles,\n",
    "    screens,\n",
    "    cases,\n",
    "    codes,\n",
    "    thicknesses,\n",
    "    plot=True  # Set to True to display the plot\n",
    ")\n",
    "\n",
    "# Display the filtered data\n",
    "filtered_data\n"
   ]
  }
 ],
 "metadata": {
  "kernelspec": {
   "display_name": "Python 3",
   "language": "python",
   "name": "python3"
  },
  "language_info": {
   "codemirror_mode": {
    "name": "ipython",
    "version": 3
   },
   "file_extension": ".py",
   "mimetype": "text/x-python",
   "name": "python",
   "nbconvert_exporter": "python",
   "pygments_lexer": "ipython3",
   "version": "3.10.7"
  }
 },
 "nbformat": 4,
 "nbformat_minor": 4
}
