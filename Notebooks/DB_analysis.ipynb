{
 "cells": [
  {
   "cell_type": "code",
   "execution_count": 35,
   "metadata": {},
   "outputs": [
    {
     "data": {
      "application/vnd.jupyter.widget-view+json": {
       "model_id": "0cfe6a4b5317453793400c7dda002cfa",
       "version_major": 2,
       "version_minor": 0
      },
      "text/plain": [
       "Output()"
      ]
     },
     "metadata": {},
     "output_type": "display_data"
    },
    {
     "data": {
      "application/vnd.plotly.v1+json": {
       "config": {
        "plotlyServerURL": "https://plot.ly"
       },
       "data": [
        {
         "error_y": {
          "array": [
           0.0011057725490234852,
           0.0001297633088286545,
           0.00002782534811617528,
           0.000006532750196591363,
           0.0000011827335598871175,
           3.2562925009286373e-7,
           5.967536126934194e-8,
           7.2563032913868186e-9,
           2.065535558269309e-9,
           2.7850138149147175e-10,
           5.45367207401496e-11,
           5.8995864271340645e-12,
           1.441283369185421e-12
          ],
          "type": "data",
          "visible": true
         },
         "line": {
          "dash": "dash"
         },
         "mode": "lines+markers",
         "name": "N_Concrete_MCNP 6.1_C1 [U(4.95)O2F2 (H/235U = 410)]_20",
         "type": "scatter",
         "x": [
          1,
          2,
          5,
          10,
          20,
          50,
          100,
          200,
          300,
          500,
          700,
          1000,
          1200
         ],
         "y": [
          2.4572723311633005,
          0.77240064778961,
          0.14342962946482102,
          0.0351223128848998,
          0.008329109576669842,
          0.0012621288763289293,
          0.000273740189308908,
          0.00004424575177674889,
          0.00001259472901383725,
          0.0000017191443301942702,
          3.58794215395721e-7,
          4.0969350188431e-8,
          1.0149882881587471e-8
         ]
        },
        {
         "error_y": {
          "array": [
           0.00011492828011433474,
           0.00004738645570549058,
           0.000016308359032666086,
           0.0000033308085987655,
           1.822634591469945e-7,
           3.683931799547957e-8,
           6.3961681396020656e-9,
           1.5266099901077613e-9,
           3.380806371631584e-10,
           3.8623884860462403e-11,
           8.237343200054736e-12,
           7.025480256008525e-13,
           1.8836887416471125e-13
          ],
          "type": "data",
          "visible": true
         },
         "line": {
          "dash": "dash"
         },
         "mode": "lines+markers",
         "name": "N_Concrete_MCNP 6.1_C1 [U(4.95)O2F2 (H/235U = 410)]_40",
         "type": "scatter",
         "x": [
          1,
          2,
          5,
          10,
          20,
          50,
          100,
          200,
          300,
          500,
          700,
          1000,
          1200
         ],
         "y": [
          0.459713120457339,
          0.13616797616520282,
          0.02284083898132505,
          0.00540715681617776,
          0.0012483798571711951,
          0.00017377036790320552,
          0.0000355342674422337,
          0.00000601027555160536,
          0.00000176083665189145,
          2.44454967471281e-7,
          4.9622549397920096e-8,
          5.4886564500066605e-9,
          1.4489913397285482e-9
         ]
        }
       ],
       "layout": {
        "legend": {
         "title": {
          "text": "Filter Combination"
         }
        },
        "showlegend": true,
        "template": {
         "data": {
          "bar": [
           {
            "error_x": {
             "color": "#2a3f5f"
            },
            "error_y": {
             "color": "#2a3f5f"
            },
            "marker": {
             "line": {
              "color": "#E5ECF6",
              "width": 0.5
             },
             "pattern": {
              "fillmode": "overlay",
              "size": 10,
              "solidity": 0.2
             }
            },
            "type": "bar"
           }
          ],
          "barpolar": [
           {
            "marker": {
             "line": {
              "color": "#E5ECF6",
              "width": 0.5
             },
             "pattern": {
              "fillmode": "overlay",
              "size": 10,
              "solidity": 0.2
             }
            },
            "type": "barpolar"
           }
          ],
          "carpet": [
           {
            "aaxis": {
             "endlinecolor": "#2a3f5f",
             "gridcolor": "white",
             "linecolor": "white",
             "minorgridcolor": "white",
             "startlinecolor": "#2a3f5f"
            },
            "baxis": {
             "endlinecolor": "#2a3f5f",
             "gridcolor": "white",
             "linecolor": "white",
             "minorgridcolor": "white",
             "startlinecolor": "#2a3f5f"
            },
            "type": "carpet"
           }
          ],
          "choropleth": [
           {
            "colorbar": {
             "outlinewidth": 0,
             "ticks": ""
            },
            "type": "choropleth"
           }
          ],
          "contour": [
           {
            "colorbar": {
             "outlinewidth": 0,
             "ticks": ""
            },
            "colorscale": [
             [
              0,
              "#0d0887"
             ],
             [
              0.1111111111111111,
              "#46039f"
             ],
             [
              0.2222222222222222,
              "#7201a8"
             ],
             [
              0.3333333333333333,
              "#9c179e"
             ],
             [
              0.4444444444444444,
              "#bd3786"
             ],
             [
              0.5555555555555556,
              "#d8576b"
             ],
             [
              0.6666666666666666,
              "#ed7953"
             ],
             [
              0.7777777777777778,
              "#fb9f3a"
             ],
             [
              0.8888888888888888,
              "#fdca26"
             ],
             [
              1,
              "#f0f921"
             ]
            ],
            "type": "contour"
           }
          ],
          "contourcarpet": [
           {
            "colorbar": {
             "outlinewidth": 0,
             "ticks": ""
            },
            "type": "contourcarpet"
           }
          ],
          "heatmap": [
           {
            "colorbar": {
             "outlinewidth": 0,
             "ticks": ""
            },
            "colorscale": [
             [
              0,
              "#0d0887"
             ],
             [
              0.1111111111111111,
              "#46039f"
             ],
             [
              0.2222222222222222,
              "#7201a8"
             ],
             [
              0.3333333333333333,
              "#9c179e"
             ],
             [
              0.4444444444444444,
              "#bd3786"
             ],
             [
              0.5555555555555556,
              "#d8576b"
             ],
             [
              0.6666666666666666,
              "#ed7953"
             ],
             [
              0.7777777777777778,
              "#fb9f3a"
             ],
             [
              0.8888888888888888,
              "#fdca26"
             ],
             [
              1,
              "#f0f921"
             ]
            ],
            "type": "heatmap"
           }
          ],
          "heatmapgl": [
           {
            "colorbar": {
             "outlinewidth": 0,
             "ticks": ""
            },
            "colorscale": [
             [
              0,
              "#0d0887"
             ],
             [
              0.1111111111111111,
              "#46039f"
             ],
             [
              0.2222222222222222,
              "#7201a8"
             ],
             [
              0.3333333333333333,
              "#9c179e"
             ],
             [
              0.4444444444444444,
              "#bd3786"
             ],
             [
              0.5555555555555556,
              "#d8576b"
             ],
             [
              0.6666666666666666,
              "#ed7953"
             ],
             [
              0.7777777777777778,
              "#fb9f3a"
             ],
             [
              0.8888888888888888,
              "#fdca26"
             ],
             [
              1,
              "#f0f921"
             ]
            ],
            "type": "heatmapgl"
           }
          ],
          "histogram": [
           {
            "marker": {
             "pattern": {
              "fillmode": "overlay",
              "size": 10,
              "solidity": 0.2
             }
            },
            "type": "histogram"
           }
          ],
          "histogram2d": [
           {
            "colorbar": {
             "outlinewidth": 0,
             "ticks": ""
            },
            "colorscale": [
             [
              0,
              "#0d0887"
             ],
             [
              0.1111111111111111,
              "#46039f"
             ],
             [
              0.2222222222222222,
              "#7201a8"
             ],
             [
              0.3333333333333333,
              "#9c179e"
             ],
             [
              0.4444444444444444,
              "#bd3786"
             ],
             [
              0.5555555555555556,
              "#d8576b"
             ],
             [
              0.6666666666666666,
              "#ed7953"
             ],
             [
              0.7777777777777778,
              "#fb9f3a"
             ],
             [
              0.8888888888888888,
              "#fdca26"
             ],
             [
              1,
              "#f0f921"
             ]
            ],
            "type": "histogram2d"
           }
          ],
          "histogram2dcontour": [
           {
            "colorbar": {
             "outlinewidth": 0,
             "ticks": ""
            },
            "colorscale": [
             [
              0,
              "#0d0887"
             ],
             [
              0.1111111111111111,
              "#46039f"
             ],
             [
              0.2222222222222222,
              "#7201a8"
             ],
             [
              0.3333333333333333,
              "#9c179e"
             ],
             [
              0.4444444444444444,
              "#bd3786"
             ],
             [
              0.5555555555555556,
              "#d8576b"
             ],
             [
              0.6666666666666666,
              "#ed7953"
             ],
             [
              0.7777777777777778,
              "#fb9f3a"
             ],
             [
              0.8888888888888888,
              "#fdca26"
             ],
             [
              1,
              "#f0f921"
             ]
            ],
            "type": "histogram2dcontour"
           }
          ],
          "mesh3d": [
           {
            "colorbar": {
             "outlinewidth": 0,
             "ticks": ""
            },
            "type": "mesh3d"
           }
          ],
          "parcoords": [
           {
            "line": {
             "colorbar": {
              "outlinewidth": 0,
              "ticks": ""
             }
            },
            "type": "parcoords"
           }
          ],
          "pie": [
           {
            "automargin": true,
            "type": "pie"
           }
          ],
          "scatter": [
           {
            "fillpattern": {
             "fillmode": "overlay",
             "size": 10,
             "solidity": 0.2
            },
            "type": "scatter"
           }
          ],
          "scatter3d": [
           {
            "line": {
             "colorbar": {
              "outlinewidth": 0,
              "ticks": ""
             }
            },
            "marker": {
             "colorbar": {
              "outlinewidth": 0,
              "ticks": ""
             }
            },
            "type": "scatter3d"
           }
          ],
          "scattercarpet": [
           {
            "marker": {
             "colorbar": {
              "outlinewidth": 0,
              "ticks": ""
             }
            },
            "type": "scattercarpet"
           }
          ],
          "scattergeo": [
           {
            "marker": {
             "colorbar": {
              "outlinewidth": 0,
              "ticks": ""
             }
            },
            "type": "scattergeo"
           }
          ],
          "scattergl": [
           {
            "marker": {
             "colorbar": {
              "outlinewidth": 0,
              "ticks": ""
             }
            },
            "type": "scattergl"
           }
          ],
          "scattermapbox": [
           {
            "marker": {
             "colorbar": {
              "outlinewidth": 0,
              "ticks": ""
             }
            },
            "type": "scattermapbox"
           }
          ],
          "scatterpolar": [
           {
            "marker": {
             "colorbar": {
              "outlinewidth": 0,
              "ticks": ""
             }
            },
            "type": "scatterpolar"
           }
          ],
          "scatterpolargl": [
           {
            "marker": {
             "colorbar": {
              "outlinewidth": 0,
              "ticks": ""
             }
            },
            "type": "scatterpolargl"
           }
          ],
          "scatterternary": [
           {
            "marker": {
             "colorbar": {
              "outlinewidth": 0,
              "ticks": ""
             }
            },
            "type": "scatterternary"
           }
          ],
          "surface": [
           {
            "colorbar": {
             "outlinewidth": 0,
             "ticks": ""
            },
            "colorscale": [
             [
              0,
              "#0d0887"
             ],
             [
              0.1111111111111111,
              "#46039f"
             ],
             [
              0.2222222222222222,
              "#7201a8"
             ],
             [
              0.3333333333333333,
              "#9c179e"
             ],
             [
              0.4444444444444444,
              "#bd3786"
             ],
             [
              0.5555555555555556,
              "#d8576b"
             ],
             [
              0.6666666666666666,
              "#ed7953"
             ],
             [
              0.7777777777777778,
              "#fb9f3a"
             ],
             [
              0.8888888888888888,
              "#fdca26"
             ],
             [
              1,
              "#f0f921"
             ]
            ],
            "type": "surface"
           }
          ],
          "table": [
           {
            "cells": {
             "fill": {
              "color": "#EBF0F8"
             },
             "line": {
              "color": "white"
             }
            },
            "header": {
             "fill": {
              "color": "#C8D4E3"
             },
             "line": {
              "color": "white"
             }
            },
            "type": "table"
           }
          ]
         },
         "layout": {
          "annotationdefaults": {
           "arrowcolor": "#2a3f5f",
           "arrowhead": 0,
           "arrowwidth": 1
          },
          "autotypenumbers": "strict",
          "coloraxis": {
           "colorbar": {
            "outlinewidth": 0,
            "ticks": ""
           }
          },
          "colorscale": {
           "diverging": [
            [
             0,
             "#8e0152"
            ],
            [
             0.1,
             "#c51b7d"
            ],
            [
             0.2,
             "#de77ae"
            ],
            [
             0.3,
             "#f1b6da"
            ],
            [
             0.4,
             "#fde0ef"
            ],
            [
             0.5,
             "#f7f7f7"
            ],
            [
             0.6,
             "#e6f5d0"
            ],
            [
             0.7,
             "#b8e186"
            ],
            [
             0.8,
             "#7fbc41"
            ],
            [
             0.9,
             "#4d9221"
            ],
            [
             1,
             "#276419"
            ]
           ],
           "sequential": [
            [
             0,
             "#0d0887"
            ],
            [
             0.1111111111111111,
             "#46039f"
            ],
            [
             0.2222222222222222,
             "#7201a8"
            ],
            [
             0.3333333333333333,
             "#9c179e"
            ],
            [
             0.4444444444444444,
             "#bd3786"
            ],
            [
             0.5555555555555556,
             "#d8576b"
            ],
            [
             0.6666666666666666,
             "#ed7953"
            ],
            [
             0.7777777777777778,
             "#fb9f3a"
            ],
            [
             0.8888888888888888,
             "#fdca26"
            ],
            [
             1,
             "#f0f921"
            ]
           ],
           "sequentialminus": [
            [
             0,
             "#0d0887"
            ],
            [
             0.1111111111111111,
             "#46039f"
            ],
            [
             0.2222222222222222,
             "#7201a8"
            ],
            [
             0.3333333333333333,
             "#9c179e"
            ],
            [
             0.4444444444444444,
             "#bd3786"
            ],
            [
             0.5555555555555556,
             "#d8576b"
            ],
            [
             0.6666666666666666,
             "#ed7953"
            ],
            [
             0.7777777777777778,
             "#fb9f3a"
            ],
            [
             0.8888888888888888,
             "#fdca26"
            ],
            [
             1,
             "#f0f921"
            ]
           ]
          },
          "colorway": [
           "#636efa",
           "#EF553B",
           "#00cc96",
           "#ab63fa",
           "#FFA15A",
           "#19d3f3",
           "#FF6692",
           "#B6E880",
           "#FF97FF",
           "#FECB52"
          ],
          "font": {
           "color": "#2a3f5f"
          },
          "geo": {
           "bgcolor": "white",
           "lakecolor": "white",
           "landcolor": "#E5ECF6",
           "showlakes": true,
           "showland": true,
           "subunitcolor": "white"
          },
          "hoverlabel": {
           "align": "left"
          },
          "hovermode": "closest",
          "mapbox": {
           "style": "light"
          },
          "paper_bgcolor": "white",
          "plot_bgcolor": "#E5ECF6",
          "polar": {
           "angularaxis": {
            "gridcolor": "white",
            "linecolor": "white",
            "ticks": ""
           },
           "bgcolor": "#E5ECF6",
           "radialaxis": {
            "gridcolor": "white",
            "linecolor": "white",
            "ticks": ""
           }
          },
          "scene": {
           "xaxis": {
            "backgroundcolor": "#E5ECF6",
            "gridcolor": "white",
            "gridwidth": 2,
            "linecolor": "white",
            "showbackground": true,
            "ticks": "",
            "zerolinecolor": "white"
           },
           "yaxis": {
            "backgroundcolor": "#E5ECF6",
            "gridcolor": "white",
            "gridwidth": 2,
            "linecolor": "white",
            "showbackground": true,
            "ticks": "",
            "zerolinecolor": "white"
           },
           "zaxis": {
            "backgroundcolor": "#E5ECF6",
            "gridcolor": "white",
            "gridwidth": 2,
            "linecolor": "white",
            "showbackground": true,
            "ticks": "",
            "zerolinecolor": "white"
           }
          },
          "shapedefaults": {
           "line": {
            "color": "#2a3f5f"
           }
          },
          "ternary": {
           "aaxis": {
            "gridcolor": "white",
            "linecolor": "white",
            "ticks": ""
           },
           "baxis": {
            "gridcolor": "white",
            "linecolor": "white",
            "ticks": ""
           },
           "bgcolor": "#E5ECF6",
           "caxis": {
            "gridcolor": "white",
            "linecolor": "white",
            "ticks": ""
           }
          },
          "title": {
           "x": 0.05
          },
          "xaxis": {
           "automargin": true,
           "gridcolor": "white",
           "linecolor": "white",
           "ticks": "",
           "title": {
            "standoff": 15
           },
           "zerolinecolor": "white",
           "zerolinewidth": 2
          },
          "yaxis": {
           "automargin": true,
           "gridcolor": "white",
           "linecolor": "white",
           "ticks": "",
           "title": {
            "standoff": 15
           },
           "zerolinecolor": "white",
           "zerolinewidth": 2
          }
         }
        },
        "title": {
         "text": "Dose vs. Distance [log scales]"
        },
        "xaxis": {
         "title": {
          "text": "Distance (m) [Log]"
         },
         "type": "log"
        },
        "yaxis": {
         "title": {
          "text": "Dose (Gy) [Log]"
         },
         "type": "log"
        }
       }
      }
     },
     "metadata": {},
     "output_type": "display_data"
    },
    {
     "data": {
      "application/vnd.jupyter.widget-view+json": {
       "model_id": "256605dae9ee49c5914b88ffd71573b8",
       "version_major": 2,
       "version_minor": 0
      },
      "text/plain": [
       "VBox(children=(SelectMultiple(description='Particle:', index=(0,), options=('N', 'P'), value=('N',)), SelectMu…"
      ]
     },
     "metadata": {},
     "output_type": "display_data"
    }
   ],
   "source": [
    "import pandas as pd\n",
    "import plotly.graph_objects as go\n",
    "import ipywidgets as widgets\n",
    "from IPython.display import display\n",
    "from ipywidgets import Output\n",
    "\n",
    "# Charger vos données\n",
    "data = pd.read_excel(\"../DB/All-at-once_DB.xlsx\")\n",
    "\n",
    "# Calcul des incertitudes absolues\n",
    "data[\"Absolute Uncertainty\"] = (data[\"1s uncertainty\"] / 100) * data[\"Dose (Gy)\"]\n",
    "\n",
    "# Ajouter une colonne pour la combinaison de filtres\n",
    "data['Filter Combo'] = data.apply(lambda row: f\"{row['Particle']}_{row['Screen']}_{row['Code']}_{row['Case']}_{row['Thickness (cm)']}\", axis=1)\n",
    "\n",
    "output = Output()  # Créez une zone d'affichage pour la figure\n",
    "\n",
    "# Initialiser une figure vide dans l'objet Output\n",
    "fig = go.Figure()\n",
    "fig.update_layout(\n",
    "    title=\"Dose vs. Distance [log scales]\",\n",
    "    xaxis_title=\"Distance (m) [Log]\",\n",
    "    yaxis_title=\"Dose (Gy) [Log]\",\n",
    "    legend_title=\"Filter Combination\",\n",
    "    xaxis={'type': 'log'},\n",
    "    yaxis={'type': 'log'},\n",
    "    showlegend=True  # Assure que la légende est toujours affichée\n",
    ")\n",
    "\n",
    "display(output)  # Affiche l'objet Output une seule fois\n",
    "\n",
    "# Fonction pour mettre à jour le graphique\n",
    "def plot_filters(particle_types, screen_types, code_types, case_types, thickness_types):\n",
    "    fig.data = []  # Efface les données précédentes de la figure\n",
    "    filtered_data = data[data['Particle'].isin(particle_types) & \n",
    "                         data['Screen'].isin(screen_types) &\n",
    "                         data['Code'].isin(code_types) &\n",
    "                         data['Case'].isin(case_types) &\n",
    "                         data['Thickness (cm)'].isin(thickness_types)]\n",
    "\n",
    "    for combo in filtered_data['Filter Combo'].unique():\n",
    "        df_subset = filtered_data[filtered_data['Filter Combo'] == combo]\n",
    "        fig.add_trace(go.Scatter(x=df_subset[\"Distance (m)\"], y=df_subset[\"Dose (Gy)\"],\n",
    "                                 mode='lines+markers', name=combo,\n",
    "                                 line=dict(dash='dash'),\n",
    "                                 error_y=dict(type='data', array=2*df_subset[\"Absolute Uncertainty\"],\n",
    "                                              visible=True)))\n",
    "    with output:\n",
    "        output.clear_output(wait=True)  # Efface la sortie précédente\n",
    "        display(fig)  # Affichez la figure mise à jour\n",
    "\n",
    "# Création des widgets\n",
    "particle_selector = widgets.SelectMultiple(\n",
    "    options=list(data['Particle'].unique()),\n",
    "    value=[data['Particle'].unique()[0]],\n",
    "    description='Particle:',\n",
    ")\n",
    "\n",
    "screen_selector = widgets.SelectMultiple(\n",
    "    options=list(data['Screen'].unique()),\n",
    "    value=[data['Screen'].unique()[0]],\n",
    "    description='Screen:',\n",
    ")\n",
    "\n",
    "code_selector = widgets.SelectMultiple(\n",
    "    options=list(data['Code'].unique()),\n",
    "    value=[data['Code'].unique()[0]],\n",
    "    description='Code:',\n",
    ")\n",
    "\n",
    "case_selector = widgets.SelectMultiple(\n",
    "    options=list(data['Case'].unique()),\n",
    "    value=[data['Case'].unique()[0]],\n",
    "    description='Case:',\n",
    ")\n",
    "\n",
    "thickness_options = sorted(data['Thickness (cm)'].unique())\n",
    "thickness_selector = widgets.SelectMultiple(\n",
    "    options=thickness_options,\n",
    "    value=[thickness_options[0]],\n",
    "    description='Thickness:',\n",
    ")\n",
    "\n",
    "interactive_plot = widgets.interactive_output(plot_filters, {\n",
    "    'particle_types': particle_selector, \n",
    "    'screen_types': screen_selector, \n",
    "    'code_types': code_selector,\n",
    "    'case_types': case_selector,\n",
    "    'thickness_types': thickness_selector\n",
    "})\n",
    "\n",
    "widget_box = widgets.VBox([\n",
    "    particle_selector,\n",
    "    screen_selector,\n",
    "    code_selector,\n",
    "    case_selector,\n",
    "    thickness_selector\n",
    "])\n",
    "\n",
    "display(widget_box)\n"
   ]
  }
 ],
 "metadata": {
  "kernelspec": {
   "display_name": "Python 3",
   "language": "python",
   "name": "python3"
  },
  "language_info": {
   "codemirror_mode": {
    "name": "ipython",
    "version": 3
   },
   "file_extension": ".py",
   "mimetype": "text/x-python",
   "name": "python",
   "nbconvert_exporter": "python",
   "pygments_lexer": "ipython3",
   "version": "3.10.7"
  }
 },
 "nbformat": 4,
 "nbformat_minor": 2
}
