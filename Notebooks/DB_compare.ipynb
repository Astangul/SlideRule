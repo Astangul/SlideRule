{
 "cells": [
  {
   "cell_type": "code",
   "execution_count": 2,
   "metadata": {},
   "outputs": [
    {
     "name": "stdout",
     "output_type": "stream",
     "text": [
      "Les détails des changements ont été exportés dans 'detailed_differences.csv'.\n",
      "Nombre de lignes dans le fichier CSV: 258\n",
      "Indices avec changements détectés : [104, 105, 106, 107, 108, 109, 110, 111, 112, 113, 114, 115, 116, 117, 118, 119, 120, 121, 122, 123, 124, 125, 126, 127, 128, 129, 130, 131, 132, 133, 134, 135, 136, 137, 138, 139, 140, 141, 142, 143, 144, 145, 146, 147, 148, 149, 150, 151, 152, 153, 154, 155, 156, 157, 158, 159, 160, 161, 162, 163, 164, 165, 166, 167, 168, 169, 170, 171, 172, 173, 174, 175, 176, 177, 178, 179, 180, 181, 182, 183, 184, 185, 186, 187, 188, 189, 190, 191, 192, 193, 194, 195, 196, 197, 199, 200, 201, 202, 203, 204, 205, 206, 207, 208, 209, 210, 211, 212, 213, 214, 215, 217, 218, 219, 220, 221, 222, 223, 224, 225, 226, 227, 228, 230, 231, 232, 233, 234, 235, 236, 237, 238, 239, 240, 241, 243, 244, 245, 246, 247, 248, 249, 250, 251, 252, 253, 254, 256, 257, 258, 259, 260, 261, 262, 263, 264, 266, 267, 269, 270, 271, 272, 273, 274, 275, 276, 277, 279, 280, 282, 283, 284, 285, 286, 287, 288, 289, 290, 292, 293, 295, 296, 297, 299, 300, 301, 302, 303, 306, 308, 309, 310, 311, 364, 365, 366, 367, 368, 369, 370, 371, 372, 373, 374, 375, 376, 377, 378, 379, 380, 381, 382, 383, 384, 385, 386, 387, 388, 389, 390, 391, 392, 393, 394, 395, 396, 397, 398, 399, 400, 401, 402, 403, 404, 405, 406, 407, 408, 409, 410, 411, 412, 413, 414, 415, 520, 521, 522, 523, 524, 525, 526, 527, 528, 529, 530, 531, 532]\n"
     ]
    }
   ],
   "source": [
    "import pandas as pd\n",
    "import numpy as np\n",
    "\n",
    "# Charger les fichiers Excel dans des dataframes pandas\n",
    "df_v0 = pd.read_excel('../DB/old/All-at-once_DB_v0.xlsx', skiprows=0, sheet_name='screen')\n",
    "df_v1 = pd.read_excel('../DB/old/All-at-once_DB_v1.xlsx', skiprows=0, sheet_name='screen')\n",
    "\n",
    "def clean_column(col):\n",
    "    if col.dtype == object:  # Assumer que 'object' contient des chaînes\n",
    "        return col.astype(str).str.strip()\n",
    "    return col\n",
    "\n",
    "def compare_dataframes(df1, df2):\n",
    "    df1_clean = df1.apply(clean_column)\n",
    "    df2_clean = df2.apply(clean_column)\n",
    "    \n",
    "    # Créer un masque où NaN est traité comme équivalent\n",
    "    mask_changes = ~(df1_clean.eq(df2_clean) | (df1_clean.isna() & df2_clean.isna()))\n",
    "    diff_df = pd.DataFrame()\n",
    "    \n",
    "    for col in df1.columns:\n",
    "        if mask_changes[col].any():\n",
    "            diff_df[f'{col}_before'] = df1[col]\n",
    "            diff_df[f'{col}_after'] = df2[col]\n",
    "        else:\n",
    "            diff_df[col] = df1[col]  # Les valeurs n'ont pas changé\n",
    "\n",
    "    # Filtrer pour ne garder que les lignes avec des changements\n",
    "    diff_df = diff_df.loc[mask_changes.any(axis=1)]\n",
    "\n",
    "    return diff_df\n",
    "\n",
    "\n",
    "# Comparaison des dataframes et stockage des différences\n",
    "df_differences = compare_dataframes(df_v0, df_v1)\n",
    "\n",
    "# Exporter les détails des changements\n",
    "if not df_differences.empty:\n",
    "    df_differences.to_csv('../DB/old/detailed_differences.csv')\n",
    "    print(\"Les détails des changements ont été exportés dans 'detailed_differences.csv'.\")\n",
    "    print(f\"Nombre de lignes dans le fichier CSV: {df_differences.shape[0]}\")\n",
    "    print(\"Indices avec changements détectés :\", df_differences.index.tolist())\n",
    "else:\n",
    "    print(\"Aucun changement détecté.\")\n"
   ]
  }
 ],
 "metadata": {
  "kernelspec": {
   "display_name": "Python 3",
   "language": "python",
   "name": "python3"
  },
  "language_info": {
   "codemirror_mode": {
    "name": "ipython",
    "version": 3
   },
   "file_extension": ".py",
   "mimetype": "text/x-python",
   "name": "python",
   "nbconvert_exporter": "python",
   "pygments_lexer": "ipython3",
   "version": "3.10.7"
  }
 },
 "nbformat": 4,
 "nbformat_minor": 2
}
