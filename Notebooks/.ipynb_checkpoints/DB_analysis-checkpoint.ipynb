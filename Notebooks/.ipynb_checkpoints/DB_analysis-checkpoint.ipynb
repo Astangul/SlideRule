{
 "cells": [
  {
   "cell_type": "code",
   "execution_count": 24,
   "metadata": {},
   "outputs": [
    {
     "data": {
      "application/vnd.jupyter.widget-view+json": {
       "model_id": "28e58be309544f3999121b0e3f1160be",
       "version_major": 2,
       "version_minor": 0
      },
      "text/plain": [
       "Output()"
      ]
     },
     "metadata": {},
     "output_type": "display_data"
    },
    {
     "data": {
      "application/vnd.plotly.v1+json": {
       "config": {
        "plotlyServerURL": "https://plot.ly"
       },
       "data": [
        {
         "error_y": {
          "array": [
           0.0030264556,
           0.001808466,
           0.00071761498,
           0.00036440656000000005,
           0.000177476772,
           0.0000618105186,
           0.0000240568224,
           0.0000033979654400000003,
           0.0000011418224400000001,
           2.04682808e-7,
           5.03946852e-8,
           6.747770700000001e-9,
           2.265736298e-9
          ],
          "type": "data",
          "visible": true
         },
         "line": {
          "dash": "dash"
         },
         "mode": "lines+markers",
         "name": "N_Steel_MCNP 6.1_C1 [U(4.95)O2F2 (H/235U = 410)]_1",
         "type": "scatter",
         "x": [
          1,
          2,
          5,
          10,
          20,
          50,
          100,
          200,
          300,
          500,
          700,
          1000,
          1200
         ],
         "y": [
          8.90134,
          3.01411,
          0.588209,
          0.153112,
          0.0390918,
          0.00647909,
          0.00159528,
          0.000312313,
          0.000096113,
          0.0000147466,
          0.00000294018,
          3.09815e-7,
          7.63903e-8
         ]
        },
        {
         "error_y": {
          "array": [
           0.11722880972229469,
           0.052222601312043544,
           0.012065868845166217,
           0.003020791106576187,
           0.0005394617416690506,
           0.00011243683838498202,
           0.00003391307999255365,
           0.000003958939741549821,
           8.931890476127774e-7,
           1.25402648981853e-7,
           2.2666262607726407e-8,
           2.034640752687039e-9,
           5.205221423986305e-10
          ],
          "type": "data",
          "visible": true
         },
         "line": {
          "dash": "dash"
         },
         "mode": "lines+markers",
         "name": "N_Steel_MCNP 6.1_C1 [U(4.95)O2F2 (H/235U = 410)]_5",
         "type": "scatter",
         "x": [
          1,
          2,
          5,
          10,
          20,
          50,
          100,
          200,
          300,
          500,
          700,
          1000,
          1200
         ],
         "y": [
          7.06197648929486,
          2.331366130001944,
          0.437169161056747,
          0.11708492661148012,
          0.028694773493034603,
          0.0048049930933753,
          0.0011457121619105962,
          0.0002275252725028633,
          0.0000656756652656454,
          0.000009500200680443409,
          0.0000017989097307719369,
          1.72427182431105e-7,
          4.0665792374893005e-8
         ]
        },
        {
         "error_y": {
          "array": [
           0.06288908170493036,
           0.035578314450704335,
           0.0069956472977295075,
           0.0015561307274610046,
           0.0002966913272214854,
           0.00006010610388496434,
           0.00001759021281141708,
           0.0000016395380144117126,
           5.500669975466366e-7,
           7.633654698358981e-8,
           1.1260863416194828e-8,
           8.269119446275451e-10,
           1.6398570707070552e-10
          ],
          "type": "data",
          "visible": true
         },
         "line": {
          "dash": "dash"
         },
         "mode": "lines+markers",
         "name": "N_Steel_MCNP 6.1_C1 [U(4.95)O2F2 (H/235U = 410)]_10",
         "type": "scatter",
         "x": [
          1,
          2,
          5,
          10,
          20,
          50,
          100,
          200,
          300,
          500,
          700,
          1000,
          1200
         ],
         "y": [
          5.15484276269921,
          1.710495887053093,
          0.32090125218942694,
          0.081048475388594,
          0.02032132378229352,
          0.0033392279936091305,
          0.0008219725612811721,
          0.0001518090754084919,
          0.0000474195687540204,
          0.000006469198896914391,
          0.0000011730066058536281,
          1.0601435187532631e-7,
          2.27757926487091e-8
         ]
        },
        {
         "error_y": {
          "array": [
           0.02518450755728561,
           0.011830225280083035,
           0.0021037155186440955,
           0.0004593941508358741,
           0.00011972799863763984,
           0.000027595621694379976,
           0.000008090416059038136,
           0.0000010639105669035115,
           1.8162821103835316e-7,
           2.0270987183002245e-8,
           2.3522217541105455e-9,
           3.4067621616068474e-10,
           7.395748847666749e-11
          ],
          "type": "data",
          "visible": true
         },
         "line": {
          "dash": "dash"
         },
         "mode": "lines+markers",
         "name": "N_Steel_MCNP 6.1_C1 [U(4.95)O2F2 (H/235U = 410)]_20",
         "type": "scatter",
         "x": [
          1,
          2,
          5,
          10,
          20,
          50,
          100,
          200,
          300,
          500,
          700,
          1000,
          1200
         ],
         "y": [
          2.92843111131228,
          0.9242363500064871,
          0.16435277489406996,
          0.0417631046214431,
          0.0105024560208456,
          0.001768950108614101,
          0.000434968605324631,
          0.0000818392743771932,
          0.00002328566808184015,
          0.0000030713616943942795,
          5.11352555241423e-7,
          4.15458800195957e-8,
          8.40426005416676e-9
         ]
        }
       ],
       "layout": {
        "legend": {
         "title": {
          "text": "Filter Combination"
         }
        },
        "showlegend": true,
        "template": {
         "data": {
          "bar": [
           {
            "error_x": {
             "color": "#2a3f5f"
            },
            "error_y": {
             "color": "#2a3f5f"
            },
            "marker": {
             "line": {
              "color": "#E5ECF6",
              "width": 0.5
             },
             "pattern": {
              "fillmode": "overlay",
              "size": 10,
              "solidity": 0.2
             }
            },
            "type": "bar"
           }
          ],
          "barpolar": [
           {
            "marker": {
             "line": {
              "color": "#E5ECF6",
              "width": 0.5
             },
             "pattern": {
              "fillmode": "overlay",
              "size": 10,
              "solidity": 0.2
             }
            },
            "type": "barpolar"
           }
          ],
          "carpet": [
           {
            "aaxis": {
             "endlinecolor": "#2a3f5f",
             "gridcolor": "white",
             "linecolor": "white",
             "minorgridcolor": "white",
             "startlinecolor": "#2a3f5f"
            },
            "baxis": {
             "endlinecolor": "#2a3f5f",
             "gridcolor": "white",
             "linecolor": "white",
             "minorgridcolor": "white",
             "startlinecolor": "#2a3f5f"
            },
            "type": "carpet"
           }
          ],
          "choropleth": [
           {
            "colorbar": {
             "outlinewidth": 0,
             "ticks": ""
            },
            "type": "choropleth"
           }
          ],
          "contour": [
           {
            "colorbar": {
             "outlinewidth": 0,
             "ticks": ""
            },
            "colorscale": [
             [
              0,
              "#0d0887"
             ],
             [
              0.1111111111111111,
              "#46039f"
             ],
             [
              0.2222222222222222,
              "#7201a8"
             ],
             [
              0.3333333333333333,
              "#9c179e"
             ],
             [
              0.4444444444444444,
              "#bd3786"
             ],
             [
              0.5555555555555556,
              "#d8576b"
             ],
             [
              0.6666666666666666,
              "#ed7953"
             ],
             [
              0.7777777777777778,
              "#fb9f3a"
             ],
             [
              0.8888888888888888,
              "#fdca26"
             ],
             [
              1,
              "#f0f921"
             ]
            ],
            "type": "contour"
           }
          ],
          "contourcarpet": [
           {
            "colorbar": {
             "outlinewidth": 0,
             "ticks": ""
            },
            "type": "contourcarpet"
           }
          ],
          "heatmap": [
           {
            "colorbar": {
             "outlinewidth": 0,
             "ticks": ""
            },
            "colorscale": [
             [
              0,
              "#0d0887"
             ],
             [
              0.1111111111111111,
              "#46039f"
             ],
             [
              0.2222222222222222,
              "#7201a8"
             ],
             [
              0.3333333333333333,
              "#9c179e"
             ],
             [
              0.4444444444444444,
              "#bd3786"
             ],
             [
              0.5555555555555556,
              "#d8576b"
             ],
             [
              0.6666666666666666,
              "#ed7953"
             ],
             [
              0.7777777777777778,
              "#fb9f3a"
             ],
             [
              0.8888888888888888,
              "#fdca26"
             ],
             [
              1,
              "#f0f921"
             ]
            ],
            "type": "heatmap"
           }
          ],
          "heatmapgl": [
           {
            "colorbar": {
             "outlinewidth": 0,
             "ticks": ""
            },
            "colorscale": [
             [
              0,
              "#0d0887"
             ],
             [
              0.1111111111111111,
              "#46039f"
             ],
             [
              0.2222222222222222,
              "#7201a8"
             ],
             [
              0.3333333333333333,
              "#9c179e"
             ],
             [
              0.4444444444444444,
              "#bd3786"
             ],
             [
              0.5555555555555556,
              "#d8576b"
             ],
             [
              0.6666666666666666,
              "#ed7953"
             ],
             [
              0.7777777777777778,
              "#fb9f3a"
             ],
             [
              0.8888888888888888,
              "#fdca26"
             ],
             [
              1,
              "#f0f921"
             ]
            ],
            "type": "heatmapgl"
           }
          ],
          "histogram": [
           {
            "marker": {
             "pattern": {
              "fillmode": "overlay",
              "size": 10,
              "solidity": 0.2
             }
            },
            "type": "histogram"
           }
          ],
          "histogram2d": [
           {
            "colorbar": {
             "outlinewidth": 0,
             "ticks": ""
            },
            "colorscale": [
             [
              0,
              "#0d0887"
             ],
             [
              0.1111111111111111,
              "#46039f"
             ],
             [
              0.2222222222222222,
              "#7201a8"
             ],
             [
              0.3333333333333333,
              "#9c179e"
             ],
             [
              0.4444444444444444,
              "#bd3786"
             ],
             [
              0.5555555555555556,
              "#d8576b"
             ],
             [
              0.6666666666666666,
              "#ed7953"
             ],
             [
              0.7777777777777778,
              "#fb9f3a"
             ],
             [
              0.8888888888888888,
              "#fdca26"
             ],
             [
              1,
              "#f0f921"
             ]
            ],
            "type": "histogram2d"
           }
          ],
          "histogram2dcontour": [
           {
            "colorbar": {
             "outlinewidth": 0,
             "ticks": ""
            },
            "colorscale": [
             [
              0,
              "#0d0887"
             ],
             [
              0.1111111111111111,
              "#46039f"
             ],
             [
              0.2222222222222222,
              "#7201a8"
             ],
             [
              0.3333333333333333,
              "#9c179e"
             ],
             [
              0.4444444444444444,
              "#bd3786"
             ],
             [
              0.5555555555555556,
              "#d8576b"
             ],
             [
              0.6666666666666666,
              "#ed7953"
             ],
             [
              0.7777777777777778,
              "#fb9f3a"
             ],
             [
              0.8888888888888888,
              "#fdca26"
             ],
             [
              1,
              "#f0f921"
             ]
            ],
            "type": "histogram2dcontour"
           }
          ],
          "mesh3d": [
           {
            "colorbar": {
             "outlinewidth": 0,
             "ticks": ""
            },
            "type": "mesh3d"
           }
          ],
          "parcoords": [
           {
            "line": {
             "colorbar": {
              "outlinewidth": 0,
              "ticks": ""
             }
            },
            "type": "parcoords"
           }
          ],
          "pie": [
           {
            "automargin": true,
            "type": "pie"
           }
          ],
          "scatter": [
           {
            "fillpattern": {
             "fillmode": "overlay",
             "size": 10,
             "solidity": 0.2
            },
            "type": "scatter"
           }
          ],
          "scatter3d": [
           {
            "line": {
             "colorbar": {
              "outlinewidth": 0,
              "ticks": ""
             }
            },
            "marker": {
             "colorbar": {
              "outlinewidth": 0,
              "ticks": ""
             }
            },
            "type": "scatter3d"
           }
          ],
          "scattercarpet": [
           {
            "marker": {
             "colorbar": {
              "outlinewidth": 0,
              "ticks": ""
             }
            },
            "type": "scattercarpet"
           }
          ],
          "scattergeo": [
           {
            "marker": {
             "colorbar": {
              "outlinewidth": 0,
              "ticks": ""
             }
            },
            "type": "scattergeo"
           }
          ],
          "scattergl": [
           {
            "marker": {
             "colorbar": {
              "outlinewidth": 0,
              "ticks": ""
             }
            },
            "type": "scattergl"
           }
          ],
          "scattermapbox": [
           {
            "marker": {
             "colorbar": {
              "outlinewidth": 0,
              "ticks": ""
             }
            },
            "type": "scattermapbox"
           }
          ],
          "scatterpolar": [
           {
            "marker": {
             "colorbar": {
              "outlinewidth": 0,
              "ticks": ""
             }
            },
            "type": "scatterpolar"
           }
          ],
          "scatterpolargl": [
           {
            "marker": {
             "colorbar": {
              "outlinewidth": 0,
              "ticks": ""
             }
            },
            "type": "scatterpolargl"
           }
          ],
          "scatterternary": [
           {
            "marker": {
             "colorbar": {
              "outlinewidth": 0,
              "ticks": ""
             }
            },
            "type": "scatterternary"
           }
          ],
          "surface": [
           {
            "colorbar": {
             "outlinewidth": 0,
             "ticks": ""
            },
            "colorscale": [
             [
              0,
              "#0d0887"
             ],
             [
              0.1111111111111111,
              "#46039f"
             ],
             [
              0.2222222222222222,
              "#7201a8"
             ],
             [
              0.3333333333333333,
              "#9c179e"
             ],
             [
              0.4444444444444444,
              "#bd3786"
             ],
             [
              0.5555555555555556,
              "#d8576b"
             ],
             [
              0.6666666666666666,
              "#ed7953"
             ],
             [
              0.7777777777777778,
              "#fb9f3a"
             ],
             [
              0.8888888888888888,
              "#fdca26"
             ],
             [
              1,
              "#f0f921"
             ]
            ],
            "type": "surface"
           }
          ],
          "table": [
           {
            "cells": {
             "fill": {
              "color": "#EBF0F8"
             },
             "line": {
              "color": "white"
             }
            },
            "header": {
             "fill": {
              "color": "#C8D4E3"
             },
             "line": {
              "color": "white"
             }
            },
            "type": "table"
           }
          ]
         },
         "layout": {
          "annotationdefaults": {
           "arrowcolor": "#2a3f5f",
           "arrowhead": 0,
           "arrowwidth": 1
          },
          "autotypenumbers": "strict",
          "coloraxis": {
           "colorbar": {
            "outlinewidth": 0,
            "ticks": ""
           }
          },
          "colorscale": {
           "diverging": [
            [
             0,
             "#8e0152"
            ],
            [
             0.1,
             "#c51b7d"
            ],
            [
             0.2,
             "#de77ae"
            ],
            [
             0.3,
             "#f1b6da"
            ],
            [
             0.4,
             "#fde0ef"
            ],
            [
             0.5,
             "#f7f7f7"
            ],
            [
             0.6,
             "#e6f5d0"
            ],
            [
             0.7,
             "#b8e186"
            ],
            [
             0.8,
             "#7fbc41"
            ],
            [
             0.9,
             "#4d9221"
            ],
            [
             1,
             "#276419"
            ]
           ],
           "sequential": [
            [
             0,
             "#0d0887"
            ],
            [
             0.1111111111111111,
             "#46039f"
            ],
            [
             0.2222222222222222,
             "#7201a8"
            ],
            [
             0.3333333333333333,
             "#9c179e"
            ],
            [
             0.4444444444444444,
             "#bd3786"
            ],
            [
             0.5555555555555556,
             "#d8576b"
            ],
            [
             0.6666666666666666,
             "#ed7953"
            ],
            [
             0.7777777777777778,
             "#fb9f3a"
            ],
            [
             0.8888888888888888,
             "#fdca26"
            ],
            [
             1,
             "#f0f921"
            ]
           ],
           "sequentialminus": [
            [
             0,
             "#0d0887"
            ],
            [
             0.1111111111111111,
             "#46039f"
            ],
            [
             0.2222222222222222,
             "#7201a8"
            ],
            [
             0.3333333333333333,
             "#9c179e"
            ],
            [
             0.4444444444444444,
             "#bd3786"
            ],
            [
             0.5555555555555556,
             "#d8576b"
            ],
            [
             0.6666666666666666,
             "#ed7953"
            ],
            [
             0.7777777777777778,
             "#fb9f3a"
            ],
            [
             0.8888888888888888,
             "#fdca26"
            ],
            [
             1,
             "#f0f921"
            ]
           ]
          },
          "colorway": [
           "#636efa",
           "#EF553B",
           "#00cc96",
           "#ab63fa",
           "#FFA15A",
           "#19d3f3",
           "#FF6692",
           "#B6E880",
           "#FF97FF",
           "#FECB52"
          ],
          "font": {
           "color": "#2a3f5f"
          },
          "geo": {
           "bgcolor": "white",
           "lakecolor": "white",
           "landcolor": "#E5ECF6",
           "showlakes": true,
           "showland": true,
           "subunitcolor": "white"
          },
          "hoverlabel": {
           "align": "left"
          },
          "hovermode": "closest",
          "mapbox": {
           "style": "light"
          },
          "paper_bgcolor": "white",
          "plot_bgcolor": "#E5ECF6",
          "polar": {
           "angularaxis": {
            "gridcolor": "white",
            "linecolor": "white",
            "ticks": ""
           },
           "bgcolor": "#E5ECF6",
           "radialaxis": {
            "gridcolor": "white",
            "linecolor": "white",
            "ticks": ""
           }
          },
          "scene": {
           "xaxis": {
            "backgroundcolor": "#E5ECF6",
            "gridcolor": "white",
            "gridwidth": 2,
            "linecolor": "white",
            "showbackground": true,
            "ticks": "",
            "zerolinecolor": "white"
           },
           "yaxis": {
            "backgroundcolor": "#E5ECF6",
            "gridcolor": "white",
            "gridwidth": 2,
            "linecolor": "white",
            "showbackground": true,
            "ticks": "",
            "zerolinecolor": "white"
           },
           "zaxis": {
            "backgroundcolor": "#E5ECF6",
            "gridcolor": "white",
            "gridwidth": 2,
            "linecolor": "white",
            "showbackground": true,
            "ticks": "",
            "zerolinecolor": "white"
           }
          },
          "shapedefaults": {
           "line": {
            "color": "#2a3f5f"
           }
          },
          "ternary": {
           "aaxis": {
            "gridcolor": "white",
            "linecolor": "white",
            "ticks": ""
           },
           "baxis": {
            "gridcolor": "white",
            "linecolor": "white",
            "ticks": ""
           },
           "bgcolor": "#E5ECF6",
           "caxis": {
            "gridcolor": "white",
            "linecolor": "white",
            "ticks": ""
           }
          },
          "title": {
           "x": 0.05
          },
          "xaxis": {
           "automargin": true,
           "gridcolor": "white",
           "linecolor": "white",
           "ticks": "",
           "title": {
            "standoff": 15
           },
           "zerolinecolor": "white",
           "zerolinewidth": 2
          },
          "yaxis": {
           "automargin": true,
           "gridcolor": "white",
           "linecolor": "white",
           "ticks": "",
           "title": {
            "standoff": 15
           },
           "zerolinecolor": "white",
           "zerolinewidth": 2
          }
         }
        },
        "title": {
         "text": "Dose vs. Distance [log scales]"
        },
        "xaxis": {
         "title": {
          "text": "Distance (m) [Log]"
         },
         "type": "log"
        },
        "yaxis": {
         "title": {
          "text": "Dose (Gy) [Log]"
         },
         "type": "log"
        }
       }
      }
     },
     "metadata": {},
     "output_type": "display_data"
    },
    {
     "data": {
      "application/vnd.jupyter.widget-view+json": {
       "model_id": "3a1db357701e46398abedb7aefef17a9",
       "version_major": 2,
       "version_minor": 0
      },
      "text/plain": [
       "VBox(children=(SelectMultiple(description='Particle:', index=(0,), options=('N', 'P'), value=('N',)), SelectMu…"
      ]
     },
     "metadata": {},
     "output_type": "display_data"
    }
   ],
   "source": [
    "import pandas as pd\n",
    "import plotly.graph_objects as go\n",
    "import ipywidgets as widgets\n",
    "from IPython.display import display\n",
    "from ipywidgets import Output\n",
    "\n",
    "# Charger vos données\n",
    "data = pd.read_excel(\"../DB/All-at-once_DB.xlsx\", sheet_name='screen')\n",
    "\n",
    "# Calcul des incertitudes absolues\n",
    "data[\"Absolute Uncertainty\"] = (data[\"1s uncertainty\"]) * data[\"Dose (Gy)\"]\n",
    "\n",
    "# Ajouter une colonne pour la combinaison de filtres\n",
    "data['Filter Combo'] = data.apply(lambda row: f\"{row['Particle']}_{row['Screen']}_{row['Code']}_{row['Case']}_{row['Thickness (cm)']}\", axis=1)\n",
    "\n",
    "output = Output()  # Créez une zone d'affichage pour la figure\n",
    "\n",
    "# Initialiser une figure vide dans l'objet Output\n",
    "fig = go.Figure()\n",
    "fig.update_layout(\n",
    "    title=\"Dose vs. Distance [log scales]\",\n",
    "    xaxis_title=\"Distance (m) [Log]\",\n",
    "    yaxis_title=\"Dose (Gy) [Log]\",\n",
    "    legend_title=\"Filter Combination\",\n",
    "    xaxis={'type': 'log'},\n",
    "    yaxis={'type': 'log'},\n",
    "    showlegend=True  # Assure que la légende est toujours affichée\n",
    ")\n",
    "\n",
    "display(output)  # Affiche l'objet Output une seule fois\n",
    "\n",
    "# Fonction pour mettre à jour le graphique\n",
    "def plot_filters(particle_types, screen_types, code_types, case_types, thickness_types):\n",
    "    fig.data = []  # Efface les données précédentes de la figure\n",
    "    filtered_data = data[data['Particle'].isin(particle_types) & \n",
    "                         data['Screen'].isin(screen_types) &\n",
    "                         data['Code'].isin(code_types) &\n",
    "                         data['Case'].isin(case_types) &\n",
    "                         data['Thickness (cm)'].isin(thickness_types)]\n",
    "\n",
    "    for combo in filtered_data['Filter Combo'].unique():\n",
    "        df_subset = filtered_data[filtered_data['Filter Combo'] == combo]\n",
    "        fig.add_trace(go.Scatter(x=df_subset[\"Distance (m)\"], y=df_subset[\"Dose (Gy)\"],\n",
    "                                 mode='lines+markers', name=combo,\n",
    "                                 line=dict(dash='dash'),\n",
    "                                 error_y=dict(type='data', array=2*df_subset[\"Absolute Uncertainty\"],\n",
    "                                              visible=True)))\n",
    "    with output:\n",
    "        output.clear_output(wait=True)  # Efface la sortie précédente\n",
    "        display(fig)  # Affichez la figure mise à jour\n",
    "\n",
    "# Création des widgets\n",
    "particle_selector = widgets.SelectMultiple(\n",
    "    options=list(data['Particle'].unique()),\n",
    "    value=[data['Particle'].unique()[0]],\n",
    "    description='Particle:',\n",
    ")\n",
    "\n",
    "screen_selector = widgets.SelectMultiple(\n",
    "    options=list(data['Screen'].unique()),\n",
    "    value=[data['Screen'].unique()[0]],\n",
    "    description='Screen:',\n",
    ")\n",
    "\n",
    "code_selector = widgets.SelectMultiple(\n",
    "    options=list(data['Code'].unique()),\n",
    "    value=[data['Code'].unique()[0]],\n",
    "    description='Code:',\n",
    ")\n",
    "\n",
    "case_selector = widgets.SelectMultiple(\n",
    "    options=list(data['Case'].unique()),\n",
    "    value=[data['Case'].unique()[0]],\n",
    "    description='Case:',\n",
    ")\n",
    "\n",
    "thickness_options = sorted(data['Thickness (cm)'].unique())\n",
    "thickness_selector = widgets.SelectMultiple(\n",
    "    options=thickness_options,\n",
    "    value=[thickness_options[0]],\n",
    "    description='Thickness:',\n",
    ")\n",
    "\n",
    "interactive_plot = widgets.interactive_output(plot_filters, {\n",
    "    'particle_types': particle_selector, \n",
    "    'screen_types': screen_selector, \n",
    "    'code_types': code_selector,\n",
    "    'case_types': case_selector,\n",
    "    'thickness_types': thickness_selector\n",
    "})\n",
    "\n",
    "widget_box = widgets.VBox([\n",
    "    particle_selector,\n",
    "    screen_selector,\n",
    "    code_selector,\n",
    "    case_selector,\n",
    "    thickness_selector\n",
    "])\n",
    "\n",
    "display(widget_box)\n"
   ]
  },
  {
   "cell_type": "code",
   "execution_count": 36,
   "metadata": {},
   "outputs": [
    {
     "data": {
      "application/vnd.plotly.v1+json": {
       "config": {
        "plotlyServerURL": "https://plot.ly"
       },
       "data": [
        {
         "error_y": {
          "array": [
           0.013468059872185495,
           0.016900108402982207,
           0.01890588271633453,
           0.016578518717405268,
           0.015746659211490648,
           0.020144565654643898,
           0.022438046526520327,
           0.018586055396763543,
           0.025343795743246383,
           0.017344128432593735,
           0.01647757848028986,
           0.015166244837646656,
           0.013102985093977162
          ],
          "type": "data",
          "visible": true
         },
         "mode": "lines+markers",
         "name": "C1 [U(4.95)O2F2 (H/235U = 410)]-MCNP 6.1-Lead-10cm-N",
         "type": "scatter",
         "x": [
          1,
          2,
          5,
          10,
          20,
          50,
          100,
          200,
          300,
          500,
          700,
          1000,
          1200
         ],
         "y": [
          0.7768540735125541,
          0.7426628388021236,
          0.73758873395843,
          0.6839192540479092,
          0.6909354185762187,
          0.6448911282737938,
          0.6072148337748268,
          0.6553981224000531,
          0.6439823873837355,
          0.6247956230453059,
          0.5907649965191597,
          0.565558298303507,
          0.574052199524788
         ]
        },
        {
         "error_y": {
          "array": [
           0.031127635180450516,
           0.02619127515942831,
           0.039181116157833894,
           0.04456218331644108,
           0.028918192706161538,
           0.03768669871836866,
           0.04326328706380039,
           0.034895016423417906,
           0.03939342866401659,
           0.03154104957618694,
           0.03417681516167446,
           0.04127649417012178,
           0.02919090550985933
          ],
          "type": "data",
          "visible": true
         },
         "mode": "lines+markers",
         "name": "C1 [U(4.95)O2F2 (H/235U = 410)]-MCNP 6.1-Lead-1cm-N",
         "type": "scatter",
         "x": [
          1,
          2,
          5,
          10,
          20,
          50,
          100,
          200,
          300,
          500,
          700,
          1000,
          1200
         ],
         "y": [
          1.0110212517877153,
          0.967687302717955,
          0.9782447991326564,
          1.0151076052777441,
          0.9600858135605705,
          0.9411680076326303,
          0.9024158336048235,
          0.9676201181925197,
          0.9586847555010302,
          0.9943576449501887,
          1.0094004660876406,
          1.0582603286568273,
          1.0511484559070265
         ]
        },
        {
         "error_y": {
          "array": [
           0.007072907194185926,
           0.009249048308262436,
           0.00849702547890065,
           0.007856779757704895,
           0.008626829077768506,
           0.012630324272626814,
           0.01456286812487495,
           0.011576347926072946,
           0.015521579800732791,
           0.010659051846768866,
           0.010171170210713483,
           0.00850715347205133,
           0.006607372215830103
          ],
          "type": "data",
          "visible": true
         },
         "mode": "lines+markers",
         "name": "C1 [U(4.95)O2F2 (H/235U = 410)]-MCNP 6.1-Lead-20cm-N",
         "type": "scatter",
         "x": [
          1,
          2,
          5,
          10,
          20,
          50,
          100,
          200,
          300,
          500,
          700,
          1000,
          1200
         ],
         "y": [
          0.5584647651151379,
          0.5334963552714083,
          0.4793012352802461,
          0.46839624139983993,
          0.4481242911226802,
          0.4407154762964695,
          0.4402009120528988,
          0.4353118052571391,
          0.43051103825838255,
          0.4045654418919541,
          0.3730938339813885,
          0.32862077572325044,
          0.30817752888731814
         ]
        },
        {
         "error_y": {
          "array": [
           0.02118640598384603,
           0.023382568411870655,
           0.026814384610599033,
           0.02580825379436164,
           0.02010885152789554,
           0.027357104679487824,
           0.031008986013097845,
           0.02508283251172437,
           0.03250162085809827,
           0.0218894291057497,
           0.026335368242495473,
           0.021424873658784628,
           0.01843421460998159
          ],
          "type": "data",
          "visible": true
         },
         "mode": "lines+markers",
         "name": "C1 [U(4.95)O2F2 (H/235U = 410)]-MCNP 6.1-Lead-5cm-N",
         "type": "scatter",
         "x": [
          1,
          2,
          5,
          10,
          20,
          50,
          100,
          200,
          300,
          500,
          700,
          1000,
          1200
         ],
         "y": [
          0.919065608640222,
          0.8897466258277449,
          0.8636869346101264,
          0.8307970852153136,
          0.8264687067649533,
          0.8064505704291465,
          0.7635180421153576,
          0.8044494698925382,
          0.8314529112441527,
          0.7695913437084991,
          0.8154810950104301,
          0.7695446055334744,
          0.7865525550615373
         ]
        }
       ],
       "layout": {
        "template": {
         "data": {
          "bar": [
           {
            "error_x": {
             "color": "#2a3f5f"
            },
            "error_y": {
             "color": "#2a3f5f"
            },
            "marker": {
             "line": {
              "color": "#E5ECF6",
              "width": 0.5
             },
             "pattern": {
              "fillmode": "overlay",
              "size": 10,
              "solidity": 0.2
             }
            },
            "type": "bar"
           }
          ],
          "barpolar": [
           {
            "marker": {
             "line": {
              "color": "#E5ECF6",
              "width": 0.5
             },
             "pattern": {
              "fillmode": "overlay",
              "size": 10,
              "solidity": 0.2
             }
            },
            "type": "barpolar"
           }
          ],
          "carpet": [
           {
            "aaxis": {
             "endlinecolor": "#2a3f5f",
             "gridcolor": "white",
             "linecolor": "white",
             "minorgridcolor": "white",
             "startlinecolor": "#2a3f5f"
            },
            "baxis": {
             "endlinecolor": "#2a3f5f",
             "gridcolor": "white",
             "linecolor": "white",
             "minorgridcolor": "white",
             "startlinecolor": "#2a3f5f"
            },
            "type": "carpet"
           }
          ],
          "choropleth": [
           {
            "colorbar": {
             "outlinewidth": 0,
             "ticks": ""
            },
            "type": "choropleth"
           }
          ],
          "contour": [
           {
            "colorbar": {
             "outlinewidth": 0,
             "ticks": ""
            },
            "colorscale": [
             [
              0,
              "#0d0887"
             ],
             [
              0.1111111111111111,
              "#46039f"
             ],
             [
              0.2222222222222222,
              "#7201a8"
             ],
             [
              0.3333333333333333,
              "#9c179e"
             ],
             [
              0.4444444444444444,
              "#bd3786"
             ],
             [
              0.5555555555555556,
              "#d8576b"
             ],
             [
              0.6666666666666666,
              "#ed7953"
             ],
             [
              0.7777777777777778,
              "#fb9f3a"
             ],
             [
              0.8888888888888888,
              "#fdca26"
             ],
             [
              1,
              "#f0f921"
             ]
            ],
            "type": "contour"
           }
          ],
          "contourcarpet": [
           {
            "colorbar": {
             "outlinewidth": 0,
             "ticks": ""
            },
            "type": "contourcarpet"
           }
          ],
          "heatmap": [
           {
            "colorbar": {
             "outlinewidth": 0,
             "ticks": ""
            },
            "colorscale": [
             [
              0,
              "#0d0887"
             ],
             [
              0.1111111111111111,
              "#46039f"
             ],
             [
              0.2222222222222222,
              "#7201a8"
             ],
             [
              0.3333333333333333,
              "#9c179e"
             ],
             [
              0.4444444444444444,
              "#bd3786"
             ],
             [
              0.5555555555555556,
              "#d8576b"
             ],
             [
              0.6666666666666666,
              "#ed7953"
             ],
             [
              0.7777777777777778,
              "#fb9f3a"
             ],
             [
              0.8888888888888888,
              "#fdca26"
             ],
             [
              1,
              "#f0f921"
             ]
            ],
            "type": "heatmap"
           }
          ],
          "heatmapgl": [
           {
            "colorbar": {
             "outlinewidth": 0,
             "ticks": ""
            },
            "colorscale": [
             [
              0,
              "#0d0887"
             ],
             [
              0.1111111111111111,
              "#46039f"
             ],
             [
              0.2222222222222222,
              "#7201a8"
             ],
             [
              0.3333333333333333,
              "#9c179e"
             ],
             [
              0.4444444444444444,
              "#bd3786"
             ],
             [
              0.5555555555555556,
              "#d8576b"
             ],
             [
              0.6666666666666666,
              "#ed7953"
             ],
             [
              0.7777777777777778,
              "#fb9f3a"
             ],
             [
              0.8888888888888888,
              "#fdca26"
             ],
             [
              1,
              "#f0f921"
             ]
            ],
            "type": "heatmapgl"
           }
          ],
          "histogram": [
           {
            "marker": {
             "pattern": {
              "fillmode": "overlay",
              "size": 10,
              "solidity": 0.2
             }
            },
            "type": "histogram"
           }
          ],
          "histogram2d": [
           {
            "colorbar": {
             "outlinewidth": 0,
             "ticks": ""
            },
            "colorscale": [
             [
              0,
              "#0d0887"
             ],
             [
              0.1111111111111111,
              "#46039f"
             ],
             [
              0.2222222222222222,
              "#7201a8"
             ],
             [
              0.3333333333333333,
              "#9c179e"
             ],
             [
              0.4444444444444444,
              "#bd3786"
             ],
             [
              0.5555555555555556,
              "#d8576b"
             ],
             [
              0.6666666666666666,
              "#ed7953"
             ],
             [
              0.7777777777777778,
              "#fb9f3a"
             ],
             [
              0.8888888888888888,
              "#fdca26"
             ],
             [
              1,
              "#f0f921"
             ]
            ],
            "type": "histogram2d"
           }
          ],
          "histogram2dcontour": [
           {
            "colorbar": {
             "outlinewidth": 0,
             "ticks": ""
            },
            "colorscale": [
             [
              0,
              "#0d0887"
             ],
             [
              0.1111111111111111,
              "#46039f"
             ],
             [
              0.2222222222222222,
              "#7201a8"
             ],
             [
              0.3333333333333333,
              "#9c179e"
             ],
             [
              0.4444444444444444,
              "#bd3786"
             ],
             [
              0.5555555555555556,
              "#d8576b"
             ],
             [
              0.6666666666666666,
              "#ed7953"
             ],
             [
              0.7777777777777778,
              "#fb9f3a"
             ],
             [
              0.8888888888888888,
              "#fdca26"
             ],
             [
              1,
              "#f0f921"
             ]
            ],
            "type": "histogram2dcontour"
           }
          ],
          "mesh3d": [
           {
            "colorbar": {
             "outlinewidth": 0,
             "ticks": ""
            },
            "type": "mesh3d"
           }
          ],
          "parcoords": [
           {
            "line": {
             "colorbar": {
              "outlinewidth": 0,
              "ticks": ""
             }
            },
            "type": "parcoords"
           }
          ],
          "pie": [
           {
            "automargin": true,
            "type": "pie"
           }
          ],
          "scatter": [
           {
            "fillpattern": {
             "fillmode": "overlay",
             "size": 10,
             "solidity": 0.2
            },
            "type": "scatter"
           }
          ],
          "scatter3d": [
           {
            "line": {
             "colorbar": {
              "outlinewidth": 0,
              "ticks": ""
             }
            },
            "marker": {
             "colorbar": {
              "outlinewidth": 0,
              "ticks": ""
             }
            },
            "type": "scatter3d"
           }
          ],
          "scattercarpet": [
           {
            "marker": {
             "colorbar": {
              "outlinewidth": 0,
              "ticks": ""
             }
            },
            "type": "scattercarpet"
           }
          ],
          "scattergeo": [
           {
            "marker": {
             "colorbar": {
              "outlinewidth": 0,
              "ticks": ""
             }
            },
            "type": "scattergeo"
           }
          ],
          "scattergl": [
           {
            "marker": {
             "colorbar": {
              "outlinewidth": 0,
              "ticks": ""
             }
            },
            "type": "scattergl"
           }
          ],
          "scattermapbox": [
           {
            "marker": {
             "colorbar": {
              "outlinewidth": 0,
              "ticks": ""
             }
            },
            "type": "scattermapbox"
           }
          ],
          "scatterpolar": [
           {
            "marker": {
             "colorbar": {
              "outlinewidth": 0,
              "ticks": ""
             }
            },
            "type": "scatterpolar"
           }
          ],
          "scatterpolargl": [
           {
            "marker": {
             "colorbar": {
              "outlinewidth": 0,
              "ticks": ""
             }
            },
            "type": "scatterpolargl"
           }
          ],
          "scatterternary": [
           {
            "marker": {
             "colorbar": {
              "outlinewidth": 0,
              "ticks": ""
             }
            },
            "type": "scatterternary"
           }
          ],
          "surface": [
           {
            "colorbar": {
             "outlinewidth": 0,
             "ticks": ""
            },
            "colorscale": [
             [
              0,
              "#0d0887"
             ],
             [
              0.1111111111111111,
              "#46039f"
             ],
             [
              0.2222222222222222,
              "#7201a8"
             ],
             [
              0.3333333333333333,
              "#9c179e"
             ],
             [
              0.4444444444444444,
              "#bd3786"
             ],
             [
              0.5555555555555556,
              "#d8576b"
             ],
             [
              0.6666666666666666,
              "#ed7953"
             ],
             [
              0.7777777777777778,
              "#fb9f3a"
             ],
             [
              0.8888888888888888,
              "#fdca26"
             ],
             [
              1,
              "#f0f921"
             ]
            ],
            "type": "surface"
           }
          ],
          "table": [
           {
            "cells": {
             "fill": {
              "color": "#EBF0F8"
             },
             "line": {
              "color": "white"
             }
            },
            "header": {
             "fill": {
              "color": "#C8D4E3"
             },
             "line": {
              "color": "white"
             }
            },
            "type": "table"
           }
          ]
         },
         "layout": {
          "annotationdefaults": {
           "arrowcolor": "#2a3f5f",
           "arrowhead": 0,
           "arrowwidth": 1
          },
          "autotypenumbers": "strict",
          "coloraxis": {
           "colorbar": {
            "outlinewidth": 0,
            "ticks": ""
           }
          },
          "colorscale": {
           "diverging": [
            [
             0,
             "#8e0152"
            ],
            [
             0.1,
             "#c51b7d"
            ],
            [
             0.2,
             "#de77ae"
            ],
            [
             0.3,
             "#f1b6da"
            ],
            [
             0.4,
             "#fde0ef"
            ],
            [
             0.5,
             "#f7f7f7"
            ],
            [
             0.6,
             "#e6f5d0"
            ],
            [
             0.7,
             "#b8e186"
            ],
            [
             0.8,
             "#7fbc41"
            ],
            [
             0.9,
             "#4d9221"
            ],
            [
             1,
             "#276419"
            ]
           ],
           "sequential": [
            [
             0,
             "#0d0887"
            ],
            [
             0.1111111111111111,
             "#46039f"
            ],
            [
             0.2222222222222222,
             "#7201a8"
            ],
            [
             0.3333333333333333,
             "#9c179e"
            ],
            [
             0.4444444444444444,
             "#bd3786"
            ],
            [
             0.5555555555555556,
             "#d8576b"
            ],
            [
             0.6666666666666666,
             "#ed7953"
            ],
            [
             0.7777777777777778,
             "#fb9f3a"
            ],
            [
             0.8888888888888888,
             "#fdca26"
            ],
            [
             1,
             "#f0f921"
            ]
           ],
           "sequentialminus": [
            [
             0,
             "#0d0887"
            ],
            [
             0.1111111111111111,
             "#46039f"
            ],
            [
             0.2222222222222222,
             "#7201a8"
            ],
            [
             0.3333333333333333,
             "#9c179e"
            ],
            [
             0.4444444444444444,
             "#bd3786"
            ],
            [
             0.5555555555555556,
             "#d8576b"
            ],
            [
             0.6666666666666666,
             "#ed7953"
            ],
            [
             0.7777777777777778,
             "#fb9f3a"
            ],
            [
             0.8888888888888888,
             "#fdca26"
            ],
            [
             1,
             "#f0f921"
            ]
           ]
          },
          "colorway": [
           "#636efa",
           "#EF553B",
           "#00cc96",
           "#ab63fa",
           "#FFA15A",
           "#19d3f3",
           "#FF6692",
           "#B6E880",
           "#FF97FF",
           "#FECB52"
          ],
          "font": {
           "color": "#2a3f5f"
          },
          "geo": {
           "bgcolor": "white",
           "lakecolor": "white",
           "landcolor": "#E5ECF6",
           "showlakes": true,
           "showland": true,
           "subunitcolor": "white"
          },
          "hoverlabel": {
           "align": "left"
          },
          "hovermode": "closest",
          "mapbox": {
           "style": "light"
          },
          "paper_bgcolor": "white",
          "plot_bgcolor": "#E5ECF6",
          "polar": {
           "angularaxis": {
            "gridcolor": "white",
            "linecolor": "white",
            "ticks": ""
           },
           "bgcolor": "#E5ECF6",
           "radialaxis": {
            "gridcolor": "white",
            "linecolor": "white",
            "ticks": ""
           }
          },
          "scene": {
           "xaxis": {
            "backgroundcolor": "#E5ECF6",
            "gridcolor": "white",
            "gridwidth": 2,
            "linecolor": "white",
            "showbackground": true,
            "ticks": "",
            "zerolinecolor": "white"
           },
           "yaxis": {
            "backgroundcolor": "#E5ECF6",
            "gridcolor": "white",
            "gridwidth": 2,
            "linecolor": "white",
            "showbackground": true,
            "ticks": "",
            "zerolinecolor": "white"
           },
           "zaxis": {
            "backgroundcolor": "#E5ECF6",
            "gridcolor": "white",
            "gridwidth": 2,
            "linecolor": "white",
            "showbackground": true,
            "ticks": "",
            "zerolinecolor": "white"
           }
          },
          "shapedefaults": {
           "line": {
            "color": "#2a3f5f"
           }
          },
          "ternary": {
           "aaxis": {
            "gridcolor": "white",
            "linecolor": "white",
            "ticks": ""
           },
           "baxis": {
            "gridcolor": "white",
            "linecolor": "white",
            "ticks": ""
           },
           "bgcolor": "#E5ECF6",
           "caxis": {
            "gridcolor": "white",
            "linecolor": "white",
            "ticks": ""
           }
          },
          "title": {
           "x": 0.05
          },
          "xaxis": {
           "automargin": true,
           "gridcolor": "white",
           "linecolor": "white",
           "ticks": "",
           "title": {
            "standoff": 15
           },
           "zerolinecolor": "white",
           "zerolinewidth": 2
          },
          "yaxis": {
           "automargin": true,
           "gridcolor": "white",
           "linecolor": "white",
           "ticks": "",
           "title": {
            "standoff": 15
           },
           "zerolinecolor": "white",
           "zerolinewidth": 2
          }
         }
        },
        "title": {
         "text": "Ratio of Prompt Dose with Screen to No Screen by Configuration"
        },
        "updatemenus": [
         {
          "buttons": [
           {
            "args": [
             {
              "xaxis": {
               "title": "Distance (m)",
               "type": "log"
              },
              "yaxis": {
               "title": "Dose Ratio",
               "type": "linear"
              }
             }
            ],
            "label": "Log X, Lin Y",
            "method": "relayout"
           },
           {
            "args": [
             {
              "xaxis": {
               "title": "Distance (m)",
               "type": "linear"
              },
              "yaxis": {
               "title": "Dose Ratio",
               "type": "linear"
              }
             }
            ],
            "label": "Lin X, Lin Y",
            "method": "relayout"
           },
           {
            "args": [
             {
              "xaxis": {
               "title": "Distance (m)",
               "type": "log"
              },
              "yaxis": {
               "title": "Dose Ratio",
               "type": "log"
              }
             }
            ],
            "label": "Log X, Log Y",
            "method": "relayout"
           },
           {
            "args": [
             {
              "xaxis": {
               "title": "Distance (m)",
               "type": "linear"
              },
              "yaxis": {
               "title": "Dose Ratio",
               "type": "log"
              }
             }
            ],
            "label": "Lin X, Log Y",
            "method": "relayout"
           }
          ],
          "direction": "down",
          "showactive": true,
          "x": 1,
          "xanchor": "right",
          "y": 1.15,
          "yanchor": "top"
         }
        ],
        "xaxis": {
         "title": {
          "text": "Distance (m)"
         },
         "type": "log"
        },
        "yaxis": {
         "title": {
          "text": "Dose Ratio"
         },
         "type": "linear"
        }
       }
      }
     },
     "metadata": {},
     "output_type": "display_data"
    }
   ],
   "source": [
    "import pandas as pd\n",
    "import plotly.graph_objects as go\n",
    "import numpy as np\n",
    "\n",
    "# Charger les données depuis le fichier Excel\n",
    "data = pd.read_excel(\"../DB/All-at-once_DB.xlsx\", sheet_name='screen')\n",
    "\n",
    "def plot_ratio_by_configurations(data, particles, screens, cases, codes):\n",
    "    fig = go.Figure()\n",
    "\n",
    "    # Configuration des titres des axes\n",
    "    x_title = 'Distance (m)'\n",
    "    y_title = 'Dose Ratio'\n",
    "\n",
    "    # Boucles pour tracer les données\n",
    "    for particle in particles:\n",
    "        for screen in screens:\n",
    "            for case in cases:\n",
    "                for code in codes:\n",
    "                    data_screen = data[(data['Screen'] == screen) &\n",
    "                                       (data['Particle'] == particle) &\n",
    "                                       (data['Case'] == case) &\n",
    "                                       (data['Code'] == code)]\n",
    "                    data_no_screen = data[(data['Screen'] == 'None') &\n",
    "                                          (data['Particle'] == particle) &\n",
    "                                          (data['Case'] == case) &\n",
    "                                          (data['Code'] == code)]\n",
    "\n",
    "                    data_screen = data_screen.sort_values(by='Distance (m)')\n",
    "                    data_no_screen = data_no_screen.sort_values(by='Distance (m)')\n",
    "\n",
    "                    data_combined = pd.merge(data_screen, data_no_screen, on='Distance (m)', suffixes=('_screen', '_none'))\n",
    "                    data_combined['Dose Ratio'] = data_combined['Dose (Gy)_screen'] / data_combined['Dose (Gy)_none']\n",
    "                    data_combined['Combined Uncertainty'] = np.sqrt( data_combined['1s uncertainty_screen']**2 + data_combined['1s uncertainty_none']**2 ) * data_combined['Dose Ratio']\n",
    "                    data_combined['Unique Key'] = data_combined.apply(\n",
    "                        lambda x: f\"{case}-{code}-{screen}-{x['Thickness (cm)_screen']}cm-{particle}\", axis=1)\n",
    "\n",
    "                    for key, group in data_combined.groupby('Unique Key'):\n",
    "                        fig.add_trace(go.Scatter(\n",
    "                            x=group['Distance (m)'],\n",
    "                            y=group['Dose Ratio'],\n",
    "                            mode='lines+markers',\n",
    "                            name=key,\n",
    "                            error_y=dict(type='data', array= 2 * group['Combined Uncertainty'], visible=True)\n",
    "                        ))\n",
    "\n",
    "    # Configuration des boutons pour les échelles des axes\n",
    "    buttons = [\n",
    "        {'method': 'relayout', 'label': 'Log X, Lin Y', 'args': [{'xaxis': {'type': 'log', 'title': x_title}, 'yaxis': {'type': 'linear', 'title': y_title}}]},\n",
    "        {'method': 'relayout', 'label': 'Lin X, Lin Y', 'args': [{'xaxis': {'type': 'linear', 'title': x_title}, 'yaxis': {'type': 'linear', 'title': y_title}}]},\n",
    "        {'method': 'relayout', 'label': 'Log X, Log Y', 'args': [{'xaxis': {'type': 'log', 'title': x_title}, 'yaxis': {'type': 'log', 'title': y_title}}]},\n",
    "        {'method': 'relayout', 'label': 'Lin X, Log Y', 'args': [{'xaxis': {'type': 'linear', 'title': x_title}, 'yaxis': {'type': 'log', 'title': y_title}}]}\n",
    "    ]\n",
    "\n",
    "    # Mise à jour du layout avec les boutons et échelles par défaut \"Log X, Lin Y\"\n",
    "    fig.update_layout(\n",
    "        title='Ratio of Prompt Dose with Screen to No Screen by Configuration',\n",
    "        xaxis={'type': 'log', 'title': x_title},\n",
    "        yaxis={'type': 'linear', 'title': y_title},\n",
    "        updatemenus=[{\n",
    "            'buttons': buttons,\n",
    "            'direction': 'down',\n",
    "            'showactive': True,\n",
    "            'x': 1.0,  # positionnement au centre sur l'axe horizontal\n",
    "            'xanchor': 'right',\n",
    "            'y': 1.15,  # positionnement au-dessus du graphique\n",
    "            'yanchor': 'top'\n",
    "        }]\n",
    "    )\n",
    "\n",
    "    # Affichage du graphique\n",
    "    fig.show()\n",
    "\n",
    "# Définition des paramètres et appel de la fonction\n",
    "particles = ['N']  # ['N', 'P']  \n",
    "screens = ['Lead'] # ['Concrete', 'Steel', 'Water', 'Lead']\n",
    "cases = ['C1 [U(4.95)O2F2 (H/235U = 410)]']  # ['C1 [U(4.95)O2F2 (H/235U = 410)]', 'C4 [U(93.2) (H/235U = 0)]']\n",
    "codes = ['MCNP 6.1']  #  ['MCNP 6.1', 'COG 11.2', 'SCALE 6.2.2']\n",
    "\n",
    "plot_ratio_by_configurations(data, particles, screens, cases, codes)\n"
   ]
  },
  {
   "cell_type": "code",
   "execution_count": 5,
   "metadata": {},
   "outputs": [
    {
     "data": {
      "application/vnd.plotly.v1+json": {
       "config": {
        "plotlyServerURL": "https://plot.ly"
       },
       "data": [
        {
         "error_y": {
          "array": [
           0.0014429308705508472,
           0.0024101266972463395,
           0.003549633156514264,
           0.004055416966374804,
           0.0032763674213152536,
           0.008554656067650638,
           0.014235368527769618,
           0.01107874587860292,
           0.028592337634296527,
           0.013351121257031263,
           0.009533125770991293,
           0.014526936913564034,
           0.013482378895349867
          ],
          "thickness": 1,
          "type": "data",
          "visible": true
         },
         "name": "C1 [U(4.95)O2F2 (H/235U = 410)] - Lead - 5cm - P - MCNP 6.1",
         "type": "bar",
         "x": [
          "1",
          "2",
          "5",
          "10",
          "20",
          "50",
          "100",
          "200",
          "300",
          "500",
          "700",
          "1000",
          "1200"
         ],
         "y": [
          0.11918944480385689,
          0.1273293701236725,
          0.13236793346608142,
          0.13275416294332673,
          0.14063864896717976,
          0.16659955664541282,
          0.17505084019837874,
          0.20452887296559136,
          0.19512940421884037,
          0.2188979026979009,
          0.1824288651013488,
          0.20081003179618515,
          0.1724004799060974
         ]
        },
        {
         "error_y": {
          "array": [
           0.0004966338728966517,
           0.0007931122017090612,
           0.001161158054479652,
           0.0009487317217469018,
           0.0010939331363031188,
           0.0026858818417838525,
           0.002281803928549503,
           0.004135227951777438,
           0.01672854042791691,
           0.010175356101223514,
           0.007198247298721007,
           0.004725522591710004,
           0.004620528107029035
          ],
          "thickness": 1,
          "type": "data",
          "visible": true
         },
         "name": "C1 [U(4.95)O2F2 (H/235U = 410)] - Lead - 10cm - P - MCNP 6.1",
         "type": "bar",
         "x": [
          "1",
          "2",
          "5",
          "10",
          "20",
          "50",
          "100",
          "200",
          "300",
          "500",
          "700",
          "1000",
          "1200"
         ],
         "y": [
          0.025513061325234527,
          0.033182577801863594,
          0.04205548851373859,
          0.04622957100672634,
          0.05561349490383742,
          0.07693189454758627,
          0.09522738464707185,
          0.1184981226395988,
          0.12430147558479297,
          0.1449104587221872,
          0.1338519230969569,
          0.11039253394272452,
          0.09463210287334006
         ]
        },
        {
         "error_y": {
          "array": [
           0.0001146425129947193,
           0.00024089916660702327,
           0.0003163791655565468,
           0.0002817888467718357,
           0.00037906913364733875,
           0.00074540023413348,
           0.0013297987804897795,
           0.0016163550792931839,
           0.011650457249820678,
           0.0031382478648688777,
           0.00377189397555248,
           0.0027077883840893806,
           0.002568920589733547
          ],
          "thickness": 1,
          "type": "data",
          "visible": true
         },
         "name": "C1 [U(4.95)O2F2 (H/235U = 410)] - Lead - 20cm - P - MCNP 6.1",
         "type": "bar",
         "x": [
          "1",
          "2",
          "5",
          "10",
          "20",
          "50",
          "100",
          "200",
          "300",
          "500",
          "700",
          "1000",
          "1200"
         ],
         "y": [
          0.007310528461722636,
          0.01286191115161138,
          0.01911316437820757,
          0.022922544644326817,
          0.02978616141318281,
          0.04533004823624198,
          0.06139393096677771,
          0.07911152228901179,
          0.08795014960890707,
          0.09401346819142631,
          0.08967086809768235,
          0.07041415953679953,
          0.06061742913651814
         ]
        }
       ],
       "layout": {
        "barmode": "group",
        "template": {
         "data": {
          "bar": [
           {
            "error_x": {
             "color": "#2a3f5f"
            },
            "error_y": {
             "color": "#2a3f5f"
            },
            "marker": {
             "line": {
              "color": "#E5ECF6",
              "width": 0.5
             },
             "pattern": {
              "fillmode": "overlay",
              "size": 10,
              "solidity": 0.2
             }
            },
            "type": "bar"
           }
          ],
          "barpolar": [
           {
            "marker": {
             "line": {
              "color": "#E5ECF6",
              "width": 0.5
             },
             "pattern": {
              "fillmode": "overlay",
              "size": 10,
              "solidity": 0.2
             }
            },
            "type": "barpolar"
           }
          ],
          "carpet": [
           {
            "aaxis": {
             "endlinecolor": "#2a3f5f",
             "gridcolor": "white",
             "linecolor": "white",
             "minorgridcolor": "white",
             "startlinecolor": "#2a3f5f"
            },
            "baxis": {
             "endlinecolor": "#2a3f5f",
             "gridcolor": "white",
             "linecolor": "white",
             "minorgridcolor": "white",
             "startlinecolor": "#2a3f5f"
            },
            "type": "carpet"
           }
          ],
          "choropleth": [
           {
            "colorbar": {
             "outlinewidth": 0,
             "ticks": ""
            },
            "type": "choropleth"
           }
          ],
          "contour": [
           {
            "colorbar": {
             "outlinewidth": 0,
             "ticks": ""
            },
            "colorscale": [
             [
              0,
              "#0d0887"
             ],
             [
              0.1111111111111111,
              "#46039f"
             ],
             [
              0.2222222222222222,
              "#7201a8"
             ],
             [
              0.3333333333333333,
              "#9c179e"
             ],
             [
              0.4444444444444444,
              "#bd3786"
             ],
             [
              0.5555555555555556,
              "#d8576b"
             ],
             [
              0.6666666666666666,
              "#ed7953"
             ],
             [
              0.7777777777777778,
              "#fb9f3a"
             ],
             [
              0.8888888888888888,
              "#fdca26"
             ],
             [
              1,
              "#f0f921"
             ]
            ],
            "type": "contour"
           }
          ],
          "contourcarpet": [
           {
            "colorbar": {
             "outlinewidth": 0,
             "ticks": ""
            },
            "type": "contourcarpet"
           }
          ],
          "heatmap": [
           {
            "colorbar": {
             "outlinewidth": 0,
             "ticks": ""
            },
            "colorscale": [
             [
              0,
              "#0d0887"
             ],
             [
              0.1111111111111111,
              "#46039f"
             ],
             [
              0.2222222222222222,
              "#7201a8"
             ],
             [
              0.3333333333333333,
              "#9c179e"
             ],
             [
              0.4444444444444444,
              "#bd3786"
             ],
             [
              0.5555555555555556,
              "#d8576b"
             ],
             [
              0.6666666666666666,
              "#ed7953"
             ],
             [
              0.7777777777777778,
              "#fb9f3a"
             ],
             [
              0.8888888888888888,
              "#fdca26"
             ],
             [
              1,
              "#f0f921"
             ]
            ],
            "type": "heatmap"
           }
          ],
          "heatmapgl": [
           {
            "colorbar": {
             "outlinewidth": 0,
             "ticks": ""
            },
            "colorscale": [
             [
              0,
              "#0d0887"
             ],
             [
              0.1111111111111111,
              "#46039f"
             ],
             [
              0.2222222222222222,
              "#7201a8"
             ],
             [
              0.3333333333333333,
              "#9c179e"
             ],
             [
              0.4444444444444444,
              "#bd3786"
             ],
             [
              0.5555555555555556,
              "#d8576b"
             ],
             [
              0.6666666666666666,
              "#ed7953"
             ],
             [
              0.7777777777777778,
              "#fb9f3a"
             ],
             [
              0.8888888888888888,
              "#fdca26"
             ],
             [
              1,
              "#f0f921"
             ]
            ],
            "type": "heatmapgl"
           }
          ],
          "histogram": [
           {
            "marker": {
             "pattern": {
              "fillmode": "overlay",
              "size": 10,
              "solidity": 0.2
             }
            },
            "type": "histogram"
           }
          ],
          "histogram2d": [
           {
            "colorbar": {
             "outlinewidth": 0,
             "ticks": ""
            },
            "colorscale": [
             [
              0,
              "#0d0887"
             ],
             [
              0.1111111111111111,
              "#46039f"
             ],
             [
              0.2222222222222222,
              "#7201a8"
             ],
             [
              0.3333333333333333,
              "#9c179e"
             ],
             [
              0.4444444444444444,
              "#bd3786"
             ],
             [
              0.5555555555555556,
              "#d8576b"
             ],
             [
              0.6666666666666666,
              "#ed7953"
             ],
             [
              0.7777777777777778,
              "#fb9f3a"
             ],
             [
              0.8888888888888888,
              "#fdca26"
             ],
             [
              1,
              "#f0f921"
             ]
            ],
            "type": "histogram2d"
           }
          ],
          "histogram2dcontour": [
           {
            "colorbar": {
             "outlinewidth": 0,
             "ticks": ""
            },
            "colorscale": [
             [
              0,
              "#0d0887"
             ],
             [
              0.1111111111111111,
              "#46039f"
             ],
             [
              0.2222222222222222,
              "#7201a8"
             ],
             [
              0.3333333333333333,
              "#9c179e"
             ],
             [
              0.4444444444444444,
              "#bd3786"
             ],
             [
              0.5555555555555556,
              "#d8576b"
             ],
             [
              0.6666666666666666,
              "#ed7953"
             ],
             [
              0.7777777777777778,
              "#fb9f3a"
             ],
             [
              0.8888888888888888,
              "#fdca26"
             ],
             [
              1,
              "#f0f921"
             ]
            ],
            "type": "histogram2dcontour"
           }
          ],
          "mesh3d": [
           {
            "colorbar": {
             "outlinewidth": 0,
             "ticks": ""
            },
            "type": "mesh3d"
           }
          ],
          "parcoords": [
           {
            "line": {
             "colorbar": {
              "outlinewidth": 0,
              "ticks": ""
             }
            },
            "type": "parcoords"
           }
          ],
          "pie": [
           {
            "automargin": true,
            "type": "pie"
           }
          ],
          "scatter": [
           {
            "fillpattern": {
             "fillmode": "overlay",
             "size": 10,
             "solidity": 0.2
            },
            "type": "scatter"
           }
          ],
          "scatter3d": [
           {
            "line": {
             "colorbar": {
              "outlinewidth": 0,
              "ticks": ""
             }
            },
            "marker": {
             "colorbar": {
              "outlinewidth": 0,
              "ticks": ""
             }
            },
            "type": "scatter3d"
           }
          ],
          "scattercarpet": [
           {
            "marker": {
             "colorbar": {
              "outlinewidth": 0,
              "ticks": ""
             }
            },
            "type": "scattercarpet"
           }
          ],
          "scattergeo": [
           {
            "marker": {
             "colorbar": {
              "outlinewidth": 0,
              "ticks": ""
             }
            },
            "type": "scattergeo"
           }
          ],
          "scattergl": [
           {
            "marker": {
             "colorbar": {
              "outlinewidth": 0,
              "ticks": ""
             }
            },
            "type": "scattergl"
           }
          ],
          "scattermapbox": [
           {
            "marker": {
             "colorbar": {
              "outlinewidth": 0,
              "ticks": ""
             }
            },
            "type": "scattermapbox"
           }
          ],
          "scatterpolar": [
           {
            "marker": {
             "colorbar": {
              "outlinewidth": 0,
              "ticks": ""
             }
            },
            "type": "scatterpolar"
           }
          ],
          "scatterpolargl": [
           {
            "marker": {
             "colorbar": {
              "outlinewidth": 0,
              "ticks": ""
             }
            },
            "type": "scatterpolargl"
           }
          ],
          "scatterternary": [
           {
            "marker": {
             "colorbar": {
              "outlinewidth": 0,
              "ticks": ""
             }
            },
            "type": "scatterternary"
           }
          ],
          "surface": [
           {
            "colorbar": {
             "outlinewidth": 0,
             "ticks": ""
            },
            "colorscale": [
             [
              0,
              "#0d0887"
             ],
             [
              0.1111111111111111,
              "#46039f"
             ],
             [
              0.2222222222222222,
              "#7201a8"
             ],
             [
              0.3333333333333333,
              "#9c179e"
             ],
             [
              0.4444444444444444,
              "#bd3786"
             ],
             [
              0.5555555555555556,
              "#d8576b"
             ],
             [
              0.6666666666666666,
              "#ed7953"
             ],
             [
              0.7777777777777778,
              "#fb9f3a"
             ],
             [
              0.8888888888888888,
              "#fdca26"
             ],
             [
              1,
              "#f0f921"
             ]
            ],
            "type": "surface"
           }
          ],
          "table": [
           {
            "cells": {
             "fill": {
              "color": "#EBF0F8"
             },
             "line": {
              "color": "white"
             }
            },
            "header": {
             "fill": {
              "color": "#C8D4E3"
             },
             "line": {
              "color": "white"
             }
            },
            "type": "table"
           }
          ]
         },
         "layout": {
          "annotationdefaults": {
           "arrowcolor": "#2a3f5f",
           "arrowhead": 0,
           "arrowwidth": 1
          },
          "autotypenumbers": "strict",
          "coloraxis": {
           "colorbar": {
            "outlinewidth": 0,
            "ticks": ""
           }
          },
          "colorscale": {
           "diverging": [
            [
             0,
             "#8e0152"
            ],
            [
             0.1,
             "#c51b7d"
            ],
            [
             0.2,
             "#de77ae"
            ],
            [
             0.3,
             "#f1b6da"
            ],
            [
             0.4,
             "#fde0ef"
            ],
            [
             0.5,
             "#f7f7f7"
            ],
            [
             0.6,
             "#e6f5d0"
            ],
            [
             0.7,
             "#b8e186"
            ],
            [
             0.8,
             "#7fbc41"
            ],
            [
             0.9,
             "#4d9221"
            ],
            [
             1,
             "#276419"
            ]
           ],
           "sequential": [
            [
             0,
             "#0d0887"
            ],
            [
             0.1111111111111111,
             "#46039f"
            ],
            [
             0.2222222222222222,
             "#7201a8"
            ],
            [
             0.3333333333333333,
             "#9c179e"
            ],
            [
             0.4444444444444444,
             "#bd3786"
            ],
            [
             0.5555555555555556,
             "#d8576b"
            ],
            [
             0.6666666666666666,
             "#ed7953"
            ],
            [
             0.7777777777777778,
             "#fb9f3a"
            ],
            [
             0.8888888888888888,
             "#fdca26"
            ],
            [
             1,
             "#f0f921"
            ]
           ],
           "sequentialminus": [
            [
             0,
             "#0d0887"
            ],
            [
             0.1111111111111111,
             "#46039f"
            ],
            [
             0.2222222222222222,
             "#7201a8"
            ],
            [
             0.3333333333333333,
             "#9c179e"
            ],
            [
             0.4444444444444444,
             "#bd3786"
            ],
            [
             0.5555555555555556,
             "#d8576b"
            ],
            [
             0.6666666666666666,
             "#ed7953"
            ],
            [
             0.7777777777777778,
             "#fb9f3a"
            ],
            [
             0.8888888888888888,
             "#fdca26"
            ],
            [
             1,
             "#f0f921"
            ]
           ]
          },
          "colorway": [
           "#636efa",
           "#EF553B",
           "#00cc96",
           "#ab63fa",
           "#FFA15A",
           "#19d3f3",
           "#FF6692",
           "#B6E880",
           "#FF97FF",
           "#FECB52"
          ],
          "font": {
           "color": "#2a3f5f"
          },
          "geo": {
           "bgcolor": "white",
           "lakecolor": "white",
           "landcolor": "#E5ECF6",
           "showlakes": true,
           "showland": true,
           "subunitcolor": "white"
          },
          "hoverlabel": {
           "align": "left"
          },
          "hovermode": "closest",
          "mapbox": {
           "style": "light"
          },
          "paper_bgcolor": "white",
          "plot_bgcolor": "#E5ECF6",
          "polar": {
           "angularaxis": {
            "gridcolor": "white",
            "linecolor": "white",
            "ticks": ""
           },
           "bgcolor": "#E5ECF6",
           "radialaxis": {
            "gridcolor": "white",
            "linecolor": "white",
            "ticks": ""
           }
          },
          "scene": {
           "xaxis": {
            "backgroundcolor": "#E5ECF6",
            "gridcolor": "white",
            "gridwidth": 2,
            "linecolor": "white",
            "showbackground": true,
            "ticks": "",
            "zerolinecolor": "white"
           },
           "yaxis": {
            "backgroundcolor": "#E5ECF6",
            "gridcolor": "white",
            "gridwidth": 2,
            "linecolor": "white",
            "showbackground": true,
            "ticks": "",
            "zerolinecolor": "white"
           },
           "zaxis": {
            "backgroundcolor": "#E5ECF6",
            "gridcolor": "white",
            "gridwidth": 2,
            "linecolor": "white",
            "showbackground": true,
            "ticks": "",
            "zerolinecolor": "white"
           }
          },
          "shapedefaults": {
           "line": {
            "color": "#2a3f5f"
           }
          },
          "ternary": {
           "aaxis": {
            "gridcolor": "white",
            "linecolor": "white",
            "ticks": ""
           },
           "baxis": {
            "gridcolor": "white",
            "linecolor": "white",
            "ticks": ""
           },
           "bgcolor": "#E5ECF6",
           "caxis": {
            "gridcolor": "white",
            "linecolor": "white",
            "ticks": ""
           }
          },
          "title": {
           "x": 0.05
          },
          "xaxis": {
           "automargin": true,
           "gridcolor": "white",
           "linecolor": "white",
           "ticks": "",
           "title": {
            "standoff": 15
           },
           "zerolinecolor": "white",
           "zerolinewidth": 2
          },
          "yaxis": {
           "automargin": true,
           "gridcolor": "white",
           "linecolor": "white",
           "ticks": "",
           "title": {
            "standoff": 15
           },
           "zerolinecolor": "white",
           "zerolinewidth": 2
          }
         }
        },
        "title": {
         "text": "Bar Chart by Categorical Distance"
        },
        "xaxis": {
         "ticktext": [
          "1",
          "2",
          "5",
          "10",
          "20",
          "50",
          "100",
          "200",
          "300",
          "500",
          "700",
          "1000",
          "1200"
         ],
         "tickvals": [
          "1",
          "2",
          "5",
          "10",
          "20",
          "50",
          "100",
          "200",
          "300",
          "500",
          "700",
          "1000",
          "1200"
         ],
         "title": {
          "text": "Distance"
         }
        },
        "yaxis": {
         "title": {
          "text": "Dose Ratio"
         }
        }
       }
      }
     },
     "metadata": {},
     "output_type": "display_data"
    }
   ],
   "source": [
    "import pandas as pd\n",
    "import plotly.graph_objects as go\n",
    "import numpy as np\n",
    "\n",
    "# Charger les données depuis le fichier Excel\n",
    "data = pd.read_excel(\"../DB/All-at-once_DB.xlsx\", sheet_name='screen')\n",
    "\n",
    "def plot_categorical_bar_chart(data, particles, screens, cases, codes, thicknesses):\n",
    "    fig = go.Figure()\n",
    "\n",
    "    # Configuration des axes\n",
    "    x_title = 'Distance'\n",
    "    y_title = 'Dose Ratio'\n",
    "\n",
    "    # Obtenir les distances uniques comme chaînes de caractères\n",
    "    unique_distances = sorted(data['Distance (m)'].unique())\n",
    "    distance_labels = [str(dist) for dist in unique_distances]\n",
    "\n",
    "    # Créer des séries pour chaque combinaison unique\n",
    "    for particle in particles:\n",
    "        for screen in screens:\n",
    "            for case in cases:\n",
    "                for code in codes:\n",
    "                    for thickness in thicknesses:\n",
    "                        # Créer une clé unique pour chaque configuration\n",
    "                        unique_key = f\"{case} - {screen} - {thickness}cm - {particle} - {code}\"\n",
    "\n",
    "                        # Filtrer les données pour la configuration donnée\n",
    "                        data_screen = data[\n",
    "                            (data['Screen'] == screen) & \n",
    "                            (data['Thickness (cm)'] == thickness) &\n",
    "                            (data['Particle'] == particle) & \n",
    "                            (data['Case'] == case) & \n",
    "                            (data['Code'] == code)\n",
    "                        ]\n",
    "                        \n",
    "                        data_no_screen = data[\n",
    "                            (data['Screen'] == 'None') & \n",
    "                            (data['Particle'] == particle) & \n",
    "                            (data['Case'] == case) & \n",
    "                            (data['Code'] == code)\n",
    "                        ]\n",
    "\n",
    "                        # Trier par distance\n",
    "                        data_screen = data_screen.sort_values(by='Distance (m)')\n",
    "\n",
    "                        # Combiner les données pour calculer le ratio de dose\n",
    "                        data_combined = pd.merge(\n",
    "                            data_screen,\n",
    "                            data_no_screen,\n",
    "                            on='Distance (m)',\n",
    "                            suffixes=('_screen', '_none')\n",
    "                        )\n",
    "\n",
    "                        # Calcul du ratio de dose\n",
    "                        data_combined['Dose Ratio'] = data_combined['Dose (Gy)_screen'] / data_combined['Dose (Gy)_none']\n",
    "                        data_combined['Combined Uncertainty'] = data_combined['Dose Ratio'] * np.sqrt(\n",
    "                            data_combined['1s uncertainty_screen']**2 + \n",
    "                            data_combined['1s uncertainty_none']**2\n",
    "                        )\n",
    "\n",
    "                        # Créer des barres pour chaque distance unique\n",
    "                        bar_data = []\n",
    "\n",
    "                        for distance in unique_distances:\n",
    "                            subset = data_combined[data_combined['Distance (m)'] == distance]\n",
    "                            if not subset.empty:\n",
    "                                x_values = [str(distance)] * len(subset)  # Répéter la distance pour chaque point de données\n",
    "                                y_values = subset['Dose Ratio'].tolist()  # Liste des valeurs de ratio de dose\n",
    "                                uncertainties = subset['Combined Uncertainty'].tolist()  # Liste des incertitudes combinées\n",
    "                                for x, y, uncertainty in zip(x_values, y_values, uncertainties):\n",
    "                                    bar_data.append({\n",
    "                                        'x': [x],\n",
    "                                        'y': [y],\n",
    "                                        'error_y': {\n",
    "                                            'type': 'data',\n",
    "                                            'array': [2 * uncertainty],\n",
    "                                            'visible': True\n",
    "                                        },\n",
    "                                        'name': unique_key  # Utilisation de la clé unique comme nom de la série\n",
    "                                    })\n",
    "                        # Ajout des barres pour cette configuration unique\n",
    "                        fig.add_trace(\n",
    "                            go.Bar(\n",
    "                                x=[item['x'][0] for item in bar_data],  # Utilisation de 'pour' et non 'en'\n",
    "                                y=[item['y'][0] for item in bar_data],  # Correction de la syntaxe\n",
    "                                name=bar_data[0]['name'],  # Nom de la série unique\n",
    "                                error_y={\n",
    "                                    'type': 'data',\n",
    "                                    'array': [item['error_y']['array'][0] for item in bar_data],  # Correction\n",
    "                                    'visible': True, \n",
    "                                    'thickness': 1,\n",
    "                                }\n",
    "                            )\n",
    "                        )\n",
    "\n",
    "    # Configuration du layout\n",
    "    fig.update_layout(\n",
    "        title='Bar Chart by Categorical Distance',\n",
    "        xaxis=dict(\n",
    "            title=x_title,\n",
    "            tickvals=distance_labels,  # Utilisation des distances comme valeurs catégoriques\n",
    "            ticktext=distance_labels  # Texte des tickvals\n",
    "        ),\n",
    "        yaxis=dict(\n",
    "            title=y_title\n",
    "        ),\n",
    "        barmode='group'  # Pour que les barres soient groupées\n",
    "    )\n",
    "\n",
    "    # Affichage du graphique\n",
    "    fig.show()\n",
    "\n",
    "# Définition des paramètres et appel de la fonction\n",
    "particles = ['P']  # ['N', 'P']  \n",
    "screens = ['Lead'] # ['Concrete', 'Steel', 'Water', 'Lead']\n",
    "cases = ['C1 [U(4.95)O2F2 (H/235U = 410)]']  # ['C1 [U(4.95)O2F2 (H/235U = 410)]', 'C4 [U(93.2) (H/235U = 0)]']\n",
    "codes = ['MCNP 6.1']  #  ['MCNP 6.1', 'COG 11.2', 'SCALE 6.2.2']\n",
    "thicknesses = [5, 10, 20] # [1, 5, 10, 20]\n",
    "\n",
    "plot_categorical_bar_chart(data, particles, screens, cases, codes, thicknesses)\n"
   ]
  }
 ],
 "metadata": {
  "kernelspec": {
   "display_name": "Python 3",
   "language": "python",
   "name": "python3"
  },
  "language_info": {
   "codemirror_mode": {
    "name": "ipython",
    "version": 3
   },
   "file_extension": ".py",
   "mimetype": "text/x-python",
   "name": "python",
   "nbconvert_exporter": "python",
   "pygments_lexer": "ipython3",
   "version": "3.10.7"
  }
 },
 "nbformat": 4,
 "nbformat_minor": 2
}
